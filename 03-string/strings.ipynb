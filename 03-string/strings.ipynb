{
 "cells": [
  {
   "cell_type": "markdown",
   "metadata": {
    "id": "yNjDgOp_zIC4",
    "slideshow": {
     "slide_type": "slide"
    }
   },
   "source": [
    "## Python Strings\n",
    "- In python Strings are sequence of characters.\n",
    "- Strings in python are surrounded by either single quotes or double quotes.\n",
    "  - e.g. `'STRING'` or `\"STRING\"`\n",
    "\n",
    "- Uses of Strings Type:\n",
    "  - To record text information such as names.\n",
    "  - Strings comes heavily under natural language processing tasks.\n",
    "\n",
    "- Strings are ordered sequence because of 2 important characteristics:\n",
    "  1. `Order`: \n",
    "    - In string order of characters is important. E.g. hello != olleh\n",
    "    - The order of characters in a string determines its meaning and interpretation.\n",
    "\n",
    "  2. `Sequence`:\n",
    "    - A sequence is a collection of elements that are ordered and indexed. \n",
    "    - Strings are sequence, they consist of a sequence of individual characters.\n",
    "    - This allows you to access individual characters by their position within the string.\n",
    "\n",
    "- Being an ordered sequence, you can,\n",
    "  - Loop over the characters in String.\n",
    "  - Access specific characters using Indexing.\n",
    "  - Perform various other operations which will be discussed below.\n",
    "\n",
    "- In this lecture, we'll cover:  \n",
    "  1. Creating Strings\n",
    "  2. Concatenate Strings\n",
    "  3. Indexing Strings  \n",
    "  4. Slicing Strings  \n",
    "  5. Strings are immutable\n",
    "  6. String Methods  \n",
    "  7. String Formatting\n",
    "  8. Escape Characters\n",
    "  9. String Loop\n",
    "  10. String Exercise\n"
   ]
  },
  {
   "cell_type": "markdown",
   "metadata": {
    "id": "g-dXvAfN_cLz"
   },
   "source": [
    "**1. Creating Strings**\n",
    "- Single Line String can be created using:\n",
    "  - Single quotation ' '\n",
    "  - Double quotation \" \"\n",
    "\n",
    "- Muti Line String can be created using:\n",
    "  - Three Double Quotation (\" \" \")\n",
    "  - Three Single Quotation (' ' ')\n",
    "\n",
    "Multi Line Strings are mostly useful in creating Doc String. We will cover in function chapter in detail."
   ]
  },
  {
   "cell_type": "code",
   "execution_count": null,
   "metadata": {
    "colab": {
     "base_uri": "https://localhost:8080/"
    },
    "id": "dCs5UEaty2wu",
    "outputId": "c2d7118b-3249-4ae4-c8b5-f08d08aba9f3"
   },
   "outputs": [
    {
     "name": "stdout",
     "output_type": "stream",
     "text": [
      "Single Quotation String:  None\n",
      "Double Quotation String:  None\n"
     ]
    }
   ],
   "source": [
    "# create string using single and double quotation\n",
    "\n",
    "single_quot_str = None\n",
    "double_quot_str = None\n",
    "\n",
    "print(\"Single Quotation String: \", single_quot_str)\n",
    "print(\"Double Quotation String: \", double_quot_str)"
   ]
  },
  {
   "cell_type": "code",
   "execution_count": null,
   "metadata": {
    "id": "QhK3Qdp-g8Gc"
   },
   "outputs": [],
   "source": [
    "## use assert keyword \n",
    "# to check whether single_quot_str is equal to double_quot_str\n",
    "# Hint: assert condition, <failure_statement> \n"
   ]
  },
  {
   "cell_type": "code",
   "execution_count": null,
   "metadata": {
    "colab": {
     "base_uri": "https://localhost:8080/"
    },
    "id": "jHK69XViAbnU",
    "outputId": "ceba2c39-a6f3-403e-c818-9934323427d6"
   },
   "outputs": [
    {
     "name": "stdout",
     "output_type": "stream",
     "text": [
      "Multi Line String:\n",
      "None\n"
     ]
    }
   ],
   "source": [
    "# create multi line string using Three Double Quotation\n",
    "\n",
    "mult_double_str = None\n",
    "\n",
    "print(\"Multi Line String:\")\n",
    "print(mult_double_str)"
   ]
  },
  {
   "cell_type": "code",
   "execution_count": null,
   "metadata": {
    "colab": {
     "base_uri": "https://localhost:8080/"
    },
    "id": "Bs1nfLrkBETA",
    "outputId": "83b3dd61-58a1-4c55-b9ee-7e15e38c2666"
   },
   "outputs": [
    {
     "name": "stdout",
     "output_type": "stream",
     "text": [
      "Multi Line String:\n",
      "None\n"
     ]
    }
   ],
   "source": [
    "# create multi line string using Three Single Quotation\n",
    "\n",
    "mult_single_str = None\n",
    "\n",
    "print(\"Multi Line String:\")\n",
    "print(mult_single_str)"
   ]
  },
  {
   "cell_type": "markdown",
   "metadata": {
    "id": "dNTP5dJ3DBNG"
   },
   "source": [
    "`Q. Create a string named string_phrase and assign value **Hi I'm learning string creation.**`\n",
    "\n",
    "```\n",
    "output: **Hi I'm learning string creation.**\n",
    "```"
   ]
  },
  {
   "cell_type": "code",
   "execution_count": null,
   "metadata": {
    "id": "oyNhb-nZDmrY"
   },
   "outputs": [],
   "source": [
    "# your program goes here\n"
   ]
  },
  {
   "cell_type": "markdown",
   "metadata": {
    "id": "hkVdGYGfBj8u"
   },
   "source": [
    "**2. Concatenate Strings**\n",
    "- _To contenate (or combine) 2 or more strings, you can use `+` operator._\n",
    "\n",
    "`Q. Concatenate two string named a and b adding space in between.`  \n",
    "\n",
    "  ```\n",
    "  Input:  a = string,  b = concat  \n",
    "  Output: string concat \n",
    "\n",
    "  ```\n",
    "\n"
   ]
  },
  {
   "cell_type": "code",
   "execution_count": null,
   "metadata": {
    "colab": {
     "base_uri": "https://localhost:8080/",
     "height": 36
    },
    "id": "fv7SXjCBBM_T",
    "outputId": "05c5e6e2-4c84-4572-f7b1-aca3a3987b54"
   },
   "outputs": [
    {
     "data": {
      "application/vnd.google.colaboratory.intrinsic+json": {
       "type": "string"
      },
      "text/plain": [
       "'amish'"
      ]
     },
     "execution_count": 51,
     "metadata": {},
     "output_type": "execute_result"
    }
   ],
   "source": [
    "# write your program here\n"
   ]
  },
  {
   "cell_type": "markdown",
   "metadata": {
    "id": "XVyj8ExcCzKz"
   },
   "source": [
    "**3. Indexing Strings**  \n",
    "- Strings are sequence, this means Python can use indexes to call parts of the sequence.\n",
    "- `2 ways:`\n",
    "  - postive indexing\n",
    "  - negative indexing\n",
    "\n",
    "- `Syntax`\n",
    "```\n",
    "str[start:stop]         \n",
    "str[start:]             # items start through the rest of the string\n",
    "str[:stop]              # items from the beginning through stop-1\n",
    "str[:]                  # a copy of the whole string\n",
    "str[start:stop:step]    # start through not past stop, by step\n",
    "```\n",
    "\n",
    "<img src='https://drive.google.com/uc?id=14v_ajDViS7EZw5ljwrEQdIS2IKqJ7LHM' width='500'>"
   ]
  },
  {
   "cell_type": "markdown",
   "metadata": {
    "id": "B7ret7UgUBbc"
   },
   "source": [
    "`3.1 Positive Indexing`"
   ]
  },
  {
   "cell_type": "code",
   "execution_count": null,
   "metadata": {
    "colab": {
     "base_uri": "https://localhost:8080/"
    },
    "id": "XuVvuyaTGxib",
    "outputId": "f376f38b-fb7b-4c8a-ea5b-c57ad20e7b67"
   },
   "outputs": [
    {
     "name": "stdout",
     "output_type": "stream",
     "text": [
      "Michael Jackson\n"
     ]
    }
   ],
   "source": [
    "indexing_str = \"String Indexin\"\n",
    "print(indexing_str)"
   ]
  },
  {
   "cell_type": "code",
   "execution_count": null,
   "metadata": {
    "id": "bTjEPsI0CsNh"
   },
   "outputs": [],
   "source": [
    "# print first element (S) in the string\n"
   ]
  },
  {
   "cell_type": "code",
   "execution_count": null,
   "metadata": {
    "id": "YaqyMFbTGoLy"
   },
   "outputs": [],
   "source": [
    "# print third element (r) in the string\n"
   ]
  },
  {
   "cell_type": "code",
   "execution_count": null,
   "metadata": {
    "id": "cjCkgcYwGq-a"
   },
   "outputs": [],
   "source": [
    "# print 6th element (g) in the string\n"
   ]
  },
  {
   "cell_type": "code",
   "execution_count": null,
   "metadata": {
    "id": "FsSVnYU_Gug0"
   },
   "outputs": [],
   "source": [
    "# print last element (n) in the string\n"
   ]
  },
  {
   "cell_type": "markdown",
   "metadata": {
    "id": "sba8N05rG6nL"
   },
   "source": [
    "`3.2 Negative Indexing`"
   ]
  },
  {
   "cell_type": "code",
   "execution_count": null,
   "metadata": {
    "id": "rygUt4qyHAhw"
   },
   "outputs": [],
   "source": [
    "# print first item (S) using negative indexing\n"
   ]
  },
  {
   "cell_type": "code",
   "execution_count": null,
   "metadata": {
    "id": "ii1NPFj0HU8W"
   },
   "outputs": [],
   "source": [
    "# print last item (n) using negative indexing\n"
   ]
  },
  {
   "cell_type": "code",
   "execution_count": null,
   "metadata": {
    "id": "3mESOtxCHdVn"
   },
   "outputs": [],
   "source": [
    "# print 6th item (g) using negative indexing\n"
   ]
  },
  {
   "cell_type": "markdown",
   "metadata": {
    "id": "HX6EyDXzUp2b"
   },
   "source": [
    "**4. Slicing Strings**\n",
    "- We also have option to slice the string i.e. grab only some characters as per choice.\n",
    "- Example:\n",
    "  - slice first 2 characters: `St`\n",
    "  - slice first 6 characters: `String`\n",
    "  - slice last 7 characters: `Indexin`\n",
    "\n",
    "- Syntax: `str[start:stop:step]` \n",
    "\n",
    "<img src='https://drive.google.com/uc?id=1aurypokd7lIxlWW1XfigHl5r8BAFjN1k' width='500'>\n"
   ]
  },
  {
   "cell_type": "markdown",
   "metadata": {
    "id": "4ecEd7qKbDrN"
   },
   "source": [
    "`Case1: when step is positive `"
   ]
  },
  {
   "cell_type": "code",
   "execution_count": null,
   "metadata": {
    "id": "i7vRltujHhkH"
   },
   "outputs": [],
   "source": [
    "# slice first 3 characters using positive index\n"
   ]
  },
  {
   "cell_type": "code",
   "execution_count": null,
   "metadata": {
    "id": "ZLLZvj36bRUV"
   },
   "outputs": [],
   "source": [
    "# slice first 3 characters using negative index\n"
   ]
  },
  {
   "cell_type": "code",
   "execution_count": null,
   "metadata": {
    "id": "mKRvR8nJcNcP"
   },
   "outputs": [],
   "source": [
    "# get characters at even indexing\n",
    "# desired output: \"srn nei\"\n",
    "#\n",
    "# Hint: use step = 2\n"
   ]
  },
  {
   "cell_type": "markdown",
   "metadata": {
    "id": "SUh_MSDKbIfw"
   },
   "source": [
    "`Case2: when step is negative`"
   ]
  },
  {
   "cell_type": "code",
   "execution_count": null,
   "metadata": {
    "id": "SPeVM06jIDeI"
   },
   "outputs": [],
   "source": [
    "# slice first 3 characters using positive index\n"
   ]
  },
  {
   "cell_type": "code",
   "execution_count": null,
   "metadata": {
    "id": "Zj0YQ7rzcmwi"
   },
   "outputs": [],
   "source": [
    "# slice last 3 characters using negative index\n"
   ]
  },
  {
   "cell_type": "code",
   "execution_count": null,
   "metadata": {
    "id": "6Agf9MLeegB1"
   },
   "outputs": [],
   "source": [
    "# reverse string\n",
    "# output: \"nixednI gnirtS\"\n"
   ]
  },
  {
   "cell_type": "markdown",
   "metadata": {
    "id": "wQSSTW-0e2Vf"
   },
   "source": [
    "**5. Strings are immutable**\n",
    "- Strings have important property known as immutability.\n",
    "- This means, once string is created, the elements within it cannot be changed or replaced."
   ]
  },
  {
   "cell_type": "code",
   "execution_count": null,
   "metadata": {
    "id": "wZhnTTKXj1I3"
   },
   "outputs": [],
   "source": [
    "test_str = \"String Indexin\"\n",
    "\n",
    "# try to replace character \"S\" with \"s\"\n"
   ]
  },
  {
   "cell_type": "markdown",
   "metadata": {
    "id": "DRevno20kP5C"
   },
   "source": [
    "As we got error, This means we cannot change string once it's created."
   ]
  },
  {
   "cell_type": "markdown",
   "metadata": {
    "id": "FpBNxvVFkc53"
   },
   "source": [
    "**6. String Methods**\n",
    "- Methods are generally a function inside Class.\n",
    "\n",
    "`Confused? Don't worry it will be clear after function, and OOP class.`\n",
    "\n",
    "- You can list String methods using dir() function.\n",
    "  - str_demo = \"demo\" --> dir(str_demo)\n",
    "\n",
    "- methods are access using dot(.) operator with the method name.\n",
    "  - **object.method(parameters)**\n",
    "  - e.g. str_demo.upper()\n",
    "\n",
    "- `most common string methods are:`\n",
    "  - .upper() --> Upper Case a string\n",
    "  - .lower() --> Lower Case a string\n",
    "  - .split() --> Split a string at specified separator\n",
    "  - .strip() --> Return trimmed version of the string\n",
    "  - .replace() --> Returns a string where a specified value is replaced with a specified value\n",
    "  - .endswith() --> Returns True if the string ends with specified value\n",
    "  - .isdigit() --> Returns True if all characters in the string are digits\n",
    "\n",
    "\n"
   ]
  },
  {
   "cell_type": "code",
   "execution_count": null,
   "metadata": {
    "colab": {
     "base_uri": "https://localhost:8080/"
    },
    "id": "gQdO-zmLen4N",
    "outputId": "edc731e2-8762-4737-9ce3-41382d084f45"
   },
   "outputs": [
    {
     "name": "stdout",
     "output_type": "stream",
     "text": [
      "I am practicing String MEthod!!\n"
     ]
    }
   ],
   "source": [
    "# initialize sample string\n",
    "str_method = \"   I am practicing String MEthod!!\"\n",
    "print(str_method)"
   ]
  },
  {
   "cell_type": "code",
   "execution_count": null,
   "metadata": {
    "id": "k2ydi8DWgyY3"
   },
   "outputs": [],
   "source": [
    "# convert string to upper case\n",
    "# Hint: .upper()\n"
   ]
  },
  {
   "cell_type": "code",
   "execution_count": null,
   "metadata": {
    "id": "hwkBRK10g0QM"
   },
   "outputs": [],
   "source": [
    "# convert string to lower case\n",
    "# Hint: .lower()\n"
   ]
  },
  {
   "cell_type": "code",
   "execution_count": null,
   "metadata": {
    "id": "2Aem2vIpifRT"
   },
   "outputs": [],
   "source": [
    "# split string based on white space\n",
    "# Hint: .split()\n"
   ]
  },
  {
   "cell_type": "code",
   "execution_count": null,
   "metadata": {
    "id": "FamhC9_6ssNE"
   },
   "outputs": [],
   "source": [
    "# Replace \"am parcticing\" with \"have practiced\"\n",
    "# Hint: .string(to_replace_str, desired_str)\n"
   ]
  },
  {
   "cell_type": "code",
   "execution_count": null,
   "metadata": {
    "id": "K_XET_qUsu-K"
   },
   "outputs": [],
   "source": [
    "# Test if string end with \"!!\"\n",
    "# Hint: .endswith(\"!!\")\n"
   ]
  },
  {
   "cell_type": "code",
   "execution_count": null,
   "metadata": {
    "id": "NcnO5zWwtrQI"
   },
   "outputs": [],
   "source": [
    "# Test if all characters in the string are digits\n",
    "# Hint: .isdigit()\n"
   ]
  },
  {
   "cell_type": "code",
   "execution_count": null,
   "metadata": {
    "id": "4biZcfxft67B"
   },
   "outputs": [],
   "source": [
    "# remove starting white space\n",
    "# Hint: .strip()\n"
   ]
  },
  {
   "cell_type": "markdown",
   "metadata": {
    "id": "j0NWWDPBupxm"
   },
   "source": [
    "**7. String Formatting**  \n",
    "- String formatting is the process of inserting  a custom string or variable in predefined text.\n",
    "\n",
    "```\n",
    "Q. Input name and age of user, and print message \"Hello <user_name>. Your age is <user_age>.\"\n",
    "\n",
    "Example: \n",
    "    - user_name = xyz\n",
    "    - user_age = 20\n",
    "    - Output: Hello xyz. Your age is 20.\n",
    "```"
   ]
  },
  {
   "cell_type": "code",
   "execution_count": null,
   "metadata": {
    "id": "M3V3vFfluiSI"
   },
   "outputs": [],
   "source": [
    "# get input from user\n",
    "\n",
    "user_name = None\n",
    "user_age = None"
   ]
  },
  {
   "cell_type": "code",
   "execution_count": null,
   "metadata": {
    "id": "p3FJCv3YciDg"
   },
   "outputs": [],
   "source": [
    "# Display message using String Concatenation (+) operators\n"
   ]
  },
  {
   "cell_type": "markdown",
   "metadata": {
    "id": "D4eYeBHQdtp9"
   },
   "source": [
    "`format():`\n",
    "  - we can combine string and number using format() method.\n",
    "\n",
    "```\n",
    "Example: \n",
    "  Given, age = 20\n",
    "  to_display: Your age is 20\n",
    "\n",
    "  code: \n",
    "    Approach1: \"Your age is {}\".format(age), or   \n",
    "    Approach2: \"Your age is {0}\".format(age)\n",
    "```"
   ]
  },
  {
   "cell_type": "code",
   "execution_count": null,
   "metadata": {
    "id": "Jc8-6Fnfc-th"
   },
   "outputs": [],
   "source": [
    "# Display message using format() method\n",
    "# use Approach 1\n"
   ]
  },
  {
   "cell_type": "code",
   "execution_count": null,
   "metadata": {
    "id": "njnLKOE_exFP"
   },
   "outputs": [],
   "source": [
    "# Display message using format() method\n",
    "# use Approach 2\n"
   ]
  },
  {
   "cell_type": "markdown",
   "metadata": {
    "id": "qfGWtuucfv0K"
   },
   "source": [
    "`Formatted String or f-Strings`\n",
    "- A formatted String is a String that is prefixed with `f` or `F`.\n",
    "- `f-strings` are the recommended way to format strings, if you are using Python 3.6 or above.\n",
    "```\n",
    "Example: \n",
    "  Given, age = 20\n",
    "  to_display: Your age is 20\n",
    "\n",
    "  code: \n",
    "    f-string appraoch: f\"Your age is {age}\"\n",
    "``` "
   ]
  },
  {
   "cell_type": "code",
   "execution_count": null,
   "metadata": {
    "id": "gUuGLf9Rfgii"
   },
   "outputs": [],
   "source": [
    "# Display message using f-string \n",
    "#\n",
    "# to_dispay: input user name and age, and \n",
    "# print \"Hi <user_name>. Your age is <user_age>\"\n"
   ]
  },
  {
   "cell_type": "markdown",
   "metadata": {
    "id": "zf_lUWj6qH_h"
   },
   "source": [
    "**8. Escape Characters:**\n",
    "- An escape character is a backslash `\\` followed by the characters you want to insert.\n",
    "- Use escape characters, to insert characters that are illegal in string.\n",
    "\n",
    "- `Different Escape Characters are:`\n",
    "  - Single Quote:     \\\\'\t\n",
    "  - Double Quote:     \\\\\"\n",
    "  - Backslash:        \\\\\\\t \t\n",
    "  - New Line:         \\n\t   \n",
    "  - Tab:              \\t   \n",
    "\n",
    "`Q. How to insert single quotation character in a string created using single quotation? `\n"
   ]
  },
  {
   "cell_type": "code",
   "execution_count": null,
   "metadata": {
    "id": "vULu9tVTqHoX"
   },
   "outputs": [],
   "source": [
    "# write your program here\n"
   ]
  },
  {
   "cell_type": "code",
   "execution_count": null,
   "metadata": {
    "id": "jb_mCEF33j7_"
   },
   "outputs": [],
   "source": [
    "# Experiment with Backslash Escape character\n",
    "\n"
   ]
  },
  {
   "cell_type": "code",
   "execution_count": null,
   "metadata": {
    "id": "rMdE8YAhmZVq"
   },
   "outputs": [],
   "source": [
    "# Experiment with newline escape character\n",
    "# \\n\n"
   ]
  },
  {
   "cell_type": "code",
   "execution_count": null,
   "metadata": {
    "id": "Liptvr8q38PE"
   },
   "outputs": [],
   "source": [
    "# experiment with tab escape character\n",
    "# \\t\n"
   ]
  },
  {
   "cell_type": "markdown",
   "metadata": {
    "id": "ylMy1seG4Nmk"
   },
   "source": [
    "**9. String Loop**\n",
    "- It is possible to loop through characters present in the string.\n",
    "\n",
    "- `Loop:`\n",
    "  - Loop is used for iterating over a sequence.\n",
    "  - string is sequence of characters we can loop through string.\n",
    "  - Python provides `for` keyword for loop (also called for loop).\n",
    "\n",
    "\n",
    "Let's find length of string and print each characters in String using loop.\n"
   ]
  },
  {
   "cell_type": "markdown",
   "metadata": {
    "id": "I_fTH2Xa7qGY"
   },
   "source": [
    "`i). find length of string:`  \n",
    "\n",
    "Hint: use len() function\n",
    "\n",
    "\n",
    "\n"
   ]
  },
  {
   "cell_type": "code",
   "execution_count": null,
   "metadata": {
    "id": "qn6B5hB_4AC0"
   },
   "outputs": [],
   "source": [
    "# define string\n",
    "# find string length\n",
    "#\n",
    "# Hint: len(str)\n"
   ]
  },
  {
   "cell_type": "markdown",
   "metadata": {
    "id": "ykUhrPey8Tcn"
   },
   "source": [
    "`ii). Loop through a String`\n",
    "\n"
   ]
  },
  {
   "cell_type": "code",
   "execution_count": null,
   "metadata": {
    "id": "s5rdofv48DmP"
   },
   "outputs": [],
   "source": [
    "# define string \n",
    "# loop through string\n"
   ]
  },
  {
   "cell_type": "code",
   "execution_count": null,
   "metadata": {
    "id": "W1DNBjlDPzJz"
   },
   "outputs": [],
   "source": []
  },
  {
   "cell_type": "markdown",
   "metadata": {
    "id": "y2ezp952N--4"
   },
   "source": [
    "**10. String Exercise**\n",
    "\n",
    "`Q.1 Use the len method to print the length of string.`\n",
    "\n",
    "`Q.2 Print length of String without using len function.`\n",
    "\n",
    "`Q.3 Write python program to print vowel and consonants on the given string.`\n",
    "\n",
    "`Q.4 Write a python program to extract first and last 2 character into new string.` \n",
    " - example:\n",
    "  - input_string = \"my name is xyz\"\n",
    "  - output_string = \"myyz\"\n",
    "\n",
    "`Q.5 Write a python program to get a single string from two given strings, separated by a space and swap the first two characters of each string.`\n",
    "\n",
    "  - example:\n",
    "    - first_string = \"first\"\n",
    "    - second_string = \"second\"\n",
    "    - output_string = \"serst ficond\"\n",
    "  \n",
    "`Q.6 Write a python program to remove the nth index character from a nonempty string. Ask user to input non-empty string, and index`\n",
    "\n",
    "  - example:\n",
    "    - non_empty_str = \"hello world\"\n",
    "    - index_to_remove = 3\n",
    "\n",
    "    - output_str = \"helo world\""
   ]
  },
  {
   "cell_type": "code",
   "execution_count": null,
   "metadata": {
    "id": "mFGU3p6VRIHo"
   },
   "outputs": [],
   "source": []
  }
 ],
 "metadata": {
  "celltoolbar": "Slideshow",
  "colab": {
   "provenance": []
  },
  "kernelspec": {
   "display_name": "Python 3 (ipykernel)",
   "language": "python",
   "name": "python3"
  },
  "language_info": {
   "codemirror_mode": {
    "name": "ipython",
    "version": 3
   },
   "file_extension": ".py",
   "mimetype": "text/x-python",
   "name": "python",
   "nbconvert_exporter": "python",
   "pygments_lexer": "ipython3",
   "version": "3.8.10"
  }
 },
 "nbformat": 4,
 "nbformat_minor": 1
}
