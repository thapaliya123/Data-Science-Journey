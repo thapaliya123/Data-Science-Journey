{
  "cells": [
    {
      "cell_type": "markdown",
      "metadata": {
        "id": "MvglpuaaLqhj"
      },
      "source": [
        "## Conditions and Branching.\n",
        "- `if`, `elif`, `else` keywords are used to accomplish conditions and branching in python.\n",
        "\n",
        "  ```\n",
        "  if case1:\n",
        "      perform action1\n",
        "    \n",
        "  elif case2:\n",
        "      perform action2\n",
        "\n",
        "  else:\n",
        "      perform action3\n",
        "  ```\n",
        "\n",
        "- Different comparison operators shown below, can be used with if statements.\n",
        "  - `Equals: a == b`\n",
        "  - `Not Equals: a != b`\n",
        "  - `Less than: a < b`\n",
        "  - `Less than or equal to: a <= b`\n",
        "  - `Greater than: a > b`\n",
        "  - `Greater than or equal to: a >= b`\n",
        "\n",
        "  ```\n",
        "  if a > b:\n",
        "      print(\"a is greater than b\")\n",
        "\n",
        "  elif a == b:\n",
        "      print(\"a is equal to b\")\n",
        "\n",
        "  else:\n",
        "      print(\"a is less than b\")\n",
        "  ```\n",
        "\n",
        "- In this lecture we'll cover:\n",
        "  - if statement: How program enters if block.\n",
        "  - Simple if else statements.\n",
        "  - Nested if else statements.\n",
        "  - Short Hand if....else statements / Ternary Operators\n",
        "  - pass keyword"
      ]
    },
    {
      "cell_type": "markdown",
      "metadata": {
        "id": "I6S9Qqz8QS4v"
      },
      "source": [
        "##1. if statement: How python program enters if blocks?\n",
        "\n",
        "`Hint: when if conditions is True`\n",
        "\n",
        "```\n",
        "if True:\n",
        "  print(\"if block goes here\")\n",
        "\n",
        "if False:\n",
        "  print(\"if block goes here\")\n",
        "```"
      ]
    },
    {
      "cell_type": "code",
      "execution_count": 1,
      "metadata": {
        "id": "ezC-IIvtKzzI"
      },
      "outputs": [
        {
          "name": "stdout",
          "output_type": "stream",
          "text": [
            "if block goes here\n"
          ]
        }
      ],
      "source": [
        "# explain here\n",
        "\n",
        "\n",
        "if True:\n",
        "  print(\"if block goes here\")\n",
        "\n",
        "\n",
        "if False:\n",
        "  print(\"If block goes here\")"
      ]
    },
    {
      "cell_type": "markdown",
      "metadata": {
        "id": "9WXagrx5QyYk"
      },
      "source": [
        "- Python relies on Indentation (whitespace at the beginning of a line)\n",
        "  - Other programming languages often use curly-brackets for this purpose."
      ]
    },
    {
      "cell_type": "markdown",
      "metadata": {
        "id": "2idqIUn0RC5t"
      },
      "source": [
        "`Q.Try if statement without Indentation.`"
      ]
    },
    {
      "cell_type": "code",
      "execution_count": 2,
      "metadata": {
        "id": "TmMELBr8RCXv"
      },
      "outputs": [
        {
          "ename": "IndentationError",
          "evalue": "expected an indented block (833065042.py, line 3)",
          "output_type": "error",
          "traceback": [
            "\u001b[0;36m  Cell \u001b[0;32mIn[2], line 3\u001b[0;36m\u001b[0m\n\u001b[0;31m    print(\"if block statement\")\u001b[0m\n\u001b[0m    ^\u001b[0m\n\u001b[0;31mIndentationError\u001b[0m\u001b[0;31m:\u001b[0m expected an indented block\n"
          ]
        }
      ],
      "source": [
        "# write your program here.\n",
        "if True:\n",
        "print(\"if block statement\")"
      ]
    },
    {
      "cell_type": "markdown",
      "metadata": {
        "id": "FRm1t1k7Ru6D"
      },
      "source": [
        "_`if statement, without indentation (will raise an error)`_\n",
        "\n",
        "\n",
        "\n"
      ]
    },
    {
      "cell_type": "markdown",
      "metadata": {
        "id": "4XRlodbLU1bU"
      },
      "source": [
        "##2. Simple if else statements\n",
        "- Generally, if statement has an optional elif, else clause.\n",
        "- **syntax 1**\n",
        "\n",
        "  ```\n",
        "  if condition:\n",
        "      # block of code if condition is True\n",
        "  \n",
        "  else:\n",
        "      # block of code if condition is False\n",
        "  ```\n",
        "\n",
        "- **syntax 2**\n",
        "\n",
        "  ```\n",
        "  if condition1:\n",
        "      # code block 1\n",
        "  \n",
        "  elif condition2:\n",
        "      # code block 2\n",
        "\n",
        "  else:\n",
        "      # code block 3\n",
        "  ```\n",
        "\n",
        "\n",
        " **Q1. Input number from user. print \"postive number\" if number is positive else print \"negative number. Consider 0 as positive as well.\"**\n",
        "\n"
      ]
    },
    {
      "cell_type": "code",
      "execution_count": 3,
      "metadata": {
        "id": "_M417gwzRKmf"
      },
      "outputs": [
        {
          "name": "stdout",
          "output_type": "stream",
          "text": [
            "your number is positive\n"
          ]
        }
      ],
      "source": [
        " ## write your program here\n",
        "\n",
        "user_input = float(input(\"enter any number: \"))\n",
        "\n",
        "\n",
        "if user_input >= 0:\n",
        "  print(\"your number is positive\")\n",
        "\n",
        "else:\n",
        "  print(\"your number is negative\")"
      ]
    },
    {
      "cell_type": "markdown",
      "metadata": {
        "id": "vX4GOQeDXtDv"
      },
      "source": [
        "**Q2. Input two numbers num1, and num2 from user,**\n",
        "  - _**if num1 > num2: print \"num1 > num2\"**_\n",
        "  - _**if num1 == num2: print \"num1 = num2\"**_\n",
        "  - _**if num1 < num2: print \"num1 < num2\"**_"
      ]
    },
    {
      "cell_type": "code",
      "execution_count": 4,
      "metadata": {
        "id": "3N7MZiOpXsG2"
      },
      "outputs": [
        {
          "name": "stdout",
          "output_type": "stream",
          "text": [
            "num1 == num2\n"
          ]
        }
      ],
      "source": [
        "## write your program here\n",
        "num1 = 3\n",
        "num2 = 3\n",
        "\n",
        "if num1 > num2:\n",
        "  print(\"num1 > num2\")\n",
        "\n",
        "elif num1 == num2:\n",
        "  print(\"num1 == num2\")\n",
        "\n",
        "else:\n",
        "  print(\"num1 < num2\")"
      ]
    },
    {
      "cell_type": "markdown",
      "metadata": {
        "id": "CZLxsunEYuDY"
      },
      "source": [
        "##3. Nested if else statements.\n",
        "- if or else statements inside if or else statements.\n",
        "\n",
        "- **Syntax:**\n",
        "  ```\n",
        "  if condition1:\n",
        "    if condition:\n",
        "      # code block\n",
        "    else:\n",
        "      # code block\n",
        "\n",
        "  elif condition2:\n",
        "    if condition:\n",
        "      # code block\n",
        "    else:\n",
        "      # code block\n",
        "  \n",
        "  :::::::::::::::::\n",
        "  :::::::::::::::::\n",
        "\n",
        "  else:\n",
        "    if condition:\n",
        "      # code block\n",
        "\n",
        "    elif condition:\n",
        "      # code block\n",
        "    else:\n",
        "      # code block\n",
        "  ```"
      ]
    },
    {
      "cell_type": "markdown",
      "metadata": {
        "id": "k1-Yny8Yeezg"
      },
      "source": [
        "**Q. Write a python program to find max of three numbers.**\n",
        "\n",
        "```\n",
        "Given three numbers num1, num2, num3\n",
        "\n",
        "if num1 > num2:\n",
        "  if num1 > num3:\n",
        "    print(f\"max number: {num1}\")\n",
        "  else:\n",
        "    print(f\"max number: {num3}\")\n",
        "\n",
        "\n",
        "else:\n",
        "  if num2 > num3:\n",
        "    print(f\"max number: {num2}\")\n",
        "  else:\n",
        "    print(f\"max number: {num3}\")\n",
        "```\n",
        "\n",
        "\n",
        "\n"
      ]
    },
    {
      "cell_type": "code",
      "execution_count": 5,
      "metadata": {
        "id": "2Kr8jw0GYizG"
      },
      "outputs": [
        {
          "name": "stdout",
          "output_type": "stream",
          "text": [
            "num3 is max\n"
          ]
        }
      ],
      "source": [
        "## write your program here\n",
        "## write your program here\n",
        "\n",
        "num1 = 3\n",
        "num2 = 4\n",
        "num3 = 5\n",
        "\n",
        "\n",
        "\n",
        "if num1 > num3:\n",
        "    if num1 > num2:\n",
        "        print('num1 is max')\n",
        "    else:\n",
        "        print(\"num2 is max\")\n",
        "\n",
        "else:\n",
        "    if num3 > num2:\n",
        "        print(\"num3 is max\")\n",
        "\n",
        "    else:\n",
        "        print(\"num2 is max\")\n"
      ]
    },
    {
      "cell_type": "markdown",
      "metadata": {
        "id": "xAEwKbyj2pTz"
      },
      "source": [
        "##4. Short Hand if...else statements / Ternary Operators\n",
        "- It is way of writing if else statement in a single line of code.\n",
        "- Also, called Ternary operators.\n",
        "- **Syntax (simple if else)**\n",
        "\n",
        "  `<if_block> if <condition>  else  <else_block> `\n",
        "\n",
        "\n",
        "- **Syntax (nested simple if else)**\n",
        "\n",
        "  `(<code_block> if <condition> else <code_block>)` **if**  < if_condition >\n",
        "   **else** `(<code_block> if <condition> else <code_block>)`\n",
        "\n",
        "\n",
        "\n",
        "   **Q1. Write a python program to print max of 2 numbers using ternary operator.**\n",
        "\n",
        "      ```\n",
        "      Input: a = 20, b = 30\n",
        "      Output: Max number is 30\n",
        "      ```\n"
      ]
    },
    {
      "cell_type": "code",
      "execution_count": 6,
      "metadata": {
        "id": "En4idN1K2mbm"
      },
      "outputs": [
        {
          "name": "stdout",
          "output_type": "stream",
          "text": [
            "b is greater\n"
          ]
        }
      ],
      "source": [
        "## write your program here\n",
        "a = 20\n",
        "b = 30\n",
        "\n",
        "print('a is greater') if a > b else print('b is greater')"
      ]
    },
    {
      "cell_type": "markdown",
      "metadata": {
        "id": "HlaAYU6T6V1x"
      },
      "source": [
        "**Q2. Write a python program to print max of 3 numbers using ternary operator.**\n",
        "\n"
      ]
    },
    {
      "cell_type": "code",
      "execution_count": 7,
      "metadata": {
        "id": "ky0kf5MB6eet"
      },
      "outputs": [
        {
          "name": "stdout",
          "output_type": "stream",
          "text": [
            "4\n"
          ]
        }
      ],
      "source": [
        "## write your program here\n",
        "# max between three numbers\n",
        "\n",
        "num1 = 2\n",
        "num2 = 3\n",
        "num3 = 4\n",
        "\n",
        "(print(num1) if num1 > num3 else print(num3))if num1>num2 else (print(num2) if num2>num3 else print(num3))"
      ]
    },
    {
      "cell_type": "markdown",
      "metadata": {
        "id": "RQrLzpAA6sh8"
      },
      "source": [
        "## 5. Pass Keyword\n",
        "- `pass` keyword acts as a placeholder for code to be added in if..else block.\n",
        "\n",
        "- **Use case**\n",
        "  - consider case, when you want to determine your python code structure in advance before adding actual code.\n",
        "\n",
        "- **Syntax:**\n",
        "\n",
        "  ```\n",
        "  if <condition>:\n",
        "    pass\n",
        "  else <condition>:\n",
        "    pass\n",
        "  ```"
      ]
    },
    {
      "cell_type": "code",
      "execution_count": null,
      "metadata": {
        "id": "m_zFUnMs65_C"
      },
      "outputs": [],
      "source": [
        "## write your program using \"pass\" keyword\n",
        "if True:\n",
        "  pass\n",
        "\n",
        "else:\n",
        "  pass\n"
      ]
    },
    {
      "cell_type": "code",
      "execution_count": null,
      "metadata": {
        "id": "5YevCD5V8TkF"
      },
      "outputs": [],
      "source": []
    },
    {
      "cell_type": "markdown",
      "metadata": {
        "id": "j5rQsUXT8hn7"
      },
      "source": [
        "\n",
        "<hr>\n",
        "<h2>Congratulations, you have completed your hands-on lab in Python Conditions and Branching.\n",
        "<hr>\n"
      ]
    }
  ],
  "metadata": {
    "colab": {
      "provenance": []
    },
    "kernelspec": {
      "display_name": "Python 3",
      "name": "python3"
    },
    "language_info": {
      "codemirror_mode": {
        "name": "ipython",
        "version": 3
      },
      "file_extension": ".py",
      "mimetype": "text/x-python",
      "name": "python",
      "nbconvert_exporter": "python",
      "pygments_lexer": "ipython3",
      "version": "3.8.10"
    }
  },
  "nbformat": 4,
  "nbformat_minor": 0
}
