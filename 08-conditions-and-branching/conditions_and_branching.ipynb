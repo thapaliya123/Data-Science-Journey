{
  "nbformat": 4,
  "nbformat_minor": 0,
  "metadata": {
    "colab": {
      "provenance": []
    },
    "kernelspec": {
      "name": "python3",
      "display_name": "Python 3"
    },
    "language_info": {
      "name": "python"
    }
  },
  "cells": [
    {
      "cell_type": "markdown",
      "source": [
        "## Conditions and Branching.\n",
        "- `if`, `elif`, `else` keywords are used to accomplish conditions and branching in python.\n",
        "\n",
        "  ```\n",
        "  if case1:\n",
        "      perform action1\n",
        "    \n",
        "  elif case2:\n",
        "      perform action2\n",
        "\n",
        "  else:\n",
        "      perform action3\n",
        "  ```\n",
        "\n",
        "- Different comparison operators shown below, can be used with if statements.\n",
        "  - `Equals: a == b`\n",
        "  - `Not Equals: a != b`\n",
        "  - `Less than: a < b`\n",
        "  - `Less than or equal to: a <= b`\n",
        "  - `Greater than: a > b`\n",
        "  - `Greater than or equal to: a >= b`\n",
        "\n",
        "  ```\n",
        "  if a > b:\n",
        "      print(\"a is greater than b\")\n",
        "\n",
        "  elif a == b:\n",
        "      print(\"a is equal to b\")\n",
        "\n",
        "  else:\n",
        "      print(\"a is less than b\")\n",
        "  ```\n",
        "\n",
        "- In this lecture we'll cover:\n",
        "  - if statement: How program enters if block.\n",
        "  - Simple if else statements.\n",
        "  - Nested if else statements.\n",
        "  - Short Hand if....else statements / Ternary Operators\n",
        "  - pass keyword"
      ],
      "metadata": {
        "id": "MvglpuaaLqhj"
      }
    },
    {
      "cell_type": "markdown",
      "source": [
        "##1. if statement: How python program enters if blocks?\n",
        "\n",
        "`Hint: when if conditions is True`\n",
        "\n",
        "```\n",
        "if True:\n",
        "  print(\"if block goes here\")\n",
        "\n",
        "if False:\n",
        "  print(\"if block goes here\")\n",
        "```"
      ],
      "metadata": {
        "id": "I6S9Qqz8QS4v"
      }
    },
    {
      "cell_type": "code",
      "execution_count": null,
      "metadata": {
        "id": "ezC-IIvtKzzI"
      },
      "outputs": [],
      "source": [
        "# explain here\n"
      ]
    },
    {
      "cell_type": "markdown",
      "source": [
        "- Python relies on Indentation (whitespace at the beginning of a line)\n",
        "  - Other programming languages often use curly-brackets for this purpose."
      ],
      "metadata": {
        "id": "9WXagrx5QyYk"
      }
    },
    {
      "cell_type": "markdown",
      "source": [
        "`Q.Try if statement without Indentation.`"
      ],
      "metadata": {
        "id": "2idqIUn0RC5t"
      }
    },
    {
      "cell_type": "code",
      "source": [
        "# write your program here.\n"
      ],
      "metadata": {
        "id": "TmMELBr8RCXv"
      },
      "execution_count": null,
      "outputs": []
    },
    {
      "cell_type": "markdown",
      "source": [
        "_`if statement, without indentation (will raise an error)`_\n",
        "\n",
        "\n",
        "\n"
      ],
      "metadata": {
        "id": "FRm1t1k7Ru6D"
      }
    },
    {
      "cell_type": "markdown",
      "source": [
        "##2. Simple if else statements\n",
        "- Generally, if statement has an optional elif, else clause.\n",
        "- **syntax 1**\n",
        "\n",
        "  ```\n",
        "  if condition:\n",
        "      # block of code if condition is True\n",
        "  \n",
        "  else:\n",
        "      # block of code if condition is False\n",
        "  ```\n",
        "\n",
        "- **syntax 2**\n",
        "\n",
        "  ```\n",
        "  if condition1:\n",
        "      # code block 1\n",
        "  \n",
        "  elif condition2:\n",
        "      # code block 2\n",
        "\n",
        "  else:\n",
        "      # code block 3\n",
        "  ```\n",
        "\n",
        "\n",
        " **Q1. Input number from user. print \"postive number\" if number is positive else print \"negative number. Consider 0 as positive as well.\"**\n",
        "\n"
      ],
      "metadata": {
        "id": "4XRlodbLU1bU"
      }
    },
    {
      "cell_type": "code",
      "source": [
        " ## write your program here\n",
        ""
      ],
      "metadata": {
        "id": "_M417gwzRKmf"
      },
      "execution_count": null,
      "outputs": []
    },
    {
      "cell_type": "markdown",
      "source": [
        "**Q2. Input two numbers num1, and num2 from user,**\n",
        "  - _**if num1 > num2: print \"num1 > num2\"**_\n",
        "  - _**if num1 == num2: print \"num1 = num2\"**_\n",
        "  - _**if num1 < num2: print \"num1 < num2\"**_"
      ],
      "metadata": {
        "id": "vX4GOQeDXtDv"
      }
    },
    {
      "cell_type": "code",
      "source": [
        "## write your program here\n"
      ],
      "metadata": {
        "id": "3N7MZiOpXsG2"
      },
      "execution_count": null,
      "outputs": []
    },
    {
      "cell_type": "markdown",
      "source": [
        "##3. Nested if else statements.\n",
        "- if or else statements inside if or else statements.\n",
        "\n",
        "- **Syntax:**\n",
        "  ```\n",
        "  if condition1:\n",
        "    if condition:\n",
        "      # code block\n",
        "    else:\n",
        "      # code block\n",
        "\n",
        "  elif condition2:\n",
        "    if condition:\n",
        "      # code block\n",
        "    else:\n",
        "      # code block\n",
        "  \n",
        "  :::::::::::::::::\n",
        "  :::::::::::::::::\n",
        "\n",
        "  else:\n",
        "    if condition:\n",
        "      # code block\n",
        "\n",
        "    elif condition:\n",
        "      # code block\n",
        "    else:\n",
        "      # code block\n",
        "  ```"
      ],
      "metadata": {
        "id": "CZLxsunEYuDY"
      }
    },
    {
      "cell_type": "markdown",
      "source": [
        "**Q. Write a python program to find max of three numbers.**\n",
        "\n",
        "```\n",
        "Given three numbers num1, num2, num3\n",
        "\n",
        "if num1 > num2:\n",
        "  if num1 > num3:\n",
        "    print(f\"max number: {num1}\")\n",
        "  else:\n",
        "    print(f\"max number: {num3}\")\n",
        "\n",
        "\n",
        "else:\n",
        "  if num2 > num3:\n",
        "    print(f\"max number: {num2}\")\n",
        "  else:\n",
        "    print(f\"max number: {num3}\")\n",
        "```\n",
        "\n",
        "\n",
        "\n"
      ],
      "metadata": {
        "id": "k1-Yny8Yeezg"
      }
    },
    {
      "cell_type": "code",
      "source": [
        "## write your program here\n"
      ],
      "metadata": {
        "id": "2Kr8jw0GYizG"
      },
      "execution_count": null,
      "outputs": []
    },
    {
      "cell_type": "markdown",
      "source": [
        "##4. Short Hand if...else statements / Ternary Operators\n",
        "- It is way of writing if else statement in a single line of code.\n",
        "- Also, called Ternary operators.\n",
        "- **Syntax (simple if else)**\n",
        "\n",
        "  `<if_block> if <condition>  else  <else_block> `\n",
        "\n",
        "\n",
        "- **Syntax (nested simple if else)**\n",
        "\n",
        "  `(<code_block> if <condition> else <code_block>)` **if**  < if_condition >\n",
        "   **else** `(<code_block> if <condition> else <code_block>)`\n",
        "\n",
        "\n",
        "\n",
        "   **Q1. Write a python program to print max of 2 numbers using ternary operator.**\n",
        "\n",
        "      ```\n",
        "      Input: a = 20, b = 30\n",
        "      Output: Max number is 30\n",
        "      ```\n"
      ],
      "metadata": {
        "id": "xAEwKbyj2pTz"
      }
    },
    {
      "cell_type": "code",
      "source": [
        "## write your program here\n"
      ],
      "metadata": {
        "id": "En4idN1K2mbm"
      },
      "execution_count": null,
      "outputs": []
    },
    {
      "cell_type": "markdown",
      "source": [
        "**Q2. Write a python program to print max of 3 numbers using ternary operator.**\n",
        "\n"
      ],
      "metadata": {
        "id": "HlaAYU6T6V1x"
      }
    },
    {
      "cell_type": "code",
      "source": [
        "## write your program here\n"
      ],
      "metadata": {
        "id": "ky0kf5MB6eet"
      },
      "execution_count": null,
      "outputs": []
    },
    {
      "cell_type": "code",
      "source": [
        "# max between three numbers\n",
        "num1 = 2\n",
        "num2 = 3\n",
        "num3 = 4\n",
        "\n",
        "(print(num1) if num1 > num3 else print(num3))if num1>num2 else (print(num2) if num2>num3 else print(num3))"
      ],
      "metadata": {
        "id": "1Q3614zi3iJc"
      },
      "execution_count": null,
      "outputs": []
    },
    {
      "cell_type": "markdown",
      "source": [
        "## 5. Pass Keyword\n",
        "- `pass` keyword acts as a placeholder for code to be added in if..else block.\n",
        "\n",
        "- **Use case**\n",
        "  - consider case, when you want to determine your python code structure in advance before adding actual code.\n",
        "\n",
        "- **Syntax:**\n",
        "\n",
        "  ```\n",
        "  if <condition>:\n",
        "    pass\n",
        "  else <condition>:\n",
        "    pass\n",
        "  ```"
      ],
      "metadata": {
        "id": "RQrLzpAA6sh8"
      }
    },
    {
      "cell_type": "code",
      "source": [
        "## write your program using \"pass\" keyword\n",
        "\n"
      ],
      "metadata": {
        "id": "m_zFUnMs65_C"
      },
      "execution_count": null,
      "outputs": []
    },
    {
      "cell_type": "code",
      "source": [],
      "metadata": {
        "id": "5YevCD5V8TkF"
      },
      "execution_count": null,
      "outputs": []
    },
    {
      "cell_type": "markdown",
      "source": [
        "\n",
        "<hr>\n",
        "<h2>Congratulations, you have completed your hands-on lab in Python Conditions and Branching.\n",
        "<hr>\n"
      ],
      "metadata": {
        "id": "j5rQsUXT8hn7"
      }
    }
  ]
}