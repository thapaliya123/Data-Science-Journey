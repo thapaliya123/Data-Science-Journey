{
  "nbformat": 4,
  "nbformat_minor": 0,
  "metadata": {
    "colab": {
      "provenance": []
    },
    "kernelspec": {
      "name": "python3",
      "display_name": "Python 3"
    },
    "language_info": {
      "name": "python"
    }
  },
  "cells": [
    {
      "cell_type": "markdown",
      "source": [
        "# Python Functions\n",
        "- A function is a reusable block of code which only runs when it is called.\n",
        "- You can pass data, known as parameters, into a function.\n",
        "- A function can return data as result.\n",
        "- Function allow us to not have to repeatedly write the same code again and again.\n",
        "  - Recall `len()` function that we used to compute length of iterables such as String, List, Tuple, Set, Dictionary.\n",
        "- Generally, we create a function and write a block of code that will be used repeatedly in future.\n",
        "\n",
        "- **When to use functions?**\n",
        "  - Use functions when you plan on using a block of code multiple times.\n",
        "\n",
        "- **Types:**\n",
        "  - Pre-defined functions\n",
        "  - User defined functions\n",
        "\n",
        "- In this lecture we'll cover:\n",
        "  - `Anatomy of function`\n",
        "  - `Create function without parameters and without return statement`\n",
        "  - `Create function with parameters and without return statement`\n",
        "  - `Create function without parameters and with return statement`\n",
        "  - `Create function with parameters and with return statement`\n",
        "  - `local variable vs global variable`\n",
        "  - `Arguments vs Parameters`\n",
        "  - `Arbitrary Positional Arguments, *args`\n",
        "  - `Keyword Arguments`\n",
        "  - `Arbitrary Keyword Arguments, **kwargs`\n",
        "  - `Default Parameter Value`\n",
        "  - `pass keyword`\n",
        "  - `Recall Pre-defined functions`\n"
      ],
      "metadata": {
        "id": "yH4SbBIMXRYh"
      }
    },
    {
      "cell_type": "markdown",
      "source": [
        "## 1. **Anatomy of function**\n",
        "---\n",
        "- `def` keyword is used for creating a uder-defined function in python.\n",
        "- **syntax:**\n",
        "\n",
        "\n",
        "<img src=\"https://cf-courses-data.s3.us.cloud-object-storage.appdomain.cloud/IBMDeveloperSkillsNetwork-PY0101EN-SkillsNetwork/labs/Module%203/images/FuncsDefinition.png\" width=\"400\">\n",
        "\n",
        "\n",
        "- function begins with `def` keyword followed by function `name` and parenthesis `()`\n",
        "- Function has body that starts with colon (`:`) and is indented.\n",
        "- You can add documentation in a function also called as `doc string`\n",
        "- The keyword `return` exits the function (and is optional to have)\n",
        "\n",
        "\n",
        "```\n",
        "\n",
        "def func_name(parameters):\n",
        "  \"\"\"\n",
        "  documenation goes here\n",
        "  \"\"\"\n",
        "\n",
        "  ## your code logic goes here\n",
        "  ## return statement goes here\n",
        "```\n",
        "\n",
        "[Image Source](https://cognitiveclass.ai/)\n",
        "\n"
      ],
      "metadata": {
        "id": "Y3rAZbRrvVD_"
      }
    },
    {
      "cell_type": "markdown",
      "source": [
        "## 2. **Create a function without parameters and without return statement.**\n",
        "- Function without return statement are called Void function.\n",
        "---\n",
        "\n",
        "- **Syntax:**\n",
        "\n",
        "```\n",
        "def function_name():\n",
        "  \"\"\"\n",
        "  doc string goes here (optional)\n",
        "  \"\"\"\n",
        "  # code logic goes\n",
        "```\n",
        "\n",
        "_**Q. Write a python function that takes two integer input from user and print greater number.**_ _(no parameter, no return)_\n",
        "\n",
        "`Hint: a if a > b else a`\n",
        "\n",
        "---\n",
        "\n"
      ],
      "metadata": {
        "id": "CQ5kRx1U1S19"
      }
    },
    {
      "cell_type": "code",
      "execution_count": null,
      "metadata": {
        "id": "xr59YmkeXOY-"
      },
      "outputs": [],
      "source": [
        "## your program goes here\n",
        "# function creation part\n"
      ]
    },
    {
      "cell_type": "code",
      "source": [
        "# call your function from here\n"
      ],
      "metadata": {
        "id": "V2Y_Z9Qe4YmS"
      },
      "execution_count": null,
      "outputs": []
    },
    {
      "cell_type": "markdown",
      "source": [
        "## 3. **Create function with parameters and without return statement**\n",
        "---\n",
        "```\n",
        "def function_name(parameter):\n",
        "  \"\"\"\n",
        "  doc string goes here (optional)\n",
        "  \"\"\"\n",
        "  # code logic goes\n",
        "```\n",
        "\n",
        "_**Q. Write a python function that takes two integer input from user pass them as argument to function and print greater number.**_ _(no return)_\n",
        "\n",
        "`Hint: a if a > b else b`\n",
        "\n",
        "---"
      ],
      "metadata": {
        "id": "XDXpG2EGTttb"
      }
    },
    {
      "cell_type": "code",
      "source": [
        "## write your program here\n"
      ],
      "metadata": {
        "id": "Z6pzxFqy2SIa"
      },
      "execution_count": null,
      "outputs": []
    },
    {
      "cell_type": "markdown",
      "source": [
        "##4. **Create function without parameters and with return statement**\n",
        "- Functions with return statement are called `Fruitful function`.\n",
        "---\n",
        "\n",
        "```\n",
        "def function_name():\n",
        "  \"\"\"\n",
        "  doc string goes here (optional)\n",
        "  \"\"\"\n",
        "  # code logic goes\n",
        "\n",
        "  # return <item>\n",
        "```\n",
        "\n",
        "_**Q. Write a python function that takes two integer input from user inside function and return greater number from function.**_ _(no parameter)_\n",
        "`Hint: a if a > b else b`\n",
        "\n",
        "---"
      ],
      "metadata": {
        "id": "sdOCBTwFUO4i"
      }
    },
    {
      "cell_type": "code",
      "source": [
        "## write your program here\n"
      ],
      "metadata": {
        "id": "gD-2KEPUUN-V"
      },
      "execution_count": null,
      "outputs": []
    },
    {
      "cell_type": "markdown",
      "source": [
        "## 5. **Create function with parameters and with return statement**\n",
        "---"
      ],
      "metadata": {
        "id": "Wd_MZD78VISd"
      }
    },
    {
      "cell_type": "markdown",
      "source": [
        "```\n",
        "def function_name(parameter):\n",
        "  \"\"\"\n",
        "  doc string goes here (optional)\n",
        "  \"\"\"\n",
        "  # code logic goes\n",
        "\n",
        "  # return <item>\n",
        "```\n"
      ],
      "metadata": {
        "id": "fv67Y532VQK1"
      }
    },
    {
      "cell_type": "markdown",
      "source": [
        "_**Q. Write a python function that takes two integer as a argument and return greater number from function.**_\n",
        "\n",
        "`Hint: a if a > b else b`\n",
        "\n",
        "---\n",
        "\n"
      ],
      "metadata": {
        "id": "q4aDDyKHVVt9"
      }
    },
    {
      "cell_type": "code",
      "source": [
        "## write your program here\n"
      ],
      "metadata": {
        "id": "03kG3G8mVF-E"
      },
      "execution_count": null,
      "outputs": []
    },
    {
      "cell_type": "code",
      "source": [],
      "metadata": {
        "id": "0leRvtVbWlyx"
      },
      "execution_count": null,
      "outputs": []
    },
    {
      "cell_type": "markdown",
      "source": [
        "##6. **Local Variable vs Global Variable**\n",
        "\n",
        "---\n",
        "\n",
        "\n",
        "\n",
        "  |                      | Local Variables                           | Global Variables                            |\n",
        "|----------------------|-------------------------------------------|---------------------------------------------|\n",
        "| Scope                | Limited to the function or block           | Accessible from any part of the program      |\n",
        "| Declaration          | Defined within a function or block         | Defined outside any function or block        |\n",
        "| Accessibility        | Only within the function or block          | Anywhere in the program                      |\n",
        "| Lifetime             | Created when function/block is executed    | Exist until the program terminates           |\n",
        "| Naming Conflicts     | Avoids naming conflicts within functions   | Prone to potential naming conflicts          |\n",
        "| Memory Allocation    | Allocated when function/block is executed  | Allocated when the program starts            |\n",
        "| Initialization       | Initialized when assigned a value          | Initialized when assigned a value            |\n",
        "| Modifiability        | Can be modified within the function/block  | Can be modified from any part of the program |\n",
        "| Accessing and Modifying | Directly using the variable name          | Using the `global` keyword                   |\n",
        "\n",
        "\n"
      ],
      "metadata": {
        "id": "vg6w265iWlJe"
      }
    },
    {
      "cell_type": "markdown",
      "source": [
        "`6.1. Local Variables `"
      ],
      "metadata": {
        "id": "e_UBIYfzcNU5"
      }
    },
    {
      "cell_type": "code",
      "source": [
        "## write your program here\n",
        "\n",
        "def my_function():\n",
        "    x = 10  # local variable\n",
        "    print(x)\n",
        "\n",
        "my_function()  # Output: 10\n",
        "print(x)      # Error: NameError: name 'x' is not defined"
      ],
      "metadata": {
        "id": "gj6F733UbfSU"
      },
      "execution_count": null,
      "outputs": []
    },
    {
      "cell_type": "code",
      "source": [],
      "metadata": {
        "id": "4yP_JLDOcZt-"
      },
      "execution_count": null,
      "outputs": []
    },
    {
      "cell_type": "markdown",
      "source": [
        "`6.2 Global Variables`"
      ],
      "metadata": {
        "id": "-exmiOw1cYz6"
      }
    },
    {
      "cell_type": "code",
      "source": [
        "## write your program here\n",
        "\n",
        "x = 10  # global variable\n",
        "\n",
        "def my_function():\n",
        "    global x # global keyword to update global variable\n",
        "    x += 5\n",
        "    print(\"I am from function: \", x)\n",
        "\n",
        "my_function()  # Output: 15\n",
        "\n",
        "print(\"I am from outside of function: \", x)      # Output: 15"
      ],
      "metadata": {
        "colab": {
          "base_uri": "https://localhost:8080/"
        },
        "id": "OgNlBkE2cclZ",
        "outputId": "be0ea957-8e39-4a6f-ddc3-55aee2e5f244"
      },
      "execution_count": null,
      "outputs": [
        {
          "output_type": "stream",
          "name": "stdout",
          "text": [
            "I am from function:  15\n",
            "I am from outside of function:  15\n"
          ]
        }
      ]
    },
    {
      "cell_type": "markdown",
      "source": [
        "_`It's generally considered good practice to limit the use of global variables and use local variables instead`_"
      ],
      "metadata": {
        "id": "RuzMKfxDc7jf"
      }
    },
    {
      "cell_type": "code",
      "source": [],
      "metadata": {
        "id": "gfOkkyD1czmc"
      },
      "execution_count": null,
      "outputs": []
    },
    {
      "cell_type": "markdown",
      "source": [
        "##7. **Arguments vs Parameters**\n",
        "\n",
        "\n",
        "<img src='https://drive.google.com/uc?id=17xHSLEEDCQg2JO0jYju6e7lf5q0GHyyl' width='450'>\n",
        "\n",
        "\n",
        "| Concept     | Parameters                               | Arguments                                      |\n",
        "|-------------|------------------------------------------|------------------------------------------------|\n",
        "| Definition  | Variables listed in the function's header | Actual values passed to a function             |\n",
        "| Purpose     | Define input placeholders in a function   | Provide data for the function to operate on    |\n",
        "| Scope       | Local to the function                     | Specific to each function call                 |\n",
        "| Usage       | Perform operations or calculations        | Act as input for the function's computations   |\n",
        "| Matching    | Must match the number and order           | Must match the parameters in the function call |\n"
      ],
      "metadata": {
        "id": "7Wjp-aWndtKh"
      }
    },
    {
      "cell_type": "code",
      "source": [],
      "metadata": {
        "id": "qH-ToZF8dxZN"
      },
      "execution_count": null,
      "outputs": []
    },
    {
      "cell_type": "markdown",
      "source": [
        "##8. **Arbitrary Positional Arguments, *args**\n",
        "- Positional arguments are passed to a function based on their position or order in the function call.\n",
        "\n",
        "- The arguments we passed to a function till now are all positional arguments.\n",
        "\n",
        "- The `*args` syntax allows a function to accept any number of positional arguments.\n",
        "\n",
        "- The variable type of `args` will be of Tuple.\n",
        "\n",
        "```python\n",
        "\n",
        "def my_function(*args):\n",
        "    for arg in args:\n",
        "        print(arg)\n",
        "\n",
        "my_function(1, 2, 3)        # Output: 1 2 3\n",
        "my_function('Hello', 'Hi')  # Output: Hello Hi\n",
        "\n",
        "```\n",
        "\n",
        "**`Q. Write a python function that return multiplication of all the numbers passed by user as a argument.`**\n",
        "\n",
        "_`Note: User can pass unlimited numbers to a function at the time of function call`_"
      ],
      "metadata": {
        "id": "ai030JSihrwN"
      }
    },
    {
      "cell_type": "code",
      "source": [
        "## write your program here\n"
      ],
      "metadata": {
        "id": "SpCd6AHv_XKh"
      },
      "execution_count": null,
      "outputs": []
    },
    {
      "cell_type": "markdown",
      "source": [
        "## 9. **Keyword Arguments**\n",
        "- Keyword arguments in Python allow you to pass arguments to a function using their corresponding parameter names.\n",
        "\n",
        "-  Instead of relying on the order of the arguments, you specify the argument name along with its value when calling the function.\n",
        "\n",
        "- **Key Benefit**\n",
        "  - `Clarity: `\n",
        "    - makes function call more readable and self-explnatory.\n",
        "\n",
        "  - `Order Independence: `\n",
        "    - all you to provide the values in any order you prefer, as long as the parameter names are correctly matched.\n",
        "\n",
        "- **Example:**\n",
        "\n",
        "```python\n",
        "def greet(name, age):\n",
        "  \"\"\"\n",
        "  Function that greets to person.\n",
        "  \"\"\"\n",
        "  print(f\"Hi {name}. Your age is {age}\")\n",
        "\n",
        "\n",
        "greet(name='John', age=30) # ouput: Hi John. Your age is 30\n",
        "\n",
        "greet(age=10, name='Bob') # output: Hi Bob. Your age is 10\n",
        "```\n",
        "\n"
      ],
      "metadata": {
        "id": "7h0YPEXqCvNF"
      }
    },
    {
      "cell_type": "code",
      "source": [
        "## write your program here\n"
      ],
      "metadata": {
        "id": "7zqo0FJgB6sU"
      },
      "execution_count": null,
      "outputs": []
    },
    {
      "cell_type": "code",
      "source": [],
      "metadata": {
        "id": "4my7WXs8HvO1"
      },
      "execution_count": null,
      "outputs": []
    },
    {
      "cell_type": "markdown",
      "source": [
        "##10. **Arbitrary Keyword Arguments, **kwargs**\n",
        "- If you do not know how many keyword arguments that will be passed into your function, add two asterik: `**`.\n",
        "\n",
        "- This way, the function will receive a dictionary of arguments, and can access items accordingly.\n",
        "\n",
        "- **Example:**\n",
        "\n",
        "```python\n",
        "\n",
        "def my_function(**kwargs):\n",
        "    for key, value in kwargs.items():\n",
        "        print(f\"{key}: {value}\")\n",
        "\n",
        "greet(name='John', age=30) # ouput: Hi John. Your age is 30\n",
        "\n",
        "greet(age=10, name='Bob') # output: Hi Bob. Your age is 10\n",
        "\n",
        "```"
      ],
      "metadata": {
        "id": "26iVLVJ3E-Bt"
      }
    },
    {
      "cell_type": "code",
      "source": [
        "## write your program here\n"
      ],
      "metadata": {
        "id": "yJyyjoTgE7VA"
      },
      "execution_count": null,
      "outputs": []
    },
    {
      "cell_type": "markdown",
      "source": [
        "##11. **Default Parameter Value**\n",
        "\n",
        "**`What if you do not want to pass arguments at the time of function call but function is expecting some parameters?`**\n",
        "\n",
        "\n",
        "_**`Ans:`** You can use concept of Default parameter value.`_\n",
        "\n",
        "\n",
        "\n",
        "```python\n",
        "def print_message(msg = 'hello_world'):\n",
        "  print(msg)\n",
        "\n",
        "print_message('How are you!!') # output: How are you!!\n",
        "print_message(msg='What is your name?') # output: What is your name?\n",
        "print_message() # output: hello_world\n",
        "```\n"
      ],
      "metadata": {
        "id": "dwGZV8H1IHGO"
      }
    },
    {
      "cell_type": "code",
      "source": [
        "# write your program here\n"
      ],
      "metadata": {
        "id": "ZXqN9Jq-H1n1"
      },
      "execution_count": null,
      "outputs": []
    },
    {
      "cell_type": "markdown",
      "source": [
        "## 12. **Pass Keyword**\n",
        "- `functions` definition cannot be empty.\n",
        "\n",
        "- `Q. What if you only want to define a function and write code logic later?`\n",
        "\n",
        "- In such scenario we can use `pass` keyword, which simply acts as a placeholder for code logic to be added later.\n",
        "\n",
        "```python\n",
        "def function1():\n",
        "  pass\n",
        "\n",
        "def function2():\n",
        "  pass\n",
        "\n",
        "def function3():\n",
        "  pass\n",
        "```"
      ],
      "metadata": {
        "id": "q7OLotqnMeNX"
      }
    },
    {
      "cell_type": "markdown",
      "source": [
        "\n",
        "Now, we know user defined functions, How functions are created, Let's Revisit some pre-defined functions.\n",
        "\n",
        "\n"
      ],
      "metadata": {
        "id": "Nm1Af2m4XMbf"
      }
    },
    {
      "cell_type": "markdown",
      "source": [
        "##13. **Recall Pre-defined functions**\n",
        "\n",
        "- Pre-defined functions, also know as built-in functions, are functions that are included in the Python programming language by default.\n",
        "\n",
        "| Function       | Description                                                                   |\n",
        "|----------------|-------------------------------------------------------------------------------|\n",
        "| `print()`      | Outputs messages or values to the console.                                    |\n",
        "| `len()`        | Returns the length of a sequence (e.g., string, list, tuple).                  |\n",
        "| `type()`       | Returns the type of an object.                                                 |\n",
        "| `input()`      | Reads user input from the console.                                             |\n",
        "| `range()`      | Generates a sequence of numbers within a specified range.                      |\n",
        "| `sum()`        | Calculates the sum of all the values in an iterable.                           |\n",
        "| `max()`        | Returns the maximum value in an iterable.                                      |\n",
        "| `min()`        | Returns the minimum value in an iterable.                                      |\n",
        "| `abs()`        | Returns the absolute value of a number.                                        |\n",
        "| `round()`      | Rounds a number to a specified number of decimal places.                        |\n",
        "| `str()`        | Converts an object to a string representation.                                 |\n",
        "| `int()`        | Converts a string or a number to an integer.                                   |\n",
        "| `float()`      | Converts a string or a number to a floating-point number.                       |\n",
        "| `list()`       | Converts an iterable to a list.                                                |\n",
        "| `dict()`       | Creates a new dictionary object.                                               |\n",
        "| `sorted()`     | Returns a new sorted list from the items in an iterable.                        |\n",
        "| `zip()`        | Creates an iterator that aggregates elements from multiple iterables.           |\n",
        "| `enumerate()`  | Returns an iterator of tuples containing indices and values from an iterable.  |\n",
        "| `help()`       | Displays information and documentation about Python objects and modules.        |\n",
        "| `dir()`        | Returns a list of names in the current local scope or a given object.           |\n"
      ],
      "metadata": {
        "id": "M7JdDelyNsjO"
      }
    },
    {
      "cell_type": "markdown",
      "source": [
        "### 13.1 **Math Module**\n",
        "- The `math` module in Python provides a set of mathematical functions and constants for various mathematical operations.\n",
        "\n",
        "-  It is part of the Python Standard Library, so no additional\n",
        "\n",
        "- However you need to import math module, to access functions and constants.\n",
        "\n",
        "| Function              | Description                                                        |\n",
        "|-----------------------|--------------------------------------------------------------------|\n",
        "| `math.ceil(x)`        | Returns the smallest integer greater than or equal to x.            |\n",
        "| `math.floor(x)`       | Returns the largest integer less than or equal to x.                |\n",
        "| `math.sqrt(x)`        | Returns the square root of x.                                       |\n",
        "| `math.pow(x, y)`      | Returns x raised to the power of y.                                 |\n",
        "| `math.exp(x)`         | Returns e raised to the power of x.                                 |\n",
        "| `math.log(x)`         | Returns the natural logarithm (base e) of x.                        |\n",
        "| `math.log10(x)`       | Returns the base-10 logarithm of x.                                 |\n",
        "| `math.sin(x)`         | Returns the sine of x (in radians).                                 |\n",
        "| `math.cos(x)`         | Returns the cosine of x (in radians).                               |\n",
        "| `math.tan(x)`         | Returns the tangent of x (in radians).                              |\n",
        "| `math.radians(x)`     | Converts x from degrees to radians.                                 |\n",
        "| `math.degrees(x)`     | Converts x from radians to degrees.                                 |\n",
        "| `math.pi`             | Represents the mathematical constant π (pi).                        |\n",
        "| `math.e`              | Represents the mathematical constant e (Euler's number).            |\n",
        "| `math.factorial(x)`   | Returns the factorial of x.                                         |\n",
        "| `math.fabs(x)`        | Returns the absolute value of x.                                    |\n"
      ],
      "metadata": {
        "id": "OnjNnUVpbd2e"
      }
    },
    {
      "cell_type": "code",
      "source": [
        "# import module\n",
        "import math\n"
      ],
      "metadata": {
        "id": "k8ff_sotY65K"
      },
      "execution_count": null,
      "outputs": []
    },
    {
      "cell_type": "code",
      "source": [
        "# floor and ceil\n"
      ],
      "metadata": {
        "id": "W2tjeRoicUsU"
      },
      "execution_count": null,
      "outputs": []
    },
    {
      "cell_type": "code",
      "source": [
        "# factorial of number\n"
      ],
      "metadata": {
        "id": "fb1RgmqvcYA2"
      },
      "execution_count": null,
      "outputs": []
    },
    {
      "cell_type": "code",
      "source": [],
      "metadata": {
        "id": "LFLPTz2ecdkz"
      },
      "execution_count": null,
      "outputs": []
    },
    {
      "cell_type": "markdown",
      "source": [
        "# **Recursion**\n",
        "- Recursion is process, where a function calls itself."
      ],
      "metadata": {
        "id": "9s2SGHykksbL"
      }
    },
    {
      "cell_type": "markdown",
      "source": [
        "```python\n",
        "factorial(7) = 7*6*5*4*3*2*1\n",
        "factorial(6) = 6*5*4*3*2*1\n",
        "factorial(5) = 5*4*3*2*1\n",
        "factorial(4) = 4*3*2*1\n",
        "::::::::::::\n",
        "factorial(0) = 1\n",
        "\n",
        "factorial(n) = n * factorial(n-1)\n",
        "```\n"
      ],
      "metadata": {
        "id": "CTjv9mwwj8KW"
      }
    },
    {
      "cell_type": "code",
      "source": [
        "# write your program\n",
        "\n",
        "def factorial(n):\n",
        "  if (n==0 or n==1):\n",
        "    return 1\n",
        "\n",
        "  else:\n",
        "    return n * factorial(n-1) # calling same function, called Recursion\n",
        "\n",
        "print(factorial(3))\n",
        "print(factorial(4))\n",
        "print(factorial(5))"
      ],
      "metadata": {
        "colab": {
          "base_uri": "https://localhost:8080/"
        },
        "id": "-Nxyi4JDkgrE",
        "outputId": "b6ba77d9-9e50-4afb-85d8-a98f71520e46"
      },
      "execution_count": null,
      "outputs": [
        {
          "output_type": "stream",
          "name": "stdout",
          "text": [
            "6\n",
            "24\n",
            "120\n"
          ]
        }
      ]
    },
    {
      "cell_type": "markdown",
      "source": [
        "## **Assignments**\n",
        "\n",
        "**`Q.1 Write a python function to multiply all the numbers in a list`**\n",
        "\n",
        "**`Q.2 Write a python function to reverse a string`**\n",
        "\n",
        "**`Q.3 Write a python function to find factorial of a given non negativenumber`**\n",
        "\n",
        "**`Q.4 Write a python function to reverse a string`**\n",
        "\n",
        "**`Q.5 Write a python function that accepts a string and calculate the number of upper case letters and lower case letters`**\n",
        "\n",
        "**`Q.6 Write a python function that takes a list and returns a new list with unique elements of the first list`**\n",
        "\n",
        "**`Q.7 Write a Python function that takes a number as a parameter and check the\n",
        "number is prime or not.`**\n",
        "\n",
        "**`Q.8 Write a python function to print the even numbers from a given list.`**\n"
      ],
      "metadata": {
        "id": "obeytJJIekPI"
      }
    },
    {
      "cell_type": "markdown",
      "source": [
        "\n",
        "<hr>\n",
        "<h2>Congratulations, you have completed your hands-on lab in Python Functions.\n",
        "<hr>"
      ],
      "metadata": {
        "id": "u6QMBfKSdmTN"
      }
    },
    {
      "cell_type": "code",
      "source": [],
      "metadata": {
        "id": "C7pxvCnkej2c"
      },
      "execution_count": null,
      "outputs": []
    }
  ]
}