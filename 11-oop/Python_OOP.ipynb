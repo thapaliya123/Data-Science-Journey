{
  "nbformat": 4,
  "nbformat_minor": 0,
  "metadata": {
    "colab": {
      "provenance": []
    },
    "kernelspec": {
      "name": "python3",
      "display_name": "Python 3"
    },
    "language_info": {
      "name": "python"
    }
  },
  "cells": [
    {
      "cell_type": "markdown",
      "source": [
        "# **OOP Python**\n",
        "- The way of writing code that we discussed till now is a procedural approach of programming.\n",
        "\n",
        "- **Limitation of Procedural Programming**\n",
        "  - `Poor Support for Real-World Modeling`\n",
        "  - `Limited Scalability:`\n",
        "    -  Adding new features or modifying existing ones can be more complex, as changes may require modifications in multiple functions and variables.\n",
        "  - `Limited Code Reusability`\n",
        "    - In procedural code, functions are typically written to solve specific problems, making it harder to reuse them in different contexts.\n",
        "\n",
        "- **What is Object Oriented Programming?**\n",
        "  - Object oriented programming is a programming approach that organizes code around the concept of class and object.\n",
        "\n",
        "  - A `class` is like a blueprint or a template that defines the properties (attributes) and behaviours (methods) that an object of that class will have.\n",
        "\n",
        "  - An `Object` is an instance of a class.\n",
        "\n",
        "  - Python also supports the concept of Object Oriented Programming.\n",
        "\n",
        "  - **Real World Example:**\n",
        "    - Consider `Vehicle` as a class and `car`, `truck`, `bike` etc as a object.\n",
        "\n",
        "- **Key Principles of object-oriented programming:**\n",
        "\n",
        "<img src='https://drive.google.com/uc?id=1FhAxui7nUBVHpUJTmn_-i0jPoOjoFXCk' width='450'>\n",
        "\n",
        "\n",
        "\n"
      ],
      "metadata": {
        "id": "4swRkjHzOdqW"
      }
    },
    {
      "cell_type": "markdown",
      "source": [
        "- In this Lecture we'll cover:\n",
        "  - Create a custom class and a object\n",
        "  - Creating a class attributes\n",
        "  - Creating a instance attributes\n",
        "    - using__init__() function\n",
        "  - Creating methods in a class\n",
        "    - Class methods\n",
        "    - Object/Instance methods\n",
        "  - Encapsulation\n",
        "  - Inheritance\n",
        "  - Polymorphism\n",
        "  - Special Methods"
      ],
      "metadata": {
        "id": "6ecd77wSm3ra"
      }
    },
    {
      "cell_type": "markdown",
      "source": [
        "### **Create a class**\n",
        "- we'll use `class` keyword to create a user defined objects.\n",
        "\n",
        "- As discussed class is blueprint/template that defines the nature of a future object.\n",
        "\n",
        "- We can create object from a class. Object is simply a instance of the class.\n",
        "\n",
        "- We will use **PascalCase** for class names.\n",
        "\n",
        "- **Syntax (for creating class)**\n",
        "```Python\n",
        "class Vehicle:\n",
        "       pass\n",
        "```\n",
        "\n",
        "- **Syntax (for creating object)**\n",
        "\n",
        "    `car = Vehicle()`\n"
      ],
      "metadata": {
        "id": "j3rrRCC2n5b8"
      }
    },
    {
      "cell_type": "code",
      "execution_count": null,
      "metadata": {
        "id": "0s_GRHjwLdWC"
      },
      "outputs": [],
      "source": [
        "# create a sample class\n",
        "# hint: use class keyword\n",
        "\n",
        "class Vehicle:\n",
        "  pass"
      ]
    },
    {
      "cell_type": "code",
      "source": [
        "# create a sample object\n",
        "car = Vehicle()"
      ],
      "metadata": {
        "id": "0wxvUGccmpm8"
      },
      "execution_count": null,
      "outputs": []
    },
    {
      "cell_type": "code",
      "source": [
        "# check object type\n",
        "print(type(car))"
      ],
      "metadata": {
        "colab": {
          "base_uri": "https://localhost:8080/"
        },
        "id": "HDy1yT-kpenf",
        "outputId": "b5528226-c7a8-4cc5-ff0f-f472bfa3f57f"
      },
      "execution_count": null,
      "outputs": [
        {
          "output_type": "stream",
          "name": "stdout",
          "text": [
            "<class '__main__.Vehicle'>\n"
          ]
        }
      ]
    },
    {
      "cell_type": "markdown",
      "source": [
        "## **Creating a class attributes**\n",
        "- There are two types of attributes in a class i.e. `class attributes` and `object attributes`.\n",
        "- Class attributes can be accessed using (.) dot operator.\n",
        "- Let us understand these attributes interms of scope, usage, and the way they are accessed and modified.\n",
        "  - **Scope:**\n",
        "    - Class attributes are shared among all instances of a class and are associated with the class itself.\n",
        "  - **Declaration:**\n",
        "    - Class attributes are defined directly within the class but outside of any methods.\n",
        "  - **Access:**\n",
        "    - Class attributes can be accessed using either the class name or an instance of the class.\n",
        "  - **Modifiability:**\n",
        "    - Class attributes can be modified directly through the class, affecting all instances of the class.\n",
        "  - **Usage:**\n",
        "    - Class attributes are often used to define properties or characteristics that are common to all instances of the class.\n",
        "\n",
        "```python\n",
        "class Vehicle:\n",
        "    is_electric = False\n",
        "\n",
        "# create object\n",
        "obj = Vechicle()\n",
        "\n",
        "# access attribute using class name\n",
        "print(Vechicle.is_electric)\n",
        "\n",
        "# access using object name\n",
        "print(obj.is_electric)\n",
        "\n",
        "# modify class attributes\n",
        "Vechicle.is_electric = True\n",
        "\n",
        "# access attribute using class name\n",
        "print(Vechicle.is_electric)\n",
        "\n",
        "# access using object name\n",
        "print(obj.is_electric)\n",
        "\n",
        "\n",
        "```"
      ],
      "metadata": {
        "id": "magzSqiS59Bg"
      }
    },
    {
      "cell_type": "code",
      "source": [
        "# create class attributes\n",
        "class Vehicle:\n",
        "    is_electric = False"
      ],
      "metadata": {
        "id": "_uzvMgCYpgFO"
      },
      "execution_count": null,
      "outputs": []
    },
    {
      "cell_type": "code",
      "source": [
        "# instantiate object\n",
        "obj = Vehicle()"
      ],
      "metadata": {
        "id": "qWAQTQYpquK5"
      },
      "execution_count": null,
      "outputs": []
    },
    {
      "cell_type": "code",
      "source": [
        "# access class attributes\n",
        "print(Vehicle.is_electric)"
      ],
      "metadata": {
        "colab": {
          "base_uri": "https://localhost:8080/"
        },
        "id": "Q-GdMZJ6EM3s",
        "outputId": "95851ba3-a297-4bdf-aa04-5f95e49b7d6f"
      },
      "execution_count": null,
      "outputs": [
        {
          "output_type": "stream",
          "name": "stdout",
          "text": [
            "False\n"
          ]
        }
      ]
    },
    {
      "cell_type": "code",
      "source": [
        "# modify class attributes\n",
        "Vehicle.is_electric = True"
      ],
      "metadata": {
        "id": "AddPk5szrr_V"
      },
      "execution_count": null,
      "outputs": []
    },
    {
      "cell_type": "code",
      "source": [
        "# access class attributes\n",
        "print(Vehicle.is_electric)"
      ],
      "metadata": {
        "colab": {
          "base_uri": "https://localhost:8080/"
        },
        "id": "iyPY_LoIEKE1",
        "outputId": "78d3dd88-fcdc-4a55-d0b7-a1670fecb56d"
      },
      "execution_count": null,
      "outputs": [
        {
          "output_type": "stream",
          "name": "stdout",
          "text": [
            "True\n"
          ]
        }
      ]
    },
    {
      "cell_type": "markdown",
      "source": [
        "## **Creating a instance attributes**\n",
        "---\n",
        "- Instance attributes are also called `object attributes`.\n",
        "\n",
        "- We can create instance attributes using `__init__()` function inside class.\n",
        "\n",
        "- `__init__()` is a special method which is called automatically right after the object has been created.\n",
        "\n",
        "- Instance/Object attributes are accessed using object of that class using (.) dot operator.\n",
        "\n",
        "- Let us understand these attributes interms of scope, usage, and the way they are accessed and modified.\n",
        "  1. **scope**\n",
        "    - Object attributes are specific to each instance of a class and are associated with individual objects.\n",
        "  2. **Declaration**\n",
        "    - Object attributes are defined within the methods of a class i.e. `__init__()` or can be dynamically created during runtime.\n",
        "  3. **Access**\n",
        "    - Object attributes are accessed using an instance/object of the class.\n",
        "  4. **Modifiability**\n",
        "    -  Object attributes can be modified directly through the instance, affecting only that specific instance.\n",
        "  5. **Usage**\n",
        "    - Object attributes are often used to store unique data or state specific to each instance of the class.\n",
        "\n",
        "- **Example:**\n",
        "\n",
        "```python\n",
        "class Vehicle:\n",
        "  '''\n",
        "  - The code defines a class called Vehicle.\n",
        "  - The class has a constructor method __init__ that takes two parameters:\n",
        "    - self (representing the instance being created) and attribute (a value passed to initialize the instance_attribute).\n",
        "  '''\n",
        "  def __init__(self, attribute):\n",
        "    '''\n",
        "    The init constructor assigns the value of the attribute parameter to the instance attribute named 'instance_attribute'.\n",
        "    '''\n",
        "    self.instance_attribute = attribute\n",
        "\n",
        "# instantiate object\n",
        "car = Vehicle(self, 'car type')\n",
        "\n",
        "# access instance attributes\n",
        "print(car.instance_attribute)\n",
        "```\n",
        "\n",
        "\n",
        "- **Explanation (above example code)**\n",
        "\n",
        "  - The code defines a class called Vehicle.\n",
        "\n",
        "  - The class has a constructor method `__init__` that takes two parameters: **self** (representing the instance being created) and **attribute** (a value passed to initialize the **instance_attribute**).\n",
        "\n",
        "  - The constructor assigns the value of the **attribute** parameter to the instance attribute **instance_attribute**.\n",
        "\n",
        "  - The code then instantiates an object **car** of the **Vehicle** class by calling the class and passing arguments **self** implicitly (which represents the instance itself) and the string **'car type'**.\n",
        "\n",
        "  - Finally, the code prints the value of the **instance_attribute** of the **car** object, using the syntax **car.instance_attribute**."
      ],
      "metadata": {
        "id": "m3Ppr6XIElMD"
      }
    },
    {
      "cell_type": "code",
      "source": [
        "class Vehicle:\n",
        "  '''\n",
        "  - The code defines a class called Vehicle.\n",
        "  - The class has a constructor method __init__ that takes two parameters:\n",
        "    - self (representing the instance being created) and attribute (a value passed to initialize the instance_attribute).\n",
        "  '''\n",
        "  def __init__(self, attribute):\n",
        "    '''\n",
        "    The init constructor assigns the value of the attribute parameter to the instance attribute named 'instance_attribute'.\n",
        "    '''\n",
        "    self.instance_attribute = attribute\n",
        "\n",
        "# instantiate object\n",
        "car = Vehicle(self, 'car type')\n",
        "\n",
        "# access instance attributes\n",
        "print(car.instance_attribute)"
      ],
      "metadata": {
        "id": "_mOEiUPeVqUt"
      },
      "execution_count": null,
      "outputs": []
    },
    {
      "cell_type": "code",
      "source": [
        "# create a class named Vehicle with atleast 1 instance attributes\n",
        "class VehicleTest:\n",
        "  def __init___(self, car_type):\n",
        "    self.car_type = car_type"
      ],
      "metadata": {
        "id": "5wY_sFCpETy9"
      },
      "execution_count": null,
      "outputs": []
    },
    {
      "cell_type": "code",
      "source": [
        "# instantiate object\n",
        "car = VehicleTest(\"car_type\")\n",
        "car.car_type"
      ],
      "metadata": {
        "id": "df-1J8XANM25",
        "colab": {
          "base_uri": "https://localhost:8080/",
          "height": 200
        },
        "outputId": "7c2c993a-ee63-4972-965a-2a0f44847e2c"
      },
      "execution_count": null,
      "outputs": [
        {
          "output_type": "error",
          "ename": "TypeError",
          "evalue": "ignored",
          "traceback": [
            "\u001b[0;31m---------------------------------------------------------------------------\u001b[0m",
            "\u001b[0;31mTypeError\u001b[0m                                 Traceback (most recent call last)",
            "\u001b[0;32m<ipython-input-13-00dac66be656>\u001b[0m in \u001b[0;36m<cell line: 2>\u001b[0;34m()\u001b[0m\n\u001b[1;32m      1\u001b[0m \u001b[0;31m# instantiate object\u001b[0m\u001b[0;34m\u001b[0m\u001b[0;34m\u001b[0m\u001b[0m\n\u001b[0;32m----> 2\u001b[0;31m \u001b[0mcar\u001b[0m \u001b[0;34m=\u001b[0m \u001b[0mVehicleTest\u001b[0m\u001b[0;34m(\u001b[0m\u001b[0;34m\"car_type\"\u001b[0m\u001b[0;34m)\u001b[0m\u001b[0;34m\u001b[0m\u001b[0;34m\u001b[0m\u001b[0m\n\u001b[0m\u001b[1;32m      3\u001b[0m \u001b[0mcar\u001b[0m\u001b[0;34m.\u001b[0m\u001b[0mcar_type\u001b[0m\u001b[0;34m\u001b[0m\u001b[0;34m\u001b[0m\u001b[0m\n",
            "\u001b[0;31mTypeError\u001b[0m: VehicleTest() takes no arguments"
          ]
        }
      ]
    },
    {
      "cell_type": "code",
      "source": [
        "# access instance attributes\n"
      ],
      "metadata": {
        "id": "EpClG3GGNOTn"
      },
      "execution_count": null,
      "outputs": []
    },
    {
      "cell_type": "code",
      "source": [
        "class Vehicle:\n",
        "  '''\n",
        "  - The code defines a class called Vehicle.\n",
        "  - The class has a constructor method __init__ that takes two parameters:\n",
        "    - self (representing the instance being created) and attribute (a value passed to initialize the instance_attribute).\n",
        "  '''\n",
        "  def __init__(self, attribute):\n",
        "    '''\n",
        "    The init constructor assigns the value of the attribute parameter to the instance attribute named 'instance_attribute'.\n",
        "    '''\n",
        "    self.instance_attribute = attribute\n",
        "\n",
        "car = Vehicle('test')\n",
        "car.instance_attribute"
      ],
      "metadata": {
        "colab": {
          "base_uri": "https://localhost:8080/",
          "height": 35
        },
        "id": "0y9p6JX0XLHo",
        "outputId": "2a6413cb-326e-47a5-c0f4-0a1c0dfca509"
      },
      "execution_count": null,
      "outputs": [
        {
          "output_type": "execute_result",
          "data": {
            "text/plain": [
              "'test'"
            ],
            "application/vnd.google.colaboratory.intrinsic+json": {
              "type": "string"
            }
          },
          "metadata": {},
          "execution_count": 6
        }
      ]
    },
    {
      "cell_type": "markdown",
      "source": [
        "## **Creating methods in a class**\n",
        "- All the functions defined inside the class are called methods.\n",
        "- Previously, In Data types chapter, we looked into different methods.\n",
        "- Today, we will create our own class and add methods in there.\n",
        "\n",
        "- **Types**\n",
        "1. `Class methods`\n",
        "  - Class methods belongs to class itself.\n",
        "  - They can access and modify class-level attributes and perform operations that involve the class as a whole rather than individual instances.\n",
        "  - **Example:**\n",
        "  ```python\n",
        "      class Vehicle:\n",
        "        is_electric = False\n",
        "\n",
        "        @classmethod\n",
        "        def display_car_type(cls):\n",
        "          print(f\"Ques: Is Vehicle electric?\\nAnswer: {cls.is_electric}\")\n",
        "\n",
        "      # Calling the class method\n",
        "      Vehicle.display_car_type()\n",
        "    ```\n",
        "\n",
        "2. `Instance methods`\n",
        "  - Instance methods are defined within a class and are bound to the instances (objects) of that class.\n",
        "  - They can access and manipulate the instance attributes and perform operations specific to each instance.\n",
        "\n",
        "  - **Usage:**\n",
        "    - To perform operations with the attributes of our objects.\n",
        "\n",
        "  - **Accessing methods**\n",
        "    - Methods can be called using the instance of the class followed by (.) dot operator.\n",
        "      - `obj.method_name()`\n",
        "\n",
        "  - **Example:**\n",
        "  ```python\n",
        "    class Vehicle:\n",
        "      def __init__(self, colour):\n",
        "        self.colour = colour\n",
        "\n",
        "      # define instance/object methods\n",
        "      def display_color(self):\n",
        "        print(f\"Car colour is: {self.colour}\")\n",
        "\n",
        "    # instantiate object\n",
        "    car1 = Vehicle(self, 'red')\n",
        "    car2 = Vehicle(self, 'black')\n",
        "\n",
        "    # access instance attributes\n",
        "    car1.display_color() # Output: Car colour is: red\n",
        "    car2.display_color() # Output: Car colour is: black\n",
        "    ```\n"
      ],
      "metadata": {
        "id": "flbEXgixRqFQ"
      }
    },
    {
      "cell_type": "code",
      "source": [
        "# program for class method\n",
        "class Vehicle:\n",
        "  is_electric = False\n",
        "\n",
        "  @classmethod\n",
        "  def display_car_type(cls):\n",
        "    print(f\"Ques: Is Vehicle electric?\\nAnswer: {cls.is_electric}\")\n",
        "\n",
        "# Calling the class method\n",
        "Vehicle.display_car_type()"
      ],
      "metadata": {
        "id": "jtm0acPWb3h0",
        "colab": {
          "base_uri": "https://localhost:8080/"
        },
        "outputId": "58851427-e46e-449b-e256-41982db53aa5"
      },
      "execution_count": null,
      "outputs": [
        {
          "output_type": "stream",
          "name": "stdout",
          "text": [
            "Ques: Is Vehicle electric?\n",
            "Answer: False\n"
          ]
        }
      ]
    },
    {
      "cell_type": "code",
      "source": [],
      "metadata": {
        "id": "4mYIyGudcrpF"
      },
      "execution_count": null,
      "outputs": []
    },
    {
      "cell_type": "code",
      "source": [
        "# program for instance method\n",
        "\n",
        "class Vehicle:\n",
        " def __init__(self, colour):\n",
        "   self.colour = colour\n",
        "\n",
        " # define instance/object methods\n",
        " def display_color(self):\n",
        "   print(f\"Car colour is: {self.colour}\")\n"
      ],
      "metadata": {
        "id": "UCjouGLkcXbg"
      },
      "execution_count": null,
      "outputs": []
    },
    {
      "cell_type": "code",
      "source": [
        "# instantiate object\n",
        "car1 = Vehicle('red')"
      ],
      "metadata": {
        "id": "nnW-XF-IegKU"
      },
      "execution_count": null,
      "outputs": []
    },
    {
      "cell_type": "code",
      "source": [
        "# access instance attributes\n",
        "car1.display_color() # Output: Car colour is: red\n",
        "# car2.display_color() # Output: Car colour is: black"
      ],
      "metadata": {
        "colab": {
          "base_uri": "https://localhost:8080/"
        },
        "id": "OwjaE63CeiyR",
        "outputId": "ee4f1207-eece-41df-c120-26cc1e037828"
      },
      "execution_count": null,
      "outputs": [
        {
          "output_type": "stream",
          "name": "stdout",
          "text": [
            "Car colour is: red\n"
          ]
        }
      ]
    },
    {
      "cell_type": "code",
      "source": [
        "bike = Vehicle('black')"
      ],
      "metadata": {
        "id": "lxe4MjmrfilB"
      },
      "execution_count": null,
      "outputs": []
    },
    {
      "cell_type": "code",
      "source": [
        "bike.display_color()"
      ],
      "metadata": {
        "colab": {
          "base_uri": "https://localhost:8080/"
        },
        "id": "Ls0fQfXrfiiK",
        "outputId": "9c07a3fe-3a65-4e35-e75b-9b4fe6d92805"
      },
      "execution_count": null,
      "outputs": [
        {
          "output_type": "stream",
          "name": "stdout",
          "text": [
            "Car colour is: black\n"
          ]
        }
      ]
    },
    {
      "cell_type": "markdown",
      "source": [
        "**Note:**\n",
        "_`We will give more focus to instance methods.`_"
      ],
      "metadata": {
        "id": "kvnBs-GlcauQ"
      }
    },
    {
      "cell_type": "markdown",
      "source": [
        "#### **Class Work**\n",
        "\n",
        "**`Q. Write a python program to print circumference of circle.`**\n",
        "  - `create class attributes to initialize pi=3.14`\n",
        "  - `create __init__() method to initialize radius of circle for each instance`\n",
        "  - `create method named get_circumference() to return circumference of a circle`\n",
        "  - `create method named set_radius() to reset the radius of circle.`\n",
        "\n",
        "_**`Hint: circumference of circle = 2 * pi * radius`**_"
      ],
      "metadata": {
        "id": "bDBgzbSZhGxX"
      }
    },
    {
      "cell_type": "code",
      "source": [
        "# write your program here\n",
        "\n",
        "class Circle:\n",
        "  pi = 3.14\n",
        "\n",
        "  def __init__(self, radius=1):\n",
        "    self.radius = radius\n",
        "\n",
        "  def get_circumference(self):\n",
        "    circumference = 2 * Circle.pi * self.radius\n",
        "    return circumference\n",
        "\n",
        "  # def set_radius(self, radius):\n",
        "  #   self.radius = radius\n",
        "\n",
        "# instantiate Circle\n",
        "circle1 = Circle()\n",
        "\n",
        "# get circumference\n",
        "circum_bef_reset = circle1.get_circumference()\n",
        "print(f\"Circumference of circle before radius reset: {circum_bef_reset}\")\n",
        "\n",
        "# set new radius\n",
        "# circle1.set_radius(3)\n",
        "\n",
        "# get circumference after reseting\n",
        "# circum_after_reset = circle1.get_circumference()\n",
        "# print(f\"\\nCircumference of circle after radius reset: {circum_after_reset}\")"
      ],
      "metadata": {
        "colab": {
          "base_uri": "https://localhost:8080/"
        },
        "id": "rPkbIMyMiRB_",
        "outputId": "f09cab0f-da8f-403f-9d71-94c8ed7875aa"
      },
      "execution_count": null,
      "outputs": [
        {
          "output_type": "stream",
          "name": "stdout",
          "text": [
            "Circumference of circle before radius reset: 6.28\n"
          ]
        }
      ]
    },
    {
      "cell_type": "code",
      "source": [],
      "metadata": {
        "id": "ZjeMxlAbiQxJ"
      },
      "execution_count": null,
      "outputs": []
    },
    {
      "cell_type": "markdown",
      "source": [
        "## **Encapsulation**\n",
        "- Encapsulation is an important concepts in Object-Oriented Programming, It helps to bundle attributes and methods inside class.\n",
        "- It provides a mechanism to hide implementation details outside of the class.\n",
        "- In python Encapsulation is achieved by using access modifiers i.e.\n",
        "  1. `__private:`\n",
        "    - It assures that attributes and methods are not accessible from outside of class.\n",
        "    - It is implemented by **double underscore (__) prefix**\n",
        "    - Example: `__private_var`,  `def __private_method()`\n",
        "  2. `_protected:`\n",
        "    - These are the attributes and methods that are intended to access by its derived class, but in python we can access such attributes and methods from outside of class as well.\n",
        "    - It is implemented by **single underscore (_) prefix**\n",
        "    - Example: `_protected_var`, `def _protected_method()`\n",
        "  3. `Public`\n",
        "    - These are the attributes and methods that are intended to access anywhere from program.\n",
        "    - The attributes and methods we discussed in above sections are all Public.\n",
        "    - It has **no any underscore prefix.**\n",
        "    - Example: `public_var`, `def public_method()`"
      ],
      "metadata": {
        "id": "o5FSlri6dAO7"
      }
    },
    {
      "cell_type": "code",
      "source": [],
      "metadata": {
        "id": "WKOTfGM8fyT9"
      },
      "execution_count": null,
      "outputs": []
    },
    {
      "cell_type": "code",
      "source": [
        "# Create private variables\n",
        "\n",
        "class Vehicle:\n",
        "  def __init__(self, color):\n",
        "    # create private attributes\n",
        "    self.__vehicle_color = color\n",
        "\n",
        "  def access_private(self):\n",
        "    return self.__vehicle_color\n",
        "\n",
        "  # create private methods\n",
        "  def __reset_color(self, color):\n",
        "    print('Colour Reseting')\n",
        "    self.__vehicle_color = color\n",
        "\n",
        "  # access private methods inside class\n",
        "  def reset_display_color(self, color = None):\n",
        "    self.__reset_color(color)\n",
        "    print(f\"Colour after reseting is: {self.__vehicle_color}\")\n",
        "\n",
        "\n",
        "# create object\n",
        "car = Vehicle('red')"
      ],
      "metadata": {
        "id": "v7eFno4mdw_V"
      },
      "execution_count": null,
      "outputs": []
    },
    {
      "cell_type": "code",
      "source": [
        "## access private attributes outside of class\n",
        "# car.__vehicle_color"
      ],
      "metadata": {
        "id": "LoWcOqUFDoVt"
      },
      "execution_count": null,
      "outputs": []
    },
    {
      "cell_type": "code",
      "source": [
        "## access private attributes via public methods\n",
        "private_attr = car.access_private()\n",
        "print(private_attr)"
      ],
      "metadata": {
        "colab": {
          "base_uri": "https://localhost:8080/"
        },
        "id": "7nfN8N5yIkqW",
        "outputId": "9b47ccf4-33cc-47ca-ddc5-3d4e56181eab"
      },
      "execution_count": null,
      "outputs": [
        {
          "output_type": "stream",
          "name": "stdout",
          "text": [
            "red\n"
          ]
        }
      ]
    },
    {
      "cell_type": "code",
      "source": [
        "## access private methods\n",
        "# for reset color\n",
        "new_color = 'black'\n",
        "car.__reset_color(new_color)\n"
      ],
      "metadata": {
        "colab": {
          "base_uri": "https://localhost:8080/",
          "height": 200
        },
        "id": "n7vy9iPMJCvs",
        "outputId": "e808a392-c696-48b5-d601-7deb749586fc"
      },
      "execution_count": null,
      "outputs": [
        {
          "output_type": "error",
          "ename": "AttributeError",
          "evalue": "ignored",
          "traceback": [
            "\u001b[0;31m---------------------------------------------------------------------------\u001b[0m",
            "\u001b[0;31mAttributeError\u001b[0m                            Traceback (most recent call last)",
            "\u001b[0;32m<ipython-input-8-4fd1f0e23880>\u001b[0m in \u001b[0;36m<cell line: 4>\u001b[0;34m()\u001b[0m\n\u001b[1;32m      2\u001b[0m \u001b[0;31m# for reset color\u001b[0m\u001b[0;34m\u001b[0m\u001b[0;34m\u001b[0m\u001b[0m\n\u001b[1;32m      3\u001b[0m \u001b[0mnew_color\u001b[0m \u001b[0;34m=\u001b[0m \u001b[0;34m'black'\u001b[0m\u001b[0;34m\u001b[0m\u001b[0;34m\u001b[0m\u001b[0m\n\u001b[0;32m----> 4\u001b[0;31m \u001b[0mcar\u001b[0m\u001b[0;34m.\u001b[0m\u001b[0m__reset_color\u001b[0m\u001b[0;34m(\u001b[0m\u001b[0mnew_color\u001b[0m\u001b[0;34m)\u001b[0m\u001b[0;34m\u001b[0m\u001b[0;34m\u001b[0m\u001b[0m\n\u001b[0m",
            "\u001b[0;31mAttributeError\u001b[0m: 'Vehicle' object has no attribute '__reset_color'"
          ]
        }
      ]
    },
    {
      "cell_type": "code",
      "source": [
        "## access private methods via public methods\n",
        "car.reset_display_color(new_color)"
      ],
      "metadata": {
        "colab": {
          "base_uri": "https://localhost:8080/"
        },
        "id": "oU8vSDz5Jl0r",
        "outputId": "de590799-76de-432b-bb8f-7fe78ce97fc4"
      },
      "execution_count": null,
      "outputs": [
        {
          "output_type": "stream",
          "name": "stdout",
          "text": [
            "Colour Reseting\n",
            "Colour after reseting is: black\n"
          ]
        }
      ]
    },
    {
      "cell_type": "markdown",
      "source": [
        "**Note:**\n",
        "- In OOP protected attributes and methods are designed to access from its derived class only.\n",
        "- But in python, we can access protected attributes and methods from outside the class as well.\n",
        "  - Because, python does not enforce strict access control like some other languages, The language relies on developers to follow conventions `(_ for protected)` and respect the privacy of class members."
      ],
      "metadata": {
        "id": "4cFGEw7iKz9c"
      }
    },
    {
      "cell_type": "markdown",
      "source": [
        "#### **Assignments:**\n",
        "`Q. Experiment protected attributes and methods in a similar way that we covered for private one.`"
      ],
      "metadata": {
        "id": "Fj68gQfZLC8f"
      }
    },
    {
      "cell_type": "code",
      "source": [
        "# write your program here\n"
      ],
      "metadata": {
        "id": "QWzYvEnNKmii"
      },
      "execution_count": null,
      "outputs": []
    },
    {
      "cell_type": "markdown",
      "source": [
        "## **Inheritance**\n",
        "- Inheritance is a way to form new classes using classes that have already been defined.\n",
        "- The newly formed classes are called `derived classes`, and the class from which derived classes are created are called `base classes`.\n",
        "- It promotes code reuse and allows you to create a hierarchy of classes that share common attributes and methods.\n",
        "- **Types of Inheritance:**\n",
        "\n",
        "  1. `Single Inheritance:`\n",
        "  2. `Multiple Inheritance:`\n",
        "  3. `Multilevel Inheritance:`\n",
        "  4. `Hierarchical Inheritance:`"
      ],
      "metadata": {
        "id": "rS5mM4J4NUjV"
      }
    },
    {
      "cell_type": "markdown",
      "source": [
        "### 1. **Single Inheritance**\n",
        "- In single inheritance, a class inherits from a single base class.\n",
        "- **syntax**\n",
        "  - `class DerivedClass(BaseClass):`\n",
        "\n",
        "**`Q. Write a python program to create a base class named Vehicle with public object attributes (name, color) and public object methods (start, stop). From  base class create a 2 derived class named Car having object attributes (fuel_type), and object methods (drive) and Bike having attrbutes (engine_capacity), methods (ride).`**"
      ],
      "metadata": {
        "id": "CZOWEUNVlfM6"
      }
    },
    {
      "cell_type": "code",
      "source": [
        "# Write your program here\n",
        "\n",
        "## Base class\n",
        "class Vehicle:\n",
        "  def __init__(self, name, color):\n",
        "    self.name = name\n",
        "    self.color = color\n",
        "\n",
        "  def start(self):\n",
        "    print(f\"The {self.color}  {self.name} is starting.\")\n",
        "\n",
        "  def stop(self):\n",
        "    print(f\"The {self.color} {self.name} is stopping.\")"
      ],
      "metadata": {
        "id": "fkrTzSkqNQ5q"
      },
      "execution_count": null,
      "outputs": []
    },
    {
      "cell_type": "code",
      "source": [
        "## Derived class Car\n",
        "\n",
        "class Car(Vehicle):\n",
        "  def __init__(self, name, color, fuel_type):\n",
        "    super().__init__(name, color) ## super is used to call base class constructor\n",
        "    self.fuel_type = fuel_type\n",
        "\n",
        "  def drive(self):\n",
        "    print(f\"The {self.color} {self.name} is driving.\")"
      ],
      "metadata": {
        "id": "A1_UKzEdNQvY"
      },
      "execution_count": null,
      "outputs": []
    },
    {
      "cell_type": "code",
      "source": [
        "# car = Car(\"Car\", \"Red\", \"Petrol\")\n",
        "car = Car(\"Car\", \"Red\", \"Petrol\")\n",
        "\n",
        "car.start()\n",
        "# car.drive()\n",
        "# car.stop()"
      ],
      "metadata": {
        "colab": {
          "base_uri": "https://localhost:8080/"
        },
        "id": "LMri6mp2sg9d",
        "outputId": "e789f512-9026-422d-866c-3f9da598b4be"
      },
      "execution_count": null,
      "outputs": [
        {
          "output_type": "stream",
          "name": "stdout",
          "text": [
            "The Red  Car is starting.\n"
          ]
        }
      ]
    },
    {
      "cell_type": "code",
      "source": [
        "## Derived class Bike\n",
        "class Bike(Vehicle):\n",
        "  def __init__(self, name, color, engine_capacity):\n",
        "    super().__init__(name, color) ## super is used to call base class constructor\n",
        "    self.engine_capacity = engine_capacity\n",
        "\n",
        "  def ride(self):\n",
        "    print(f\"The {self.color} {self.name} is being ridden.\")"
      ],
      "metadata": {
        "id": "bkT2i9RgpHPA"
      },
      "execution_count": null,
      "outputs": []
    },
    {
      "cell_type": "code",
      "source": [
        "# Creating instances of derived classes\n",
        "car = Car(\"Car\", \"Red\", \"Petrol\")\n",
        "\n",
        "bike = Bike(\"Motorcycle\", \"Blue\", 250)"
      ],
      "metadata": {
        "id": "Iy-LUFFhplKA"
      },
      "execution_count": null,
      "outputs": []
    },
    {
      "cell_type": "code",
      "source": [
        "# Accessing attributes and calling methods\n",
        "print(car.name)  # Output: Car\n",
        "print(bike.color)  # Output: Blue"
      ],
      "metadata": {
        "colab": {
          "base_uri": "https://localhost:8080/"
        },
        "id": "qw3zHBsRpo2v",
        "outputId": "430c68e2-57e7-40d4-ea4f-16a70c642e7e"
      },
      "execution_count": null,
      "outputs": [
        {
          "output_type": "stream",
          "name": "stdout",
          "text": [
            "Car\n",
            "Blue\n"
          ]
        }
      ]
    },
    {
      "cell_type": "code",
      "source": [
        "car.start()  # Output: The Red Car is starting.\n",
        "bike.stop()  # Output: The Blue Motorcycle has stopped."
      ],
      "metadata": {
        "colab": {
          "base_uri": "https://localhost:8080/"
        },
        "id": "bQK50dWcpski",
        "outputId": "28f46c95-8161-42d6-c20a-50ee6de94d0f"
      },
      "execution_count": null,
      "outputs": [
        {
          "output_type": "stream",
          "name": "stdout",
          "text": [
            "The Red  Car is starting.\n",
            "The Blue Motorcycle is stopping.\n"
          ]
        }
      ]
    },
    {
      "cell_type": "code",
      "source": [
        "car.drive()  # Output: The Red Car is driving.\n",
        "bike.ride()  # Output: The Blue Motorcycle is being ridden."
      ],
      "metadata": {
        "colab": {
          "base_uri": "https://localhost:8080/"
        },
        "id": "mbY5MKqrpwWe",
        "outputId": "bdf1a9a7-ab7c-4d93-ff3b-54fecd618c64"
      },
      "execution_count": null,
      "outputs": [
        {
          "output_type": "stream",
          "name": "stdout",
          "text": [
            "The Red Car is driving.\n",
            "The Blue Motorcycle is being ridden.\n"
          ]
        }
      ]
    },
    {
      "cell_type": "markdown",
      "source": [
        "### 2. **Multiple Inheritance**\n",
        "- In multiple inheritance, a class inherits from a single base class.\n",
        "- **Syntax**\n",
        "  - `class DerivedClass(BaseClass1, BaseClass2, .....)`\n",
        "\n",
        "\n",
        "<img src='https://drive.google.com/uc?id=1lW7kA3DgOAZVR6gyOzNzyR8y4Eg3JZiH' width='450'>\n",
        "\n"
      ],
      "metadata": {
        "id": "8U0r3aCWLqE4"
      }
    },
    {
      "cell_type": "markdown",
      "source": [
        "**`Q. Write a python program to create 2 Base class named Wheels and Engine. From the 2 base classes, create a derived class named Car using the concept of multiple inheritance.`**"
      ],
      "metadata": {
        "id": "yKPUsKScAKdA"
      }
    },
    {
      "cell_type": "code",
      "source": [
        "# create base class here\n",
        "\n",
        "# Base class 1\n",
        "class Engine:\n",
        "    def start(self):\n",
        "        print(\"The engine is starting.\")\n",
        "\n",
        "    def stop(self):\n",
        "        print(\"The engine has stopped.\")\n",
        "\n",
        "# Base class 2\n",
        "class Wheels:\n",
        "    def rotate(self):\n",
        "        print(\"The wheels are rotating.\")"
      ],
      "metadata": {
        "id": "ghuztkR_p1Gz"
      },
      "execution_count": null,
      "outputs": []
    },
    {
      "cell_type": "code",
      "source": [
        "# Create a Derived class that inherits from 2 base classes\n",
        "\n",
        "# Derived class\n",
        "class Car(Engine, Wheels):\n",
        "  def drive(self):\n",
        "    print('The Car is being driven')"
      ],
      "metadata": {
        "id": "3WuijhrbA5PQ"
      },
      "execution_count": null,
      "outputs": []
    },
    {
      "cell_type": "markdown",
      "source": [
        "`Create instance of derived class, and access base class methods using derived class instance.`"
      ],
      "metadata": {
        "id": "n-GW3GXyBO66"
      }
    },
    {
      "cell_type": "code",
      "source": [
        "# Create a instance  of Car\n",
        "car = Car()\n",
        "print(type(car))"
      ],
      "metadata": {
        "colab": {
          "base_uri": "https://localhost:8080/"
        },
        "id": "osXZrzFzBOVI",
        "outputId": "68ccf948-9a96-4fe0-b0b7-65dc821c01bd"
      },
      "execution_count": null,
      "outputs": [
        {
          "output_type": "stream",
          "name": "stdout",
          "text": [
            "<class '__main__.Car'>\n"
          ]
        }
      ]
    },
    {
      "cell_type": "code",
      "source": [
        "# access methods of base class \"Engine\"\n",
        "car.start()  # output: The engine is starting.\n",
        "car.stop()  # output: The engine has stopped."
      ],
      "metadata": {
        "colab": {
          "base_uri": "https://localhost:8080/"
        },
        "id": "qJ4rHqEdBa7L",
        "outputId": "315df6c4-ce95-4cac-8bb2-06555cd82f23"
      },
      "execution_count": null,
      "outputs": [
        {
          "output_type": "stream",
          "name": "stdout",
          "text": [
            "The engine is starting.\n",
            "The engine has stopped.\n"
          ]
        }
      ]
    },
    {
      "cell_type": "code",
      "source": [
        "# access methods of base class \"Wheel\"\n",
        "car.rotate() # output: The wheels are rotating."
      ],
      "metadata": {
        "colab": {
          "base_uri": "https://localhost:8080/"
        },
        "id": "0HDTj3fZBgMG",
        "outputId": "085921d2-70ae-4df8-827f-f76324aa4a39"
      },
      "execution_count": null,
      "outputs": [
        {
          "output_type": "stream",
          "name": "stdout",
          "text": [
            "The wheels are rotating.\n"
          ]
        }
      ]
    },
    {
      "cell_type": "code",
      "source": [],
      "metadata": {
        "id": "YpLHGU9tBtpi"
      },
      "execution_count": null,
      "outputs": []
    },
    {
      "cell_type": "markdown",
      "source": [
        "### 3. **Multilevel Inheritance**\n",
        "- In multilevel inheritance, a derived class inherits from another derived class.\n",
        "- **Syntax**\n",
        "  - `class DerivedClass1(BaseClass)`\n",
        "  - `class DerivedClass2(DerivedClass1)`\n",
        "\n",
        "<img src='https://drive.google.com/uc?id=1kLeuhJGLObzhvsuwEr6qz8b47BIr5rcl' width='450'>"
      ],
      "metadata": {
        "id": "9fWboAgTcNv5"
      }
    },
    {
      "cell_type": "markdown",
      "source": [
        "**`Q. write example program for multilevel inheritance`**"
      ],
      "metadata": {
        "id": "SBKXVeMlgJjC"
      }
    },
    {
      "cell_type": "code",
      "source": [
        "## write your program here\n",
        "\n",
        "# Base class\n",
        "class Vehicle:\n",
        "  def __init__(self, name):\n",
        "    print(\"I am from Init\")\n",
        "    self.name = name\n",
        "\n",
        "  def start(self):\n",
        "    print(f\"The {self.name} is starting.\")"
      ],
      "metadata": {
        "id": "Y8Cj3iRmeu5_"
      },
      "execution_count": null,
      "outputs": []
    },
    {
      "cell_type": "code",
      "source": [
        "# Derived Class inheriting from Vehicle\n",
        "class Car(Vehicle):\n",
        "  def __init__(self, name):\n",
        "    Vehicle.__init__(self, name)\n",
        "  def drive(self):\n",
        "    print(f\"The {self.name} is being driven.\")"
      ],
      "metadata": {
        "id": "smD39D-JhHKy"
      },
      "execution_count": null,
      "outputs": []
    },
    {
      "cell_type": "code",
      "source": [
        "# Derived Class inheriting from Car\n",
        "class SportsCar(Car):\n",
        "  def __init__(self, name):\n",
        "    Car.__init__(self, name)\n",
        "  def accelerate(self):\n",
        "    print(f\"The {self.name} is accelerating.\")"
      ],
      "metadata": {
        "id": "bRWVCdn7hUAa"
      },
      "execution_count": null,
      "outputs": []
    },
    {
      "cell_type": "code",
      "source": [
        "# Create instance of sportscar\n",
        "sports_car = SportsCar(\"sports car\")"
      ],
      "metadata": {
        "id": "cOtapw4PhlOI",
        "colab": {
          "base_uri": "https://localhost:8080/"
        },
        "outputId": "bbafeffd-3f6b-4608-9403-cbbe8b2ba369"
      },
      "execution_count": null,
      "outputs": [
        {
          "output_type": "stream",
          "name": "stdout",
          "text": [
            "I am from Init\n"
          ]
        }
      ]
    },
    {
      "cell_type": "code",
      "source": [
        "# access class \"Vehicle\" method\n",
        "sports_car.start()  # Output: The Sports Car is starting."
      ],
      "metadata": {
        "colab": {
          "base_uri": "https://localhost:8080/"
        },
        "id": "_zIklxPshqE8",
        "outputId": "2f921a7d-9cad-4bb8-a988-918dcfad3b82"
      },
      "execution_count": null,
      "outputs": [
        {
          "output_type": "stream",
          "name": "stdout",
          "text": [
            "The sports car is starting.\n"
          ]
        }
      ]
    },
    {
      "cell_type": "code",
      "source": [
        "# access class \"Car\" method\n",
        "sports_car.drive() # Output: The Sports Car is being driven."
      ],
      "metadata": {
        "colab": {
          "base_uri": "https://localhost:8080/"
        },
        "id": "MUv9-GCMjhgs",
        "outputId": "2c9887e5-56fb-4067-de3e-352d0467d166"
      },
      "execution_count": null,
      "outputs": [
        {
          "output_type": "stream",
          "name": "stdout",
          "text": [
            "The sports car is being driven.\n"
          ]
        }
      ]
    },
    {
      "cell_type": "code",
      "source": [
        "# access class \"SportsCar\"  method\n",
        "sports_car.accelerate()"
      ],
      "metadata": {
        "colab": {
          "base_uri": "https://localhost:8080/"
        },
        "id": "_Om3RqV4lPIK",
        "outputId": "73e92d9a-857e-40e4-d411-94e5d7496403"
      },
      "execution_count": null,
      "outputs": [
        {
          "output_type": "stream",
          "name": "stdout",
          "text": [
            "The sports car is accelerating.\n"
          ]
        }
      ]
    },
    {
      "cell_type": "code",
      "source": [],
      "metadata": {
        "id": "-2Eu7LUslYSF"
      },
      "execution_count": null,
      "outputs": []
    },
    {
      "cell_type": "markdown",
      "source": [
        "### 4. **Hierarchical Inheritance**\n",
        "- In Hierarchical Inheritance, multiple derived classes inherit from a single base class.\n",
        "- **Syntax**\n",
        "  - `class B(A)`\n",
        "  - `class C(A)`\n",
        "  - `class D(B)`\n",
        "  - `class E(B)`\n",
        "\n",
        "<img src='https://drive.google.com/uc?id=1UCAPLLeUm9Tl2K7fHNoytw0bpaoaILE8' width='500'>\n",
        "\n"
      ],
      "metadata": {
        "id": "s9GjJV_yla4X"
      }
    },
    {
      "cell_type": "markdown",
      "source": [
        "### **Assignments**\n",
        "\n",
        "**`Write any python program that explains Hierarchical Inheritance`**"
      ],
      "metadata": {
        "id": "gld4zCRioCIW"
      }
    },
    {
      "cell_type": "code",
      "source": [
        "# write your program here for hierarchical indexing\n"
      ],
      "metadata": {
        "id": "Yxo4wV8In6xY"
      },
      "execution_count": null,
      "outputs": []
    },
    {
      "cell_type": "code",
      "source": [],
      "metadata": {
        "id": "MNMfbCJcHQiL"
      },
      "execution_count": null,
      "outputs": []
    },
    {
      "cell_type": "markdown",
      "source": [
        "# **Polymorphism**\n",
        "- The word \"Polymorphism\" means \"many forms\"\n",
        "- Different types:\n",
        "  - `Function Polymorphism`\n",
        "  - `Class Polymorphism`\n",
        "  - `Inheritance Class Polymorphism`"
      ],
      "metadata": {
        "id": "cKKHA4AgHQzL"
      }
    },
    {
      "cell_type": "markdown",
      "source": [
        "#### **Function Polymorphism**\n",
        "- We can achieve function Polymorpshim through the concept of function overloading.\n",
        "\n",
        "- Function Overloading is a feature in programming that allows you to define multiple functions with the same name but with different parameters or agument types.\n",
        "\n",
        "- In Python, function overloading is not directly supported as it is in languages like C++ or Java, because of dynamic typing.\n",
        "\n",
        "- However, In Python you can achieve function overloading concepts using a combination of techniques such as default arguments and variable-length arguments."
      ],
      "metadata": {
        "id": "rYWVunh3Ijzf"
      }
    },
    {
      "cell_type": "code",
      "source": [
        "# write your program here\n",
        "\n",
        "def add(num1, num2, num3=None):\n",
        "  \"\"\"\n",
        "  function to add 2 numbers\n",
        "  \"\"\"\n",
        "  if num3:\n",
        "    return num1+num2+num3\n",
        "  else:\n",
        "    return num1+num2\n"
      ],
      "metadata": {
        "id": "YQZmfS6kHTJI"
      },
      "execution_count": null,
      "outputs": []
    },
    {
      "cell_type": "code",
      "source": [
        "add(1, 2)"
      ],
      "metadata": {
        "colab": {
          "base_uri": "https://localhost:8080/"
        },
        "id": "NdVGX808z5fB",
        "outputId": "fc34af49-d0f3-42f1-a83a-788b68805973"
      },
      "execution_count": null,
      "outputs": [
        {
          "output_type": "execute_result",
          "data": {
            "text/plain": [
              "3"
            ]
          },
          "metadata": {},
          "execution_count": 32
        }
      ]
    },
    {
      "cell_type": "code",
      "source": [
        "add(1, 2, 3)"
      ],
      "metadata": {
        "colab": {
          "base_uri": "https://localhost:8080/"
        },
        "id": "Ud6ejSYcz7Df",
        "outputId": "6fcac2ff-6508-4785-b6d9-fb76fdc0d527"
      },
      "execution_count": null,
      "outputs": [
        {
          "output_type": "execute_result",
          "data": {
            "text/plain": [
              "6"
            ]
          },
          "metadata": {},
          "execution_count": 33
        }
      ]
    },
    {
      "cell_type": "code",
      "source": [
        "# call function\n",
        "print(\"1+2 = \", add(1, 2)) # Output: 3\n",
        "print(\"1+2+3 = \", add( 1, 2, 3)) # Output: 6"
      ],
      "metadata": {
        "colab": {
          "base_uri": "https://localhost:8080/"
        },
        "id": "kQF1rgk9K5u8",
        "outputId": "ee31182f-183c-4f9f-9de1-8655d58f866a"
      },
      "execution_count": null,
      "outputs": [
        {
          "output_type": "stream",
          "name": "stdout",
          "text": [
            "1+2 =  3\n",
            "1+2+3 =  6\n"
          ]
        }
      ]
    },
    {
      "cell_type": "markdown",
      "source": [
        "#### **Class Polymorphism**\n",
        "- Polymorphism is often used in Class methods, where we can have multiple classes with the same method name.\n",
        "- **Example:**"
      ],
      "metadata": {
        "id": "1AyNWVUQMVch"
      }
    },
    {
      "cell_type": "code",
      "source": [
        "## write your program here\n",
        "class Car:\n",
        "  def __init__(self, name, color):\n",
        "    self.name = name\n",
        "    self.color = color\n",
        "\n",
        "  def vehicle_type(self):\n",
        "    print(f'{self.name} {self.color} is Electric type')\n",
        "\n",
        "class Truck:\n",
        "  def __init__(self, name, color):\n",
        "    self.name = name\n",
        "    self.color = color\n",
        "\n",
        "  def vehicle_type(self):\n",
        "    print(f'{self.name} {self.color} is Diesel type')\n",
        "\n",
        "class Bike:\n",
        "  def __init__(self, name, color):\n",
        "    self.name = name\n",
        "    self.color = color\n",
        "\n",
        "  def vehicle_type(self):\n",
        "    print(f'{self.name} {self.color} is Petrol type')"
      ],
      "metadata": {
        "id": "BaG1CvQXLIhv"
      },
      "execution_count": null,
      "outputs": []
    },
    {
      "cell_type": "code",
      "source": [
        "# Instantiate object for 3 classes\n",
        "car = Car('car', 'red')\n",
        "truck = Truck('truck', 'black')\n",
        "bike = Bike('bike', 'green')"
      ],
      "metadata": {
        "id": "AH_z5eeBNT5S"
      },
      "execution_count": null,
      "outputs": []
    },
    {
      "cell_type": "code",
      "source": [
        "car.vehicle_type()\n",
        "truck.vehicle_type()\n",
        "bike.vehicle_type()"
      ],
      "metadata": {
        "colab": {
          "base_uri": "https://localhost:8080/"
        },
        "id": "gFeisTZe1tLs",
        "outputId": "57c2c1a1-b3fe-44e5-c2d0-05125de14ae0"
      },
      "execution_count": null,
      "outputs": [
        {
          "output_type": "stream",
          "name": "stdout",
          "text": [
            "car red is Electric type\n",
            "truck black is Diesel type\n",
            "bike green is Petrol type\n"
          ]
        }
      ]
    },
    {
      "cell_type": "code",
      "source": [
        "# Method Invoke\n",
        "for obj in (car, truck, bike):\n",
        "  obj.vehicle_type()\n",
        "  print(\"---------------\")"
      ],
      "metadata": {
        "colab": {
          "base_uri": "https://localhost:8080/"
        },
        "id": "ebJk3U1nP9Ab",
        "outputId": "fcaaf95e-3765-44e3-f8d3-0a5b1871ebd3"
      },
      "execution_count": null,
      "outputs": [
        {
          "output_type": "stream",
          "name": "stdout",
          "text": [
            "car red is Electric type\n",
            "---------------\n",
            "truck black is Diesel type\n",
            "---------------\n",
            "bike green is Petrol type\n",
            "---------------\n"
          ]
        }
      ]
    },
    {
      "cell_type": "markdown",
      "source": [
        "`Because of Polymorphism we can execute the same method for all three classes.`"
      ],
      "metadata": {
        "id": "oL-Y72fWRCx2"
      }
    },
    {
      "cell_type": "markdown",
      "source": [
        "#### **Abstract Classes**\n",
        "- An abstract class can be considered as a blueprint for other classes.\n",
        "\n",
        "- It allows you to create a set of methods that must be created within any child classes inherited from the abstract class.\n",
        "\n",
        "- A class which contains one or more abstract methods is called an abstract class.\n",
        "\n",
        "- An abstract method is a method that has a declaration but does not have implementation.\n",
        "\n",
        "- **How to define Abstract Base Class**\n",
        "```python\n",
        "  # import module ABC from abc\n",
        "  # abc: abstrct base class\n",
        "\n",
        "  from abc import ABC, abstractmethod\n",
        "\n",
        "  class Vehicle(ABC):\n",
        "\n",
        "    # add decorator to make methods as abstract methods\n",
        "    @abstractmethod\n",
        "    def start(self):\n",
        "      pass\n",
        "\n",
        "  ```"
      ],
      "metadata": {
        "id": "iRvcIV3zSzb1"
      }
    },
    {
      "cell_type": "markdown",
      "source": [
        "**`Q. Write a python program to create abstract class with method start(). Create another 2 class Car and Truck inherited from Abstract Class with the implementation of abstract method.`**"
      ],
      "metadata": {
        "id": "0MKTzeHuVMwY"
      }
    },
    {
      "cell_type": "code",
      "source": [
        "# Create a Abstract Base Class named \"Vehicle\"\n",
        "\n",
        "from abc import ABC, abstractmethod\n",
        "\n",
        "class Vehicle(ABC):\n",
        "\n",
        "  @abstractmethod\n",
        "  def start(self):\n",
        "    pass"
      ],
      "metadata": {
        "id": "RGm-lJ8yQGbi"
      },
      "execution_count": null,
      "outputs": []
    },
    {
      "cell_type": "code",
      "source": [
        "# Create a Derived Class named \"Car\"\n",
        "class Car(Vehicle):\n",
        "\n",
        "  def start(self):\n",
        "    print(\"Car is starting\")"
      ],
      "metadata": {
        "id": "MK1iqeF6Vmf6"
      },
      "execution_count": null,
      "outputs": []
    },
    {
      "cell_type": "code",
      "source": [
        "# Create a Derived Class named \"Truck\"\n",
        "\n",
        "class Truck(Vehicle):\n",
        "\n",
        "  def start(self):\n",
        "    print(\"Truck is starting\")"
      ],
      "metadata": {
        "id": "jeTczXxpWwLQ"
      },
      "execution_count": null,
      "outputs": []
    },
    {
      "cell_type": "code",
      "source": [
        "# Instantiate Objects\n",
        "car = Car()\n",
        "truck = Truck()"
      ],
      "metadata": {
        "id": "LqAE5vdCXB1C"
      },
      "execution_count": null,
      "outputs": []
    },
    {
      "cell_type": "code",
      "source": [
        "# Invoke methods\n",
        "car.start()\n",
        "print('----------')\n",
        "truck.start()"
      ],
      "metadata": {
        "colab": {
          "base_uri": "https://localhost:8080/"
        },
        "id": "8ZvTey2rXOdN",
        "outputId": "d0929295-d860-4a76-b354-40602541f91a"
      },
      "execution_count": null,
      "outputs": [
        {
          "output_type": "stream",
          "name": "stdout",
          "text": [
            "Car is starting\n",
            "----------\n",
            "Truck is starting\n"
          ]
        }
      ]
    },
    {
      "cell_type": "markdown",
      "source": [
        "`This is another way to achieve polymorphism in python.`"
      ],
      "metadata": {
        "id": "TP6l_CmuXYVo"
      }
    },
    {
      "cell_type": "code",
      "source": [],
      "metadata": {
        "id": "pSTQREA3XRuC"
      },
      "execution_count": null,
      "outputs": []
    },
    {
      "cell_type": "markdown",
      "source": [
        "## **Special Methods**\n",
        "- Python has some special methods that allow you to define the behaviour of classes.\n",
        "\n",
        "- These methods start and end with the double underscore. Example: `__init__()`\n",
        "\n",
        "- Special methods are also called magic methods or dunder methods (double underscore).\n",
        "\n",
        "- Magic methods are not meant to be invoked directly by you, but the invocation happens internally from the class on a certain action.\n",
        "\n",
        "- **Magic methods list:**\n",
        "\n",
        "| Special Method              | Description                                                     |\n",
        "|----------------------------|-----------------------------------------------------------------|\n",
        "| `__init__(self, ...)`      | Constructor method for initializing a new instance of a class.  |\n",
        "| `__str__(self)`            | Returns a string representation of the object.                  |\n",
        "| `__repr__(self)`           | Returns a string representation of the object.                  |\n",
        "| `__len__(self)`            | Returns the length of an object.                                |\n",
        "| `__getitem__(self, key)`   | Enables indexing of an object using square brackets.            |\n",
        "| `__setitem__(self, key, value)` | Enables assignment of a value to an object using square brackets. |\n",
        "| `__delitem__(self, key)`   | Enables deletion of an item from an object using the `del` statement. |\n",
        "| `__iter__(self)`           | Returns an iterator object for the class.                       |\n",
        "| `__next__(self)`           | Returns the next item from an iterator object.                  |\n",
        "| `__contains__(self, item)` | Checks if an item is present in the object using the `in` operator. |\n",
        "| `__call__(self, ...)`      | Allows an instance of a class to be called as a function.       |\n",
        "| `__eq__(self, other)`      | Compares the equality of two objects using the `==` operator.   |\n",
        "| `__lt__(self, other)`      | Compares if an object is less than another object using the `<` operator. |\n",
        "| `__add__(self, other)`     | Enables addition of two objects using the `+` operator.         |\n",
        "| `__sub__(self, other)`     | Enables subtraction of two objects using the `-` operator.      |\n"
      ],
      "metadata": {
        "id": "YNMWWYsaYfKD"
      }
    },
    {
      "cell_type": "markdown",
      "source": [
        "**`Create a Class with the magic methods`**"
      ],
      "metadata": {
        "id": "IT0AhWvskSuk"
      }
    },
    {
      "cell_type": "code",
      "source": [
        "# write your program here\n",
        "\n",
        "class Vehicle:\n",
        "  def __init__(self, name, color, price, num_tiers):\n",
        "    self.name = name\n",
        "    self.color = color\n",
        "    self.num_tiers = num_tiers\n",
        "    self.price = price\n",
        "\n",
        "  def __str__(self):\n",
        "    return f\"{self.color} {self.name} has price = {self.price}\"\n",
        "\n",
        "  def __add__(self, other):\n",
        "    return self.num_tiers + other.num_tiers\n",
        "\n",
        "  def __gt__(self, other):\n",
        "    if (self.price > other.price):\n",
        "      return True\n",
        "\n",
        "    else:\n",
        "      return False\n",
        "\n",
        "  def __del__(self):\n",
        "    print(\"Object is destroyed\")\n",
        "\n",
        "  def __len__(self):\n",
        "    pass\n",
        "\n",
        "  def __call__(self, a, b, c, d):\n",
        "    print(\"I am from call magic method.\")"
      ],
      "metadata": {
        "id": "ZRCivx6umvfC"
      },
      "execution_count": null,
      "outputs": []
    },
    {
      "cell_type": "code",
      "source": [
        "# Instantiate Objects here\n",
        "car = Vehicle(\"car\", \"red\", 10000, 4)\n",
        "bus = Vehicle(\"bus\", \"green\", 20000, 8)"
      ],
      "metadata": {
        "id": "N7I0VZmfqq4_",
        "colab": {
          "base_uri": "https://localhost:8080/"
        },
        "outputId": "a21b20ec-a5b7-420f-e148-b9a140f7f54f"
      },
      "execution_count": null,
      "outputs": [
        {
          "output_type": "stream",
          "name": "stdout",
          "text": [
            "Object is destroyed\n",
            "Object is destroyed\n"
          ]
        }
      ]
    },
    {
      "cell_type": "code",
      "source": [
        "# invoke __call__\n",
        "car(1, 2, 3, 4)"
      ],
      "metadata": {
        "colab": {
          "base_uri": "https://localhost:8080/"
        },
        "id": "-_CvhEWw8EfK",
        "outputId": "9003e49d-cb3e-4d74-8559-1e4527091a83"
      },
      "execution_count": null,
      "outputs": [
        {
          "output_type": "stream",
          "name": "stdout",
          "text": [
            "I am from call magic method.\n"
          ]
        }
      ]
    },
    {
      "cell_type": "code",
      "source": [
        "# invoke __str__\n",
        "print(car)\n",
        "print(bus)"
      ],
      "metadata": {
        "id": "k2g9IVfmsdCO",
        "colab": {
          "base_uri": "https://localhost:8080/"
        },
        "outputId": "0b38cf1f-9d26-4c1b-d1b2-10d5bf77097e"
      },
      "execution_count": null,
      "outputs": [
        {
          "output_type": "stream",
          "name": "stdout",
          "text": [
            "red car has price = 10000\n",
            "green bus has price = 20000\n"
          ]
        }
      ]
    },
    {
      "cell_type": "code",
      "source": [
        "print(str(car))\n",
        "print(str(bus))"
      ],
      "metadata": {
        "id": "zZEOWI7ttBXN",
        "colab": {
          "base_uri": "https://localhost:8080/"
        },
        "outputId": "842cdce5-0527-46b7-8f70-7acb5497ab41"
      },
      "execution_count": null,
      "outputs": [
        {
          "output_type": "stream",
          "name": "stdout",
          "text": [
            "red car has price = 10000\n",
            "green bus has price = 20000\n"
          ]
        }
      ]
    },
    {
      "cell_type": "code",
      "source": [
        "# add 2 object (__add__())\n",
        "car + bus"
      ],
      "metadata": {
        "colab": {
          "base_uri": "https://localhost:8080/"
        },
        "id": "adcSFHVH3JT2",
        "outputId": "7d784814-6f90-4d1d-bbf7-eb5cc86d5d94"
      },
      "execution_count": null,
      "outputs": [
        {
          "output_type": "execute_result",
          "data": {
            "text/plain": [
              "12"
            ]
          },
          "metadata": {},
          "execution_count": 23
        }
      ]
    },
    {
      "cell_type": "code",
      "source": [
        "# greater than __gt__\n",
        "car > bus"
      ],
      "metadata": {
        "colab": {
          "base_uri": "https://localhost:8080/"
        },
        "id": "EVjWuknF3PDl",
        "outputId": "0385a4c5-4ab2-491d-c12b-6aba60a7d346"
      },
      "execution_count": null,
      "outputs": [
        {
          "output_type": "execute_result",
          "data": {
            "text/plain": [
              "False"
            ]
          },
          "metadata": {},
          "execution_count": 24
        }
      ]
    },
    {
      "cell_type": "code",
      "source": [
        "car"
      ],
      "metadata": {
        "colab": {
          "base_uri": "https://localhost:8080/"
        },
        "id": "xFdcA6v56NBx",
        "outputId": "6542a254-ac44-4d1d-8fd1-19561f5e2f7e"
      },
      "execution_count": null,
      "outputs": [
        {
          "output_type": "execute_result",
          "data": {
            "text/plain": [
              "<__main__.Vehicle at 0x7f917175b7c0>"
            ]
          },
          "metadata": {},
          "execution_count": 17
        }
      ]
    },
    {
      "cell_type": "code",
      "source": [
        "# call __del__\n",
        "del car"
      ],
      "metadata": {
        "colab": {
          "base_uri": "https://localhost:8080/"
        },
        "id": "7t2w8Fte5VsD",
        "outputId": "6dda91c2-72d6-46a4-fbc4-25e77c169907"
      },
      "execution_count": null,
      "outputs": [
        {
          "output_type": "stream",
          "name": "stdout",
          "text": [
            "Object is destroyed\n"
          ]
        }
      ]
    },
    {
      "cell_type": "code",
      "source": [
        "car"
      ],
      "metadata": {
        "colab": {
          "base_uri": "https://localhost:8080/",
          "height": 172
        },
        "id": "joreh8M15we_",
        "outputId": "38733dfb-368b-4703-8c95-6aa13ee1e1d8"
      },
      "execution_count": null,
      "outputs": [
        {
          "output_type": "error",
          "ename": "NameError",
          "evalue": "ignored",
          "traceback": [
            "\u001b[0;31m---------------------------------------------------------------------------\u001b[0m",
            "\u001b[0;31mNameError\u001b[0m                                 Traceback (most recent call last)",
            "\u001b[0;32m<ipython-input-38-38f6ffefbd69>\u001b[0m in \u001b[0;36m<cell line: 1>\u001b[0;34m()\u001b[0m\n\u001b[0;32m----> 1\u001b[0;31m \u001b[0mcar\u001b[0m\u001b[0;34m\u001b[0m\u001b[0;34m\u001b[0m\u001b[0m\n\u001b[0m",
            "\u001b[0;31mNameError\u001b[0m: name 'car' is not defined"
          ]
        }
      ]
    }
  ]
}