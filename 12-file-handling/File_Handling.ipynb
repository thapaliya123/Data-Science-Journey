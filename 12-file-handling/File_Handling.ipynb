{
  "nbformat": 4,
  "nbformat_minor": 0,
  "metadata": {
    "colab": {
      "provenance": []
    },
    "kernelspec": {
      "name": "python3",
      "display_name": "Python 3"
    },
    "language_info": {
      "name": "python"
    }
  },
  "cells": [
    {
      "cell_type": "markdown",
      "source": [
        "# **Python File Handling**\n",
        "- `As a programmer, How can we interact with the files that are avilable in our computer storage device?`\n",
        "- Python File Handling allows you to interact with files that are present in your pc.\n",
        "- Interaction of files means, `opening file`, `reading file`, `writing to a file`, `closing file`.\n",
        "- Python provides a straightforward and powerful way to work with files using built-in functions and methods.\n",
        "\n",
        "- **Use Cases:**\n",
        "  - Imagine you scraped some website content (e.g. `Onlinekhabar.com`)\n",
        "  - You can use Python File Handling to Save such scraped content on some files.\n",
        "\n",
        "- In this lecture we'll cover:\n",
        "  - `Opening Files in Python`\n",
        "  - `Reading Files in Python`\n",
        "  - `Closing Files in Python`\n",
        "  - `Writing Files in Python`\n",
        "  - `Delete Files in Python`"
      ],
      "metadata": {
        "id": "a4iIcED1iuiC"
      }
    },
    {
      "cell_type": "code",
      "source": [
        "# !touch demo.txt\n",
        "\n",
        "# Hi am Learning python.\n",
        "# Python is awesome language."
      ],
      "metadata": {
        "id": "1IWnSsrgmn7M"
      },
      "execution_count": null,
      "outputs": []
    },
    {
      "cell_type": "code",
      "source": [
        "!cat demo.txt"
      ],
      "metadata": {
        "colab": {
          "base_uri": "https://localhost:8080/"
        },
        "id": "TF2GYHqq991V",
        "outputId": "b84340ca-a06b-4c61-b9bb-7e60f8ef6ed5"
      },
      "execution_count": null,
      "outputs": [
        {
          "output_type": "stream",
          "name": "stdout",
          "text": [
            "Hi am Learning python.\n",
            "Python is awesome language."
          ]
        }
      ]
    },
    {
      "cell_type": "markdown",
      "source": [
        "### **Opening Files in Python**\n",
        "- Python has built-in `open()` function to open files.\n",
        "- **syntax:**\n",
        "  ```python\n",
        "  file_object = open('filename', 'mode')\n",
        "  ```\n",
        "\n",
        "- **Different modes**\n",
        "\n",
        "| Mode   | Description                                   |\n",
        "|--------|-----------------------------------------------|\n",
        "| \"r\"    | Read mode. Opens a file for reading. Error if file doesn't exists          |\n",
        "| \"a\"    | Append mode. Opens a file for appending data. create a file if file doesn't exists |\n",
        "| \"w\"    | Write mode. Opens a file for writing data. create a file if file doesn't exist    |\n",
        "| \"x\"    | Create mode. Creates a new file for writing.  Returns error if file already exists |\n"
      ],
      "metadata": {
        "id": "6emB1JW3mILw"
      }
    },
    {
      "cell_type": "code",
      "source": [
        "# open file in read mode (r)\n",
        "# file name demo.txt\n",
        "# Hint: file_obj = open(\"file\", \"mode\")\n",
        "filename = \"demo.txt\"\n",
        "\n",
        "file_obj = open('demo.txt', 'r')"
      ],
      "metadata": {
        "id": "FYCkEXiDn5NI"
      },
      "execution_count": null,
      "outputs": []
    },
    {
      "cell_type": "code",
      "source": [
        "# check type\n",
        "print(type(file_obj))"
      ],
      "metadata": {
        "id": "aTrOdSVVsQGj",
        "colab": {
          "base_uri": "https://localhost:8080/"
        },
        "outputId": "edd1fa8c-f9f5-4539-e5ff-9c3c0d06e9e5"
      },
      "execution_count": null,
      "outputs": [
        {
          "output_type": "stream",
          "name": "stdout",
          "text": [
            "<class '_io.TextIOWrapper'>\n"
          ]
        }
      ]
    },
    {
      "cell_type": "code",
      "source": [
        "# open file in write mode (w)\n",
        "# Hint: file_obj = open(\"file\", \"mode\")\n",
        "file_obj = open('demo.txt', 'w')"
      ],
      "metadata": {
        "id": "abWK6mgHqmmS"
      },
      "execution_count": null,
      "outputs": []
    },
    {
      "cell_type": "code",
      "source": [
        "# open file in append mode (a)\n",
        "# Hint: file_obj = open(\"file\", \"mode\")\n",
        "file_obj = open('demo.txt', 'a')"
      ],
      "metadata": {
        "id": "2YzdWtF6q6df"
      },
      "execution_count": null,
      "outputs": []
    },
    {
      "cell_type": "code",
      "source": [
        "# open file in create mode (x)\n",
        "# Hint: file_obj = open(\"file\", \"mode\")\n",
        "file_obj = open('demo1.txt', 'x')"
      ],
      "metadata": {
        "id": "c4t030Raq9Na",
        "colab": {
          "base_uri": "https://localhost:8080/",
          "height": 200
        },
        "outputId": "04ffc5a0-660c-4e16-cc75-959c3769642c"
      },
      "execution_count": null,
      "outputs": [
        {
          "output_type": "error",
          "ename": "FileExistsError",
          "evalue": "ignored",
          "traceback": [
            "\u001b[0;31m---------------------------------------------------------------------------\u001b[0m",
            "\u001b[0;31mFileExistsError\u001b[0m                           Traceback (most recent call last)",
            "\u001b[0;32m<ipython-input-10-ed2f628c9750>\u001b[0m in \u001b[0;36m<cell line: 3>\u001b[0;34m()\u001b[0m\n\u001b[1;32m      1\u001b[0m \u001b[0;31m# open file in create mode (x)\u001b[0m\u001b[0;34m\u001b[0m\u001b[0;34m\u001b[0m\u001b[0m\n\u001b[1;32m      2\u001b[0m \u001b[0;31m# Hint: file_obj = open(\"file\", \"mode\")\u001b[0m\u001b[0;34m\u001b[0m\u001b[0;34m\u001b[0m\u001b[0m\n\u001b[0;32m----> 3\u001b[0;31m \u001b[0mfile_obj\u001b[0m \u001b[0;34m=\u001b[0m \u001b[0mopen\u001b[0m\u001b[0;34m(\u001b[0m\u001b[0;34m'demo1.txt'\u001b[0m\u001b[0;34m,\u001b[0m \u001b[0;34m'x'\u001b[0m\u001b[0;34m)\u001b[0m\u001b[0;34m\u001b[0m\u001b[0;34m\u001b[0m\u001b[0m\n\u001b[0m",
            "\u001b[0;31mFileExistsError\u001b[0m: [Errno 17] File exists: 'demo1.txt'"
          ]
        }
      ]
    },
    {
      "cell_type": "markdown",
      "source": [
        "**Alternative way**\n",
        "\n",
        "`syntax`\n",
        "\n",
        "```python\n",
        "with open('filename', 'mode') as file_obj:\n",
        "  pass\n",
        "```"
      ],
      "metadata": {
        "id": "00HReY-4rqij"
      }
    },
    {
      "cell_type": "code",
      "source": [
        "# write your program here\n",
        "with open('demo.txt', 'r') as file_obj:\n",
        "  pass"
      ],
      "metadata": {
        "id": "J-HGeKsjrp-F"
      },
      "execution_count": null,
      "outputs": []
    },
    {
      "cell_type": "markdown",
      "source": [
        "### **Reading Files in Python**\n",
        "- Built-in `open()` function returns a file object.\n",
        "- Now, we can use file object to read the file contents with the help of available methods.\n",
        "- **Different methods**\n",
        "  - `.read()`\n",
        "  - `.readline()`\n",
        "  - `.readlines()`\n"
      ],
      "metadata": {
        "id": "4OsNP3xzsd0T"
      }
    },
    {
      "cell_type": "code",
      "source": [
        "# read whole file content\n",
        "# Hint: .read()\n",
        "\n",
        "with open(\"demo.txt\", 'r') as file_obj:\n",
        "  # file_content = file_obj.read()\n",
        "  file_content = file_obj.read()\n",
        "\n",
        "print(file_content)"
      ],
      "metadata": {
        "colab": {
          "base_uri": "https://localhost:8080/"
        },
        "id": "lfwVtilXtZDD",
        "outputId": "692dabcd-6439-4747-c1c2-dd9e940428f0"
      },
      "execution_count": null,
      "outputs": [
        {
          "output_type": "stream",
          "name": "stdout",
          "text": [
            "Hi am Learning python.\n",
            "Python is awesome language.\n"
          ]
        }
      ]
    },
    {
      "cell_type": "code",
      "source": [
        "print(type(file_content))"
      ],
      "metadata": {
        "colab": {
          "base_uri": "https://localhost:8080/"
        },
        "id": "XcEL8VdtBGaJ",
        "outputId": "7d8103be-9bb4-4656-c378-c840427389b0"
      },
      "execution_count": null,
      "outputs": [
        {
          "output_type": "stream",
          "name": "stdout",
          "text": [
            "<class 'str'>\n"
          ]
        }
      ]
    },
    {
      "cell_type": "code",
      "source": [
        "# read first 10 characters in file\n",
        "# Hint: .read(10)\n",
        "with open(\"demo.txt\", 'r') as file_obj:\n",
        "  file_content = file_obj.read(10)\n",
        "print(file_content)"
      ],
      "metadata": {
        "colab": {
          "base_uri": "https://localhost:8080/"
        },
        "id": "h0XO2-cMtbWk",
        "outputId": "4a2bfd50-6e4c-45bd-aadc-f777b9f02508"
      },
      "execution_count": null,
      "outputs": [
        {
          "output_type": "stream",
          "name": "stdout",
          "text": [
            "Hi am Lear\n"
          ]
        }
      ]
    },
    {
      "cell_type": "code",
      "source": [
        "# read single line in file\n",
        "# Hint: .readline()\n",
        "\n",
        "with open(\"demo.txt\", 'r') as file_obj:\n",
        "  file_content_line = file_obj.readline()\n",
        "\n",
        "print(file_content_line)"
      ],
      "metadata": {
        "colab": {
          "base_uri": "https://localhost:8080/"
        },
        "id": "AQn6GmDur0KD",
        "outputId": "2b82f0c3-a0df-4aa3-c852-558dcebdf972"
      },
      "execution_count": null,
      "outputs": [
        {
          "output_type": "stream",
          "name": "stdout",
          "text": [
            "Hi am Learning python.\n",
            "\n"
          ]
        }
      ]
    },
    {
      "cell_type": "code",
      "source": [
        "# read all file content line by line\n",
        "# Hint: .readlines()\n",
        "\n",
        "with open(\"demo.txt\", 'r') as file_obj:\n",
        "  all_file_content_line = file_obj.readlines()\n",
        "\n",
        "print(all_file_content_line)"
      ],
      "metadata": {
        "colab": {
          "base_uri": "https://localhost:8080/"
        },
        "id": "V-yC_PrEtVWL",
        "outputId": "9c06d26e-f609-4ff3-b9e0-c837bf26e4a8"
      },
      "execution_count": null,
      "outputs": [
        {
          "output_type": "stream",
          "name": "stdout",
          "text": [
            "['Hi am Learning python.\\n', 'Python is awesome language.']\n"
          ]
        }
      ]
    },
    {
      "cell_type": "markdown",
      "source": [
        "- `Closing Files in Python`\n",
        "- Once we open a file it is always best practice to close the file.\n",
        "- Closing a file will free up the resources that were tied with the file.\n",
        "- `close()` method is used to close the file.\n"
      ],
      "metadata": {
        "id": "AgfBL0HhyMd5"
      }
    },
    {
      "cell_type": "code",
      "source": [
        "## open file in read mode\n",
        "# without using `with` keyword\n",
        "\n",
        "file_obj = open('demo.txt', 'r')"
      ],
      "metadata": {
        "id": "Vqei8JWutXLh"
      },
      "execution_count": null,
      "outputs": []
    },
    {
      "cell_type": "code",
      "source": [
        "# read a single line\n",
        "file_obj.readline()"
      ],
      "metadata": {
        "colab": {
          "base_uri": "https://localhost:8080/",
          "height": 35
        },
        "id": "F3KXExbezfyg",
        "outputId": "ea13cdae-a447-4415-f79a-898945d070e8"
      },
      "execution_count": null,
      "outputs": [
        {
          "output_type": "execute_result",
          "data": {
            "text/plain": [
              "'Hi am Learning python.\\n'"
            ],
            "application/vnd.google.colaboratory.intrinsic+json": {
              "type": "string"
            }
          },
          "metadata": {},
          "execution_count": 18
        }
      ]
    },
    {
      "cell_type": "code",
      "source": [
        "# read a 5 character\n",
        "# Hint: read(5)\n",
        "file_obj.read(5)"
      ],
      "metadata": {
        "colab": {
          "base_uri": "https://localhost:8080/",
          "height": 35
        },
        "id": "RHczOAyizdJf",
        "outputId": "f47fd848-8dfc-468e-e028-f1cdbcddfb8e"
      },
      "execution_count": null,
      "outputs": [
        {
          "output_type": "execute_result",
          "data": {
            "text/plain": [
              "'Pytho'"
            ],
            "application/vnd.google.colaboratory.intrinsic+json": {
              "type": "string"
            }
          },
          "metadata": {},
          "execution_count": 19
        }
      ]
    },
    {
      "cell_type": "code",
      "source": [
        "file_obj.read(5)"
      ],
      "metadata": {
        "colab": {
          "base_uri": "https://localhost:8080/",
          "height": 35
        },
        "id": "8kIRlOJuE1z5",
        "outputId": "ed2f30cc-3a6a-46a8-ce19-0efa592e6a4d"
      },
      "execution_count": null,
      "outputs": [
        {
          "output_type": "execute_result",
          "data": {
            "text/plain": [
              "'n is '"
            ],
            "application/vnd.google.colaboratory.intrinsic+json": {
              "type": "string"
            }
          },
          "metadata": {},
          "execution_count": 20
        }
      ]
    },
    {
      "cell_type": "markdown",
      "source": [
        "- `We can see, reading automatically starts from the second line.`\n",
        "\n",
        "- To solve this, we have 2 options:\n",
        "  1. use **seek()** method to reset file pointer to start of the file.\n",
        "  2. Close file using **close()** method and read file again"
      ],
      "metadata": {
        "id": "76yKdIZXzrBG"
      }
    },
    {
      "cell_type": "code",
      "source": [
        "# reset file pointer\n",
        "# Hint: .seek()\n",
        "file_obj.seek(0)"
      ],
      "metadata": {
        "id": "sk3DHDqAPOmT",
        "colab": {
          "base_uri": "https://localhost:8080/"
        },
        "outputId": "55a33c72-4bdf-4aed-97d2-466c1434fcdd"
      },
      "execution_count": null,
      "outputs": [
        {
          "output_type": "execute_result",
          "data": {
            "text/plain": [
              "0"
            ]
          },
          "metadata": {},
          "execution_count": 21
        }
      ]
    },
    {
      "cell_type": "code",
      "source": [
        "file_obj.read(5)"
      ],
      "metadata": {
        "colab": {
          "base_uri": "https://localhost:8080/",
          "height": 35
        },
        "id": "J9J_zHByFCzJ",
        "outputId": "2e3b2297-b7fa-40b1-c757-fabc5647d898"
      },
      "execution_count": null,
      "outputs": [
        {
          "output_type": "execute_result",
          "data": {
            "text/plain": [
              "'Hi am'"
            ],
            "application/vnd.google.colaboratory.intrinsic+json": {
              "type": "string"
            }
          },
          "metadata": {},
          "execution_count": 22
        }
      ]
    },
    {
      "cell_type": "code",
      "source": [
        "# close a file\n",
        "# hint: .close()\n",
        "file_obj.close()"
      ],
      "metadata": {
        "id": "-kIoyXpLzCFA"
      },
      "execution_count": null,
      "outputs": []
    },
    {
      "cell_type": "code",
      "source": [
        "file_obj.close()"
      ],
      "metadata": {
        "id": "bKGdXOYxCFTv"
      },
      "execution_count": null,
      "outputs": []
    },
    {
      "cell_type": "markdown",
      "source": [
        "**Automatic file closing**  \n",
        "- When we open a file using `with` keyword, File is closed automatically once the code exits the `with` block."
      ],
      "metadata": {
        "id": "dRWd6d0r338W"
      }
    },
    {
      "cell_type": "code",
      "source": [
        "# read a file using `with` keyword\n",
        "\n",
        "with open('demo.txt', 'r') as file_obj:\n",
        "  line = file_obj.readline()\n",
        "\n",
        "\n",
        "print(line)"
      ],
      "metadata": {
        "colab": {
          "base_uri": "https://localhost:8080/"
        },
        "id": "BOUGpI53zDlL",
        "outputId": "bf568b3b-771e-42ed-9c3f-4d907924dea8"
      },
      "execution_count": null,
      "outputs": [
        {
          "output_type": "stream",
          "name": "stdout",
          "text": [
            "Hello I am learning python\n",
            "\n"
          ]
        }
      ]
    },
    {
      "cell_type": "markdown",
      "source": [
        "`Read file content using same file object i.e. file_obj`"
      ],
      "metadata": {
        "id": "ZQdshJbs4gW-"
      }
    },
    {
      "cell_type": "code",
      "source": [
        "# read file using file_obj\n",
        "file_obj.read()"
      ],
      "metadata": {
        "colab": {
          "base_uri": "https://localhost:8080/",
          "height": 190
        },
        "id": "lzJsePdG4aYM",
        "outputId": "d10f7201-1c03-46a7-d9b6-f92076b68126"
      },
      "execution_count": null,
      "outputs": [
        {
          "output_type": "error",
          "ename": "ValueError",
          "evalue": "ignored",
          "traceback": [
            "\u001b[0;31m---------------------------------------------------------------------------\u001b[0m",
            "\u001b[0;31mValueError\u001b[0m                                Traceback (most recent call last)",
            "\u001b[0;32m<ipython-input-22-b4c43e56e469>\u001b[0m in \u001b[0;36m<cell line: 2>\u001b[0;34m()\u001b[0m\n\u001b[1;32m      1\u001b[0m \u001b[0;31m# read file using file_obj\u001b[0m\u001b[0;34m\u001b[0m\u001b[0;34m\u001b[0m\u001b[0m\n\u001b[0;32m----> 2\u001b[0;31m \u001b[0mfile_obj\u001b[0m\u001b[0;34m.\u001b[0m\u001b[0mread\u001b[0m\u001b[0;34m(\u001b[0m\u001b[0;34m)\u001b[0m\u001b[0;34m\u001b[0m\u001b[0;34m\u001b[0m\u001b[0m\n\u001b[0m",
            "\u001b[0;31mValueError\u001b[0m: I/O operation on closed file."
          ]
        }
      ]
    },
    {
      "cell_type": "markdown",
      "source": [
        "### **Writing Files in Python**\n",
        "- For writing in files, we can open file in one of 2 modes.\n",
        "  - write mode: `w`\n",
        "    - overwrites the file, if it has any existing content.\n",
        "    - Use **write()** method to write content in file\n",
        "  - append mode: `a`\n",
        "    - Do not overwrite the file, but it appends new content to the end of the file"
      ],
      "metadata": {
        "id": "11sL5e9O4vYp"
      }
    },
    {
      "cell_type": "markdown",
      "source": [
        "**write mode (w)**"
      ],
      "metadata": {
        "id": "g6Ozvdh77Tvb"
      }
    },
    {
      "cell_type": "code",
      "source": [
        "## write content in a file\n",
        "file_name = \"test.txt\"\n",
        "with open(file_name, \"w\") as file_obj:\n",
        "  file_obj.write(\"Hi I am learning how to write in a file using python\")"
      ],
      "metadata": {
        "id": "pVf73r-O4b0T"
      },
      "execution_count": null,
      "outputs": []
    },
    {
      "cell_type": "code",
      "source": [
        "!cat test.txt"
      ],
      "metadata": {
        "colab": {
          "base_uri": "https://localhost:8080/"
        },
        "id": "TPkUg9DhGyTc",
        "outputId": "58f51632-c20c-4f50-a3fd-7cbbe59d179a"
      },
      "execution_count": null,
      "outputs": [
        {
          "output_type": "stream",
          "name": "stdout",
          "text": [
            "Hi I am learning how to write in a file using python"
          ]
        }
      ]
    },
    {
      "cell_type": "code",
      "source": [
        "!ls"
      ],
      "metadata": {
        "colab": {
          "base_uri": "https://localhost:8080/"
        },
        "id": "iQ003y9IG4-L",
        "outputId": "e9a37828-ddc4-437f-d2c3-94269bdfd84a"
      },
      "execution_count": null,
      "outputs": [
        {
          "output_type": "stream",
          "name": "stdout",
          "text": [
            "demo1.txt  demo.txt  sample_data  test.txt\n"
          ]
        }
      ]
    },
    {
      "cell_type": "markdown",
      "source": [
        "**append mode (a)**"
      ],
      "metadata": {
        "id": "6-bFqVUY7fhG"
      }
    },
    {
      "cell_type": "code",
      "source": [
        "## append content in a file\n",
        "with open(file_name, \"a\") as file_obj:\n",
        "  file_obj.write(\"\\nHi I am learning how to append in a end of file using python\")"
      ],
      "metadata": {
        "id": "NbTTfCD57hYu"
      },
      "execution_count": null,
      "outputs": []
    },
    {
      "cell_type": "code",
      "source": [
        "# visualize file content\n",
        "!cat test.txt"
      ],
      "metadata": {
        "colab": {
          "base_uri": "https://localhost:8080/"
        },
        "id": "xOww-4-yQWG9",
        "outputId": "740bdb11-1ced-4805-8d97-2438bb4cb9cb"
      },
      "execution_count": null,
      "outputs": [
        {
          "output_type": "stream",
          "name": "stdout",
          "text": [
            "Hi I am learning how to write in a file using python\n",
            "Hi I am learning how to append in a end of file using python"
          ]
        }
      ]
    },
    {
      "cell_type": "markdown",
      "source": [
        "### **Deleting Files in Python**\n",
        "- you can use `os` module to remove a file\n",
        "\n",
        "```python\n",
        "\n",
        "import os\n",
        "\n",
        "os.remove('file_name')\n",
        "\n",
        "```"
      ],
      "metadata": {
        "id": "0c_-EuvT7kMv"
      }
    },
    {
      "cell_type": "code",
      "source": [
        "# write your program here\n",
        "import os\n",
        "\n",
        "os.remove(\"test.txt\")"
      ],
      "metadata": {
        "id": "EG4di71l7lRi",
        "colab": {
          "base_uri": "https://localhost:8080/",
          "height": 200
        },
        "outputId": "82a7289c-de50-475c-e1e6-5f872c4b0d16"
      },
      "execution_count": null,
      "outputs": [
        {
          "output_type": "error",
          "ename": "FileNotFoundError",
          "evalue": "ignored",
          "traceback": [
            "\u001b[0;31m---------------------------------------------------------------------------\u001b[0m",
            "\u001b[0;31mFileNotFoundError\u001b[0m                         Traceback (most recent call last)",
            "\u001b[0;32m<ipython-input-41-2fcfe5b35daa>\u001b[0m in \u001b[0;36m<cell line: 4>\u001b[0;34m()\u001b[0m\n\u001b[1;32m      2\u001b[0m \u001b[0;32mimport\u001b[0m \u001b[0mos\u001b[0m\u001b[0;34m\u001b[0m\u001b[0;34m\u001b[0m\u001b[0m\n\u001b[1;32m      3\u001b[0m \u001b[0;34m\u001b[0m\u001b[0m\n\u001b[0;32m----> 4\u001b[0;31m \u001b[0mos\u001b[0m\u001b[0;34m.\u001b[0m\u001b[0mremove\u001b[0m\u001b[0;34m(\u001b[0m\u001b[0;34m\"test.txt\"\u001b[0m\u001b[0;34m)\u001b[0m\u001b[0;34m\u001b[0m\u001b[0;34m\u001b[0m\u001b[0m\n\u001b[0m",
            "\u001b[0;31mFileNotFoundError\u001b[0m: [Errno 2] No such file or directory: 'test.txt'"
          ]
        }
      ]
    },
    {
      "cell_type": "code",
      "source": [
        "filename = 'demo1.txt'\n",
        "if os.path.exists(filename):\n",
        "  os.remove(filename)\n",
        "  print(f\"file named {filename} deleted\")\n",
        "else:\n",
        "  print('No file')"
      ],
      "metadata": {
        "colab": {
          "base_uri": "https://localhost:8080/"
        },
        "id": "dwSQffRbJNQY",
        "outputId": "da51452a-0565-46fe-e3dd-71f77ff932b6"
      },
      "execution_count": null,
      "outputs": [
        {
          "output_type": "stream",
          "name": "stdout",
          "text": [
            "file named demo1.txt deleted\n"
          ]
        }
      ]
    },
    {
      "cell_type": "code",
      "source": [],
      "metadata": {
        "id": "Y3lg-Z88IYz_"
      },
      "execution_count": null,
      "outputs": []
    }
  ]
}