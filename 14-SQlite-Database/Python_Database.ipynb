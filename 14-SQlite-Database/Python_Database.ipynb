{
  "nbformat": 4,
  "nbformat_minor": 0,
  "metadata": {
    "colab": {
      "provenance": []
    },
    "kernelspec": {
      "name": "python3",
      "display_name": "Python 3"
    },
    "language_info": {
      "name": "python"
    }
  },
  "cells": [
    {
      "cell_type": "code",
      "execution_count": null,
      "metadata": {
        "id": "kwtwYl6iGjR8"
      },
      "outputs": [],
      "source": [
        "import sqlite3"
      ]
    },
    {
      "cell_type": "code",
      "source": [
        "import sqlite3\n",
        "\n",
        "db_name = \"users.db\"\n",
        "\n",
        "conn = sqlite3.connect(db_name)\n",
        "\n",
        "print(\"Opened database successfully\")"
      ],
      "metadata": {
        "colab": {
          "base_uri": "https://localhost:8080/"
        },
        "id": "nN82LDsPGmQp",
        "outputId": "69af9522-8df2-4736-d427-e123d62e22fc"
      },
      "execution_count": null,
      "outputs": [
        {
          "output_type": "stream",
          "name": "stdout",
          "text": [
            "Opened database successfully\n"
          ]
        }
      ]
    },
    {
      "cell_type": "markdown",
      "source": [
        "| Data Type | Description | Example |\n",
        "|-----------|-------------|---------|\n",
        "| INT       | Integer value representing a whole number | 10, -5, 0 |\n",
        "| VARCHAR(50) | Variable-length character string with a maximum length of 50 characters | 'Python', 'is awesome' |\n",
        "| TEXT |  does not require specifying a maximum length limit. suitable to store large amounts of text.| 'Python is awesome language' |\n",
        "| FLOAT     | Floating-point number with decimal precision | 3.14, -0.5 |\n",
        "| DATE      | Date value in the format 'YYYY-MM-DD' | '2023-06-24', '1990-01-01' |\n",
        "| BOOLEAN   | Boolean value representing true or false | true, false |\n"
      ],
      "metadata": {
        "id": "6SbVggnGNf6X"
      }
    },
    {
      "cell_type": "code",
      "source": [
        "conn.execute(\"\"\" CREATE TABLE employee\n",
        "          (\n",
        "            ID            INT             PRIMARY KEY    NOT NULL,\n",
        "            NAME          VARCHAR(1000)                  NOT NULL,\n",
        "            AGE           INT                            NOT NULL,\n",
        "            ADDRESS       TEXT,\n",
        "            SALARY        FLOAT\n",
        "          )\n",
        "             \"\"\")"
      ],
      "metadata": {
        "colab": {
          "base_uri": "https://localhost:8080/"
        },
        "id": "QtFHqJkbG1E_",
        "outputId": "9f224fc3-b264-4ee0-d85f-eed975a37f78"
      },
      "execution_count": null,
      "outputs": [
        {
          "output_type": "execute_result",
          "data": {
            "text/plain": [
              "<sqlite3.Cursor at 0x7f8859b1b040>"
            ]
          },
          "metadata": {},
          "execution_count": 4
        }
      ]
    },
    {
      "cell_type": "code",
      "source": [
        "conn.execute(\"\"\"INSERT INTO\n",
        "            employee (ID,NAME,AGE,ADDRESS,SALARY) VALUES (1, 'Paul', 32, 'California', 20000.00 )\n",
        "          \"\"\")"
      ],
      "metadata": {
        "colab": {
          "base_uri": "https://localhost:8080/",
          "height": 263
        },
        "id": "vlHsZoW_PXeu",
        "outputId": "e02ece72-6995-47eb-ba82-e5fd72437b0e"
      },
      "execution_count": null,
      "outputs": [
        {
          "output_type": "error",
          "ename": "IntegrityError",
          "evalue": "ignored",
          "traceback": [
            "\u001b[0;31m---------------------------------------------------------------------------\u001b[0m",
            "\u001b[0;31mIntegrityError\u001b[0m                            Traceback (most recent call last)",
            "\u001b[0;32m<ipython-input-12-3aba0aabb88a>\u001b[0m in \u001b[0;36m<cell line: 1>\u001b[0;34m()\u001b[0m\n\u001b[0;32m----> 1\u001b[0;31m conn.execute(\"\"\"INSERT INTO\n\u001b[0m\u001b[1;32m      2\u001b[0m             \u001b[0memployee\u001b[0m \u001b[0;34m(\u001b[0m\u001b[0mID\u001b[0m\u001b[0;34m,\u001b[0m\u001b[0mNAME\u001b[0m\u001b[0;34m,\u001b[0m\u001b[0mAGE\u001b[0m\u001b[0;34m,\u001b[0m\u001b[0mADDRESS\u001b[0m\u001b[0;34m,\u001b[0m\u001b[0mSALARY\u001b[0m\u001b[0;34m)\u001b[0m \u001b[0mVALUES\u001b[0m \u001b[0;34m(\u001b[0m\u001b[0;36m1\u001b[0m\u001b[0;34m,\u001b[0m \u001b[0;34m'Paul'\u001b[0m\u001b[0;34m,\u001b[0m \u001b[0;36m32\u001b[0m\u001b[0;34m,\u001b[0m \u001b[0;34m'California'\u001b[0m\u001b[0;34m,\u001b[0m \u001b[0;36m20000.00\u001b[0m \u001b[0;34m)\u001b[0m\u001b[0;34m\u001b[0m\u001b[0;34m\u001b[0m\u001b[0m\n\u001b[1;32m      3\u001b[0m           \"\"\")\n",
            "\u001b[0;31mIntegrityError\u001b[0m: UNIQUE constraint failed: employee.ID"
          ]
        }
      ]
    },
    {
      "cell_type": "code",
      "source": [
        "conn.execute(\"\"\"INSERT INTO\n",
        "           company (ID,NAME,AGE,ADDRESS) VALUES (2, 'shyam', 20, 'lalitpur')\n",
        "         \"\"\")"
      ],
      "metadata": {
        "colab": {
          "base_uri": "https://localhost:8080/"
        },
        "id": "_N2sOM7xPb9E",
        "outputId": "619ed53c-fd10-4ed6-c5dd-90f85ee0ef85"
      },
      "execution_count": null,
      "outputs": [
        {
          "output_type": "execute_result",
          "data": {
            "text/plain": [
              "<sqlite3.Cursor at 0x7ff1c0391140>"
            ]
          },
          "metadata": {},
          "execution_count": 5
        }
      ]
    },
    {
      "cell_type": "code",
      "source": [
        "conn.execute(\"\"\"INSERT INTO\n",
        "           company (ID,NAME,AGE, SALARY) VALUES (3, 'shyam', 20, 10000)\n",
        "         \"\"\")\n",
        "conn.commit()"
      ],
      "metadata": {
        "id": "ncE8FgVlWhK0"
      },
      "execution_count": null,
      "outputs": []
    },
    {
      "cell_type": "code",
      "source": [
        "conn.execute(\"\"\"INSERT INTO\n",
        "           company (ID,NAME,AGE) VALUES (4, 'shyam', 20)\n",
        "         \"\"\")\n",
        "\n",
        "conn.commit()"
      ],
      "metadata": {
        "id": "XNTSt2_WXXXQ"
      },
      "execution_count": null,
      "outputs": []
    },
    {
      "cell_type": "code",
      "source": [
        "cursor = conn.execute(\"SELECT id, name, address, salary from COMPANY\")\n",
        "for row in cursor:\n",
        "  print(row)\n",
        "  print('---------------')\n",
        "\n",
        "# for row in cursor:\n",
        "#    print(\"ID = \", row[0])\n",
        "#    print(\"NAME = \", row[1])\n",
        "#    print(\"ADDRESS = \", row[2])\n",
        "#    print(\"SALARY = \", row[3], \"\\n\")"
      ],
      "metadata": {
        "colab": {
          "base_uri": "https://localhost:8080/"
        },
        "id": "20rWM8d8Xwvi",
        "outputId": "8734651c-e496-4573-e570-bac241d427e1"
      },
      "execution_count": null,
      "outputs": [
        {
          "output_type": "stream",
          "name": "stdout",
          "text": [
            "(4, 'shyam', None, None)\n",
            "---------------\n",
            "(3, 'shyam', None, 10000.0)\n",
            "---------------\n"
          ]
        }
      ]
    },
    {
      "cell_type": "code",
      "source": [
        "select_items = conn.execute('SELECT * FROM employee').fetchall()\n",
        "print(select_items)"
      ],
      "metadata": {
        "colab": {
          "base_uri": "https://localhost:8080/"
        },
        "id": "cIFeVJNgUU2_",
        "outputId": "d93df185-8f3c-4724-b186-a46c3f7f07bf"
      },
      "execution_count": null,
      "outputs": [
        {
          "output_type": "stream",
          "name": "stdout",
          "text": [
            "[(1, 'Paul', 32, 'California', 20000.0)]\n"
          ]
        }
      ]
    },
    {
      "cell_type": "code",
      "source": [
        "conn.execute(\"UPDATE company set SALARY = 25000.00 where ID = 4\")"
      ],
      "metadata": {
        "colab": {
          "base_uri": "https://localhost:8080/"
        },
        "id": "NiWKA8PAfR13",
        "outputId": "2269fa51-e996-449d-e553-9b8c26426400"
      },
      "execution_count": null,
      "outputs": [
        {
          "output_type": "execute_result",
          "data": {
            "text/plain": [
              "<sqlite3.Cursor at 0x7f88283eb940>"
            ]
          },
          "metadata": {},
          "execution_count": 19
        }
      ]
    },
    {
      "cell_type": "code",
      "source": [
        "conn.execute(\"DELETE From company where name = 'shyam'\")\n",
        "\n",
        "conn.commit()\n",
        "\n",
        "# close connection to database\n",
        "conn.close()"
      ],
      "metadata": {
        "id": "6IrHx_gzf541"
      },
      "execution_count": null,
      "outputs": []
    },
    {
      "cell_type": "code",
      "source": [
        "cursor = conn.execute('select * from company').fetchall()\n",
        "print(cursor)\n"
      ],
      "metadata": {
        "colab": {
          "base_uri": "https://localhost:8080/"
        },
        "id": "vNCAL4svhpDa",
        "outputId": "14333c37-ad3d-4967-d318-bff1fcb97960"
      },
      "execution_count": null,
      "outputs": [
        {
          "output_type": "stream",
          "name": "stdout",
          "text": [
            "[(1, 'Paul', 32, 'California', 20000.0)]\n"
          ]
        }
      ]
    }
  ]
}