{
 "cells": [
  {
   "cell_type": "markdown",
   "metadata": {},
   "source": [
    "## Normal Distribution Recap\n",
    "- Bell shaped\n",
    "- Symmetrical Curve\n",
    "- Unimodal (mean = median = mode)\n",
    "- Total area under the bell shaped curve is equal to 1.\n",
    "- \n",
    "- parameters of the distribution: mean (meu), and standard deviation (sigma)"
   ]
  },
  {
   "cell_type": "markdown",
   "metadata": {},
   "source": [
    "## Empirical Rule\n",
    "- Around 68% of the distribution is present within 1 standard deviation\n",
    "- Around 95% of the distribution is present within 2 standard deviation\n",
    "- Around 99.7% of the distribution is present within 3 standard deviation"
   ]
  },
  {
   "cell_type": "markdown",
   "metadata": {},
   "source": [
    "## Hypothesis Testing\n",
    "- A procedure for determining if an claim about a characteristic of a population is reasonable.\n",
    "- In other words, `Hypothesis Testing` can be defined as formal decision-making procedure, which enables us to decide whether to accept or reject hypothesis.\n",
    "- **What is Hypothesis?**\n",
    "    - It is a statement or assumption made about a population parameter.\n",
    "    - Two main types i.e.\n",
    "        - `Null Hypothesis (HO)`\n",
    "            - Deenoted by H0\n",
    "            - Represents the default assumption / claim.\n",
    "            - It is the hypothesis that you aim to test against.\n",
    "            - Example: Average price of 1kg cauliflower in kathmandu is Rs 60 i.e. $H0: \\mu = 60$\n",
    "            \n",
    "        - `Alternate Hypothesis (Ha or H1)`\n",
    "            - Denoted by Ha or H1.\n",
    "            - It is the inverse of Null Hypothesis.\n",
    "            - Example: Average price of 1kg cauliflower in kathmandu is not equals to Rs 60 \n",
    "\n",
    "- **Goal of Hypothesis Testing:**\n",
    "    - To collect of sample data and use statistical methods to evaluate whether there is enough evidence to reject the null hypothesis in favour of Alternative Hypothesis.\n",
    "    - Decision is based on test statistics, significance level that helps to decide whether to Reject Null Hypothesis or Fail to Reject Null Hypothesis. \n",
    "- **Example:**\n",
    "    - Suppose someone says that the average price of the cauliflower/kg in kathmandu is Rs 60.\n",
    "    - Is this statement True? How  would you decide? \n",
    "        - In reality you cannot take data from every retailors and wholesellers to validate your assumption.\n",
    "    - What you will do is you will sample retailors around the kathmandu randomly and compare the average price to Rs 60.\n",
    "    - The average price of sample retailors may not be exactly Rs 60 due to variability in price from one station to the next, also the sample size will be small compared to population size.\n",
    "    - Suppose your average price was Rs 58. Is this  Rs 2 difference a result of chance variability or is the original assertion incorrect?\n",
    "    - This can be answered via Hypothesis Test."
   ]
  },
  {
   "cell_type": "markdown",
   "metadata": {},
   "source": [
    "## What are different types of test\n",
    "1. `z-test`\n",
    "    - This is used for comparison of mean. \n",
    "    - Here population standard deviation is given.\n",
    "    - We look into z-table to get the area under the curve for given level of significance.\n",
    "\n",
    "2. `t-test`\n",
    "    - This is also used for comparison of mean.\n",
    "    - Here sample standard deviation of mean.\n",
    "    - We look into t-table for given degree of freedom and level of significance.\n",
    "\n",
    "3. `Annova Test`\n",
    "    - In a annova test we do a analysis of Variance i.e. whether the variance is same or not.\n",
    "\n",
    "4. `Chisquare Test`\n",
    "    - Here we can compare categorical variables.\n",
    "    - Useful for comparing several proportions.\n",
    "\n",
    "5. `F-Test`\n",
    "    - For testing hypothesis which involves more than two means, we use F-test.\n",
    "    - "
   ]
  },
  {
   "cell_type": "code",
   "execution_count": null,
   "metadata": {},
   "outputs": [],
   "source": []
  },
  {
   "cell_type": "markdown",
   "metadata": {},
   "source": [
    "## How to select the appropriate test statistics\n",
    "- The choice among different test statistics depends on the type of the test we want to conduct, on the size of the sample and other information such as whether the population is normal, whether the population variance is known, etc\n",
    "\n",
    "1. `If we know the variance of the population, we may apply the z-test irrespective of the normality of the population and irrespective of the sample size.`\n",
    "\n",
    "2. `If the variance of the population is unknown, but the size of the sample is large (n>=30)`, \n",
    "    - We may still apply z-test since the estimate of the population variance from a large sample is a satisfactory estimate of the true population variance.\n",
    "\n",
    "3. `If the variance of the population is unknown and our sample is small (n<30>)`, \n",
    "    - We may apply t-test provided that the population is normal. \n",
    "    - For t-test normality is crucial.\n",
    "\n",
    "4. `For independence and goodness of fit, we use chi-square test`. \n",
    "    - It is also used for comparing several proportions.\n",
    "\n",
    "5. `For testing hypothesis which involves more than two means, we use F-test`.   \n",
    "    - It is also used for testing overall significance of regression equation and ANOVA test. \n",
    "    - Normality of population should hold for the use of F-test."
   ]
  },
  {
   "cell_type": "code",
   "execution_count": null,
   "metadata": {},
   "outputs": [],
   "source": []
  },
  {
   "cell_type": "markdown",
   "metadata": {},
   "source": [
    "## Type 1 and Type 2 Error\n",
    "Image source: [click here](https://www.google.com/search?q=type1+and+type+2+error+in+hypothesis+testing&sca_esv=571579494&tbm=isch&sxsrf=AM9HkKlbiLYxrkpqy4kVXTlq4jUMTh78YA:1696697525875&source=lnms&sa=X&ved=2ahUKEwj7usjqsuSBAxUQz2EKHQZhBxEQ_AUoAXoECAEQAw&biw=1680&bih=887&dpr=1.1#imgrc=gIBUhuMVmHKuYM)\n",
    "- <img src='images/1.webp' width='500'>\n",
    "\n",
    "1. We reject the NULL Hypothesis when in reality it is False.\n",
    "2. We reject the NULL Hypothesis when in reality it is True. This is called `Type 1 error`.\n",
    "3. We accept NULL Hypothesis when in reality it is False. This is called `Type 2 error`.\n",
    "4. We accept NULL Hypothesis  when in reality it is True."
   ]
  },
  {
   "cell_type": "markdown",
   "metadata": {},
   "source": [
    "## 2-Tailed vs 1-Tailed Test\n",
    "- [image source](https://www.google.com/search?q=one+tailed+vs+two+tailed+hypothesis&sca_esv=571585710&tbm=isch&sxsrf=AM9HkKnIp3GTk935Oq7_tEs0OgU30SXOTw:1696698332518&source=lnms&sa=X&ved=2ahUKEwjtgprrteSBAxUPdPUHHX0TBwYQ_AUoAXoECAMQAw&biw=1680&bih=887&dpr=1.1#imgrc=zBfQjeiexRMwFM)  \n",
    "-<img src='images/2.jpg' width='500'>\n",
    "- In 2-tailed Test rejection area will be on both sides of probability distribution.\n",
    "- In 1-tailed Test rejection area will be on the single sides i.e. either right side or left side."
   ]
  },
  {
   "cell_type": "code",
   "execution_count": null,
   "metadata": {},
   "outputs": [],
   "source": []
  },
  {
   "cell_type": "markdown",
   "metadata": {},
   "source": [
    "## level of significance\n",
    "- The level of significance ($\\alpha$) is the statistical standard which is specified for rejecting the H0.\n",
    "- "
   ]
  },
  {
   "cell_type": "code",
   "execution_count": null,
   "metadata": {},
   "outputs": [],
   "source": []
  }
 ],
 "metadata": {
  "kernelspec": {
   "display_name": "Python 3",
   "language": "python",
   "name": "python3"
  },
  "language_info": {
   "name": "python",
   "version": "3.8.10"
  },
  "orig_nbformat": 4
 },
 "nbformat": 4,
 "nbformat_minor": 2
}
