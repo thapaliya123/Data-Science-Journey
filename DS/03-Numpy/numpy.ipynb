{
  "cells": [
    {
      "cell_type": "markdown",
      "metadata": {
        "id": "BhbHDJ9yTWsN"
      },
      "source": [
        "### NumPy\n",
        "- Stands for Numerical Python.\n",
        "- NumPy is a python library used for working with arrays.\n",
        "- NumPy array is a collection of homogeneous data types stored in contiguous memory location\n",
        "- Has function for working in domain of linear algebra, fourier transform, and matrices.\n",
        "- Written partially in Python, but parts that require fast computation are written in C or C++.\n",
        "- Source code of NumPy is located at github repository.\n",
        "    - https://github.com/numpy/numpy\n",
        "\n",
        "\n",
        "### Why Numpy is Fast?  \n",
        "- An array is a collection of homogeneous data types that are stored in contiguous memory locations.\n",
        "- Vectorized operations are possible in NumPy.\n",
        "- NumPy package integrates C, C++, and Fortran codes in Python.\n",
        "    - These programming language have very little execution time compared to Python.\n"
      ]
    },
    {
      "cell_type": "code",
      "execution_count": null,
      "metadata": {
        "id": "P7W1zPu1TWsR"
      },
      "outputs": [],
      "source": [
        "# need to import 3rd python packages\n",
        "import numpy as np"
      ]
    },
    {
      "cell_type": "markdown",
      "metadata": {
        "id": "nOEMLjUZTWsS"
      },
      "source": [
        "### 1. Array Creation  \n",
        "- create numpy array via 1D list\n",
        "- create numpy array via 2D list\n",
        "- create numpy array via built-in array creation functions."
      ]
    },
    {
      "cell_type": "markdown",
      "metadata": {
        "id": "62Fm8fOITWsS"
      },
      "source": [
        "| Data type | Description |\n",
        "| --- | --- |\n",
        "| bool_ | It represents the boolean value indicating True or False. It is stored as a byte |\n",
        "| int_ | Default integer type (same as C long; normally either int64 or int32) |\n",
        "| intc | Identical to C int (normally int32 or int64) |\n",
        "| intp | Integer used for indexing (normally either int32 or int64) |\n",
        "| int8 | It is the 8-bit integer identical to byte. (range: -128 to 127) |\n",
        "| int16 | It is the 2byte 16 bit Integer (range: -32768 to 32767) |\n",
        "| int32 | 4 byte, (32 bit) Integer (-2147483648 to 2147483647) |\n",
        "| int64 | 8 byte, (64 bit) Integer (-9223372036854775808 to 9223372036854775807) |\n",
        "| uint8 | 1 byte (8 bit) Unsigned integer (0 to 255) |\n",
        "| uint16 | 2 byte (16 bit) Unsigned integer (0 to 65535) |\n",
        "| uint32 | 4 byte (32 bit) Unsigned integer (0 to 4294967295) |\n",
        "| uint64 | 8 byte (64-bit) Unsigned integer (0 to 18446744073709551615) |\n",
        "| float_ | Shorthand for float64. |\n",
        "| float16 | Half precision float: 5 bits are reserved for the exponent. 10 bits are reserved for mantissa, and 1 bit for sign |\n",
        "| float32 | Single precision float: 8 bits are reserved for the exponent. 23 bits are reserved for mantissa, and 1 bit for sign |\n",
        "| float64 | Double precision float: 11 bits are reserved for the exponent, 52 bits are reserved for mantissa, 1 bit for sign |\n",
        "| complex_ | Shorthand for complex128. |\n"
      ]
    },
    {
      "cell_type": "markdown",
      "metadata": {
        "id": "DFDcex3tTWsT"
      },
      "source": [
        "<b>NumPy Data Types</b>\n"
      ]
    },
    {
      "cell_type": "markdown",
      "metadata": {
        "id": "mfdDQ2LoTWsT"
      },
      "source": [
        "- **create numpy array via 1D list**"
      ]
    },
    {
      "cell_type": "code",
      "execution_count": null,
      "metadata": {
        "id": "2GjOUIPiTWsU"
      },
      "outputs": [],
      "source": [
        "# use .array() function\n",
        "arr1 = None\n"
      ]
    },
    {
      "cell_type": "markdown",
      "metadata": {
        "id": "-vFeHY1RTWsU"
      },
      "source": [
        "<details><summary>Click here for the solution</summary>\n",
        "\n",
        "```python\n",
        "list1 = [1, 2, 3, 4, 5, 6]\n",
        "arr1 = np.array(list1)\n",
        "print(arr1)\n",
        "```\n",
        "</details>"
      ]
    },
    {
      "cell_type": "markdown",
      "metadata": {
        "id": "U6bEw3BJTWsU"
      },
      "source": [
        "- **create numpy array via 2D list**\n",
        "    - set explicitly data type to float32"
      ]
    },
    {
      "cell_type": "code",
      "execution_count": null,
      "metadata": {
        "id": "b4ycPs2BTWsV",
        "outputId": "255cfd2b-5884-4b57-fe5d-b436c5d1e950"
      },
      "outputs": [
        {
          "data": {
            "text/plain": [
              "array([[1., 2., 3.],\n",
              "       [4., 5., 6.]], dtype=float32)"
            ]
          },
          "execution_count": 5,
          "metadata": {},
          "output_type": "execute_result"
        }
      ],
      "source": [
        "# use .array(list ,dtype='float32')\n",
        "arr2 = None"
      ]
    },
    {
      "cell_type": "markdown",
      "metadata": {
        "id": "6HvGqD4yTWsW"
      },
      "source": [
        "<details><summary>Click here for the solution</summary>\n",
        "\n",
        "```python\n",
        "list2 = [[1, 2, 3], [4, 5, 6]]\n",
        "arr2 = np.array(list2, dtype='float32')\n",
        "print(arr2)\n",
        "```\n",
        "</details>"
      ]
    },
    {
      "cell_type": "markdown",
      "metadata": {
        "id": "qDUAV34MTWsW"
      },
      "source": [
        "**create numpy array via built-in array creation functions**"
      ]
    },
    {
      "cell_type": "code",
      "execution_count": null,
      "metadata": {
        "id": "i4L6aTxxTWsW"
      },
      "outputs": [],
      "source": [
        "# Q. create a length 10 integer array filled with zeros.\n"
      ]
    },
    {
      "cell_type": "markdown",
      "metadata": {
        "id": "Jc0YfzU8TWsW"
      },
      "source": [
        "<details><summary>Click here for the solution</summary>\n",
        "\n",
        "```python\n",
        "np.zeros(10, dtype='int')\n",
        "```\n",
        "</details>\n",
        "\n"
      ]
    },
    {
      "cell_type": "code",
      "execution_count": null,
      "metadata": {
        "id": "BaBwkjieTWsW"
      },
      "outputs": [],
      "source": [
        "# Q. create a 3x5 floating point array filled with ones\n"
      ]
    },
    {
      "cell_type": "markdown",
      "metadata": {
        "id": "YV4E2_GXTWsX"
      },
      "source": [
        "<details><summary>Click here for the solution</summary>\n",
        "\n",
        "```python\n",
        "np.ones((3, 5), dtype='float')\n",
        "```\n",
        "</details>\n"
      ]
    },
    {
      "cell_type": "code",
      "execution_count": null,
      "metadata": {
        "id": "4ubWxB3kTWsX"
      },
      "outputs": [],
      "source": [
        "# Q. create a 3x5 array filled with 3.14\n"
      ]
    },
    {
      "cell_type": "markdown",
      "metadata": {
        "id": "l2_PdiRLTWsX"
      },
      "source": [
        "<details><summary>Click here for the solution</summary>\n",
        "\n",
        "```python\n",
        "np.full((3, 5), 3.14)\n",
        "```\n",
        "</details>"
      ]
    },
    {
      "cell_type": "code",
      "execution_count": null,
      "metadata": {
        "id": "hvZwMH0ITWsX"
      },
      "outputs": [],
      "source": [
        "# Q. create an array filled with number in between 0 to 20, with step size 2\n"
      ]
    },
    {
      "cell_type": "markdown",
      "metadata": {
        "id": "BSMpL3CUTWsX"
      },
      "source": [
        "<details><summary>Click here for the solution</summary>\n",
        "\n",
        "```python\n",
        "np.arange(0, 20, 2)\n",
        "```\n",
        "</details>"
      ]
    },
    {
      "cell_type": "code",
      "execution_count": null,
      "metadata": {
        "id": "rOeZbMmHTWsX"
      },
      "outputs": [],
      "source": [
        "# Q. create 3x3 array from uniform distribution between 0 and 1\n",
        "\n"
      ]
    },
    {
      "cell_type": "markdown",
      "metadata": {
        "id": "eqNzl8nZTWsY"
      },
      "source": [
        "<details><summary>Click here for the solution</summary>\n",
        "\n",
        "```python\n",
        "np.random.random((3, 3))\n",
        "```\n",
        "</details>"
      ]
    },
    {
      "cell_type": "code",
      "execution_count": null,
      "metadata": {
        "id": "XvJ1B5AqTWsY"
      },
      "outputs": [],
      "source": [
        "# Q. create 3x3 array from normal distribution with mean = 0 and standard deviation = 1\n",
        "\n"
      ]
    },
    {
      "cell_type": "markdown",
      "metadata": {
        "id": "ZTDRVtOVTWsY"
      },
      "source": [
        "<details><summary>Click here for the solution</summary>\n",
        "\n",
        "```python\n",
        "np.random.normal(0, 1, (3, 3))\n",
        "```\n",
        "</details>"
      ]
    },
    {
      "cell_type": "code",
      "source": [
        "# Q. Create a 3x3 array of random integers in the interval [0, 10)\n"
      ],
      "metadata": {
        "id": "C-aQEj-3TzcS"
      },
      "execution_count": null,
      "outputs": []
    },
    {
      "cell_type": "markdown",
      "source": [
        "<details><summary>Click here for the solution</summary>\n",
        "\n",
        "```python\n",
        "np.random.randint(0, 10, (3, 3))\n",
        "```\n",
        "</details>"
      ],
      "metadata": {
        "id": "MgxBh7JOT_Vz"
      }
    },
    {
      "cell_type": "markdown",
      "metadata": {
        "id": "1f_xXB6xTWsY"
      },
      "source": [
        "### 2. Attributes of NumPy Array  \n",
        "- **ndarray.ndim:** _Represents the number of dimensions(axes) of the ndarray_\n",
        "- **ndarray.shape:** _Gives the tuple of integers representing the size of the ndarray in each dimension_\n",
        "- **ndarray.size:** _Gives the total number of elements in the ndarray. Equals to the product of elements of the result of the attribute **shape**_\n",
        "- **ndarray.dtype:** _tells the data type of the elements of a Numpy array. In Numpy array, all the elements have the same data type._\n",
        "- **ndarray.itemsize:** _returns the size(in bytes) of each element of a Numpy array._\n",
        "\n",
        "\n"
      ]
    },
    {
      "cell_type": "code",
      "execution_count": null,
      "metadata": {
        "id": "zNiTTCjVTWsY"
      },
      "outputs": [],
      "source": [
        "# create 2D numpy array\n",
        "sample_array = None"
      ]
    },
    {
      "cell_type": "code",
      "execution_count": null,
      "metadata": {
        "id": "LLCMNqmkTWsY"
      },
      "outputs": [],
      "source": [
        "# ndarray.ndim\n"
      ]
    },
    {
      "cell_type": "markdown",
      "metadata": {
        "id": "-DFrdKXOTWsZ"
      },
      "source": [
        "<details><summary>Click here for the solution</summary>\n",
        "\n",
        "```python\n",
        "print(f\"The dimension of sample array is: {sample_array.ndim}\")\n",
        "```\n",
        "</details>"
      ]
    },
    {
      "cell_type": "code",
      "execution_count": null,
      "metadata": {
        "id": "JWlmGtplTWsZ"
      },
      "outputs": [],
      "source": [
        "# ndarray.shape\n"
      ]
    },
    {
      "cell_type": "markdown",
      "metadata": {
        "id": "vhl3m5mGTWsZ"
      },
      "source": [
        "<details><summary>Click here for the solution</summary>\n",
        "\n",
        "```python\n",
        "print(f\"The shape of sample array is: {sample_array.shape}\")\n",
        "```\n",
        "</details>"
      ]
    },
    {
      "cell_type": "code",
      "execution_count": null,
      "metadata": {
        "id": "gw37W6MwTWsZ"
      },
      "outputs": [],
      "source": [
        "# ndarray.size\n"
      ]
    },
    {
      "cell_type": "markdown",
      "metadata": {
        "id": "QiMIAqkuTWsZ"
      },
      "source": [
        "<details><summary>Click here for the solution</summary>\n",
        "\n",
        "```python\n",
        "print(f\"The total number of elements in the sample array is: {sample_array.size}\")\n",
        "```\n",
        "</details>"
      ]
    },
    {
      "cell_type": "code",
      "execution_count": null,
      "metadata": {
        "id": "wbFjKDBtTWsZ"
      },
      "outputs": [],
      "source": [
        "# ndrray.dtype\n"
      ]
    },
    {
      "cell_type": "markdown",
      "metadata": {
        "id": "Wyc7s-2WTWsa"
      },
      "source": [
        "<details><summary>Click here for the solution</summary>\n",
        "\n",
        "```python\n",
        "print(f\"The data type of elements of sample array is: {sample_array.dtype}\")\n",
        "```\n",
        "</details>"
      ]
    },
    {
      "cell_type": "code",
      "execution_count": null,
      "metadata": {
        "id": "dhGqvNkGTWsa"
      },
      "outputs": [],
      "source": [
        "# ndarray.itemsize, returns the size (in bytes) of each element of a Numpy array\n"
      ]
    },
    {
      "cell_type": "markdown",
      "metadata": {
        "id": "TffknJ6ATWsa"
      },
      "source": [
        "<details><summary>Click here for the solution</summary>\n",
        "\n",
        "```python\n",
        "print(f\"The size of each element in the numpy array is: {sample_array.itemsize}\")\n",
        "```\n",
        "</details>"
      ]
    },
    {
      "cell_type": "markdown",
      "metadata": {
        "id": "OSr2lgwRTWsa"
      },
      "source": [
        "### 3. Array Indexing  \n",
        "`3.1 Indexing 1D array`  \n",
        " <img src=\"https://s3-api.us-geo.objectstorage.softlayer.net/cf-courses-data/CognitiveClass/PY0101EN/Chapter%205/Images/NumOneNp.png\" width = \"400\">    \n",
        "\n",
        "      source: https://cognitiveclass.ai/\n",
        "\n"
      ]
    },
    {
      "cell_type": "code",
      "execution_count": null,
      "metadata": {
        "id": "pdaVaPT9TWsa"
      },
      "outputs": [],
      "source": [
        "# create 1D array from 1D list of (length = 5) and value in range [0, 4].\n",
        "# access each array element via indexing\n"
      ]
    },
    {
      "cell_type": "markdown",
      "metadata": {
        "id": "VaecHk4VTWsa"
      },
      "source": [
        "\n",
        "`3.2 Indexing 2D array`  \n",
        "<img src=\"https://s3-api.us-geo.objectstorage.softlayer.net/cf-courses-data/CognitiveClass/PY0101EN/Chapter%205/Images/NumTwoFT.png\" width = \"400\">   \n",
        "\n",
        "         source: https://cognitiveclass.ai/"
      ]
    },
    {
      "cell_type": "code",
      "execution_count": null,
      "metadata": {
        "id": "KZ1-tCDsTWsf"
      },
      "outputs": [],
      "source": [
        "# create 2D array from 2D list as in above figure.\n",
        "# access each array element via @D array indexing\n"
      ]
    },
    {
      "cell_type": "markdown",
      "metadata": {
        "id": "qma-9jDLTWsf"
      },
      "source": [
        "### 4. Array Slicing: Accessing Subarrays\n",
        "- Slicing means taking elements from one given index to another\n",
        "- Syntax: array[start_index:end_index:step]\n",
        "- conditions:\n",
        "    - If we don’t pass start its considered as 0\n",
        "    - If we don’t pass end its considered length of array in that dimension\n",
        "    - If we don’t pass step its considered as 1\n",
        "- case:\n",
        "    - step is positive: left to right indexing\n",
        "    - step is negative: right to left indexing\n",
        "\n",
        "- `Note`: end index is exclusive\n",
        "\n"
      ]
    },
    {
      "cell_type": "markdown",
      "metadata": {
        "id": "-e4N6fU6TWsf"
      },
      "source": [
        "`4.1 Slicing 1D array`\n",
        "\n",
        "\n",
        "example array: [1, 2, 3, 4, 5, 6, 7]\n"
      ]
    },
    {
      "cell_type": "code",
      "execution_count": null,
      "metadata": {
        "id": "ufludMjiTWsg"
      },
      "outputs": [],
      "source": [
        "# create array\n",
        "# slice array\n",
        "#\n",
        "# Q. Slice elements from index 1 to index 5 from the example array.\n"
      ]
    },
    {
      "cell_type": "markdown",
      "metadata": {
        "id": "Y54pQE4WTWsg"
      },
      "source": [
        "<details><summary>Click here for the solution</summary>\n",
        "\n",
        "```python\n",
        "arr1 = np.array([1, 2, 3, 4, 5, 6, 7])\n",
        "arr1_slice = arr1[1:5]\n",
        "\n",
        "print(arr1_slice)\n",
        "```\n",
        "</details>"
      ]
    },
    {
      "cell_type": "code",
      "execution_count": null,
      "metadata": {
        "id": "tbzipN3lTWsg"
      },
      "outputs": [],
      "source": [
        "# Q. slice elements from index 4 to  the end of the array\n",
        "# hint: [4:]\n"
      ]
    },
    {
      "cell_type": "markdown",
      "metadata": {
        "id": "JS7KGUduTWsg"
      },
      "source": [
        "<details><summary>Click here for the solution</summary>\n",
        "\n",
        "```python\n",
        "arr1 = np.array([1, 2, 3, 4, 5, 6, 7])\n",
        "arr1_slice = arr1[4:]\n",
        "print(arr1_slice)\n",
        "```\n",
        "</details>"
      ]
    },
    {
      "cell_type": "code",
      "execution_count": null,
      "metadata": {
        "id": "HVGyrxMATWsg"
      },
      "outputs": [],
      "source": [
        "# Q. return every element from numpy array  with step 2 i.e. elements at even index.\n",
        "# hint: [::2]\n"
      ]
    },
    {
      "cell_type": "markdown",
      "metadata": {
        "id": "QSoyj1Y1TWsh"
      },
      "source": [
        "<details><summary>Click here for the solution</summary>\n",
        "\n",
        "```python\n",
        "arr1 = np.array([1, 2, 3, 4, 5, 6, 7])\n",
        "arr1_slice = arr1[::2]\n",
        "print(arr1_slice)\n",
        "```\n",
        "</details>"
      ]
    },
    {
      "cell_type": "code",
      "execution_count": null,
      "metadata": {
        "id": "7S31_T8uTWsh"
      },
      "outputs": [],
      "source": [
        "# Q. Slice from the index 3 from the end to index 1 from the end\n",
        "# hint: [-3:-1]\n"
      ]
    },
    {
      "cell_type": "markdown",
      "metadata": {
        "id": "r-_SHsUwTWsh"
      },
      "source": [
        "<details><summary>Click here for the solution</summary>\n",
        "\n",
        "```python\n",
        "arr1 = np.array([1, 2, 3, 4, 5, 6, 7])\n",
        "arr1_slice = arr1[-3:-1]\n",
        "print(arr1_slice)\n",
        "```\n",
        "</details>"
      ]
    },
    {
      "cell_type": "code",
      "execution_count": null,
      "metadata": {
        "id": "uDMre73RTWsh"
      },
      "outputs": [],
      "source": [
        "# Q. Reverse 1D array.\n",
        "# hint: [::-1]\n"
      ]
    },
    {
      "cell_type": "markdown",
      "metadata": {
        "id": "-jIBYYy8TWsh"
      },
      "source": [
        "<details><summary>Click here for the solution</summary>\n",
        "\n",
        "```python\n",
        "arr1 = np.array([1, 2, 3, 4, 5, 6, 7])\n",
        "arr1_rev = arr1[::-1]\n",
        "print(arr1_rev)\n",
        "```\n",
        "</details>"
      ]
    },
    {
      "cell_type": "markdown",
      "metadata": {
        "id": "15XunSikTWsh"
      },
      "source": [
        "`4.1 Slicing 2D array`\n",
        "\n",
        "\n",
        "example array:\n",
        "\n",
        "    [[11, 12, 13],  \n",
        "    [21, 22, 23],  \n",
        "    [31, 32, 33]]  "
      ]
    },
    {
      "cell_type": "markdown",
      "source": [
        "### 5. Copy and View [OPTIONAL]\n",
        "- Copy means copy of an original array.\n",
        "- view means just an view of an original array.\n",
        "- When new array is created via copying array, newly created array doesn't shares the memory with original array.\n",
        "- When new array is created via view of an array, newly created array shares the memory with original array."
      ],
      "metadata": {
        "id": "1KgvUthTaZAT"
      }
    },
    {
      "cell_type": "code",
      "execution_count": null,
      "metadata": {
        "colab": {
          "base_uri": "https://localhost:8080/"
        },
        "id": "9EhI-YGHTWsi",
        "outputId": "ffaba4c6-aca8-4b68-8529-750b74c69e73"
      },
      "outputs": [
        {
          "output_type": "stream",
          "name": "stdout",
          "text": [
            "[1 2 3 4 5 6]\n"
          ]
        }
      ],
      "source": [
        "# create sample array\n",
        "\n",
        "base_arr= np.array([1, 2, 3, 4, 5, 6])\n",
        "print(base_arr)"
      ]
    },
    {
      "cell_type": "code",
      "source": [
        "# 1. create copy of base array\n"
      ],
      "metadata": {
        "id": "Sdy7ykY4bDg6"
      },
      "execution_count": null,
      "outputs": []
    },
    {
      "cell_type": "markdown",
      "source": [
        "<details><summary>Click here for the solution</summary>\n",
        "\n",
        "```python\n",
        "copy_arr = base_arr.copy()\n",
        "print(copy_arr)\n",
        "```\n",
        "</details>"
      ],
      "metadata": {
        "id": "TV4IwTF8bTJg"
      }
    },
    {
      "cell_type": "code",
      "source": [
        "# test memory sharing between base and copy array\n",
        "# hint: np.shares_memory(arr1, arr2)\n"
      ],
      "metadata": {
        "id": "rruE-fxibP4p"
      },
      "execution_count": null,
      "outputs": []
    },
    {
      "cell_type": "markdown",
      "source": [
        "<details><summary>Click here for the solution</summary>\n",
        "\n",
        "```python\n",
        "print(f\"Do original array and copy aray shares an memory?\\nAns: {np.shares_memory(base_arr, copy_arr)}\")\n",
        "```\n",
        "</details>"
      ],
      "metadata": {
        "id": "66_1fzyJbmDK"
      }
    },
    {
      "cell_type": "code",
      "source": [
        "# 2. create view of base array\n"
      ],
      "metadata": {
        "id": "qW3kWYnHb3JW"
      },
      "execution_count": null,
      "outputs": []
    },
    {
      "cell_type": "markdown",
      "source": [
        "<details><summary>Click here for the solution</summary>\n",
        "\n",
        "```python\n",
        "view_arr = base_arr.view()\n",
        "```\n",
        "</details>"
      ],
      "metadata": {
        "id": "bcMJQ_oSirK-"
      }
    },
    {
      "cell_type": "code",
      "source": [
        "# test memory sharing between base and view array\n",
        "# hint: np.shares_memory(arr1, arr2)\n"
      ],
      "metadata": {
        "id": "nuW81dhNcQAB"
      },
      "execution_count": null,
      "outputs": []
    },
    {
      "cell_type": "markdown",
      "source": [
        "<details><summary>Click here for the solution</summary>\n",
        "\n",
        "```python\n",
        "print(f\"Do original array and copy aray shares an memory?\\nAns: {np.shares_memory(base_arr, view_arr)}\")\n",
        "```\n",
        "</details>"
      ],
      "metadata": {
        "id": "Qdj6fj7Oi2Uj"
      }
    },
    {
      "cell_type": "markdown",
      "source": [
        "**Note:**\n",
        "- If view of an array shares the memory then the memory address of original array and view of an array should be equal.\n",
        "- Let's now test the memory address.\n",
        "- `id()` function gives the identity of the different python objects such as integer, string, etc but it doesn't mean that is the exacy memory address.\n",
        "\n",
        "Let's define a python function to print memory address of original_array, copy_array, and view_array."
      ],
      "metadata": {
        "id": "L5vHznP_jINK"
      }
    },
    {
      "cell_type": "code",
      "source": [
        "import ctypes\n",
        "\n",
        "def get_memory_address(arr):\n",
        "    return arr.__array_interface__[\"data\"][0]"
      ],
      "metadata": {
        "id": "yJrQwCwrcZbS"
      },
      "execution_count": null,
      "outputs": []
    },
    {
      "cell_type": "code",
      "source": [
        "# memory address of base array\n",
        "# print(get_memory_address(base_arr))"
      ],
      "metadata": {
        "id": "67s_zBh4dPko"
      },
      "execution_count": null,
      "outputs": []
    },
    {
      "cell_type": "code",
      "source": [
        "# memory address of view array\n",
        "# print(get_memory_address(view_arr))"
      ],
      "metadata": {
        "id": "8ySftcPjdWG5"
      },
      "execution_count": null,
      "outputs": []
    },
    {
      "cell_type": "code",
      "source": [
        "# memory address of copy array\n",
        "# print(get_memory_address(copy_arr))"
      ],
      "metadata": {
        "id": "aYaEa8hFdaMC"
      },
      "execution_count": null,
      "outputs": []
    },
    {
      "cell_type": "markdown",
      "source": [
        "- `memory address of base array and view array is same`\n",
        "- `memory address of base array and copy array is different`"
      ],
      "metadata": {
        "id": "GoePNjHrmHDK"
      }
    },
    {
      "cell_type": "markdown",
      "source": [
        "**updating content of view array changes original base array**"
      ],
      "metadata": {
        "id": "S1fgKLaGnNvv"
      }
    },
    {
      "cell_type": "code",
      "source": [
        "# update item at index=0 from view array\n"
      ],
      "metadata": {
        "id": "XVvdVfedmDp3"
      },
      "execution_count": null,
      "outputs": []
    },
    {
      "cell_type": "code",
      "source": [
        "# verify changes in base array\n"
      ],
      "metadata": {
        "colab": {
          "base_uri": "https://localhost:8080/"
        },
        "id": "8qS1YtPcniJ6",
        "outputId": "ffa851d7-2871-4a72-db4c-84f92e3e1669"
      },
      "execution_count": null,
      "outputs": [
        {
          "output_type": "stream",
          "name": "stdout",
          "text": [
            "[100   2   3   4   5   6]\n"
          ]
        }
      ]
    },
    {
      "cell_type": "code",
      "source": [
        "# but, copy array is unchanged\n"
      ],
      "metadata": {
        "id": "ll4UBT6CnmaW"
      },
      "execution_count": null,
      "outputs": []
    },
    {
      "cell_type": "markdown",
      "source": [
        "- Thus,\n",
        "  - updating content of view array, updates original array\n",
        "  - updating content of copy array, doesn't changes the original array"
      ],
      "metadata": {
        "id": "ORZ5SsWsnyfU"
      }
    },
    {
      "cell_type": "markdown",
      "source": [
        "### 6. Subarrays as no-copy view\n",
        "- Subarrays created via slicing original arrays is the view of an original arrays.\n",
        "- Changing content in the sliced array, changes the original array as well."
      ],
      "metadata": {
        "id": "D3NbowZCoj67"
      }
    },
    {
      "cell_type": "code",
      "source": [
        "# create new 1D array of shape: (9, )\n",
        "base_arr = np.array([1, 2, 3, 4, 5, 6, 7, 8, 3])\n",
        "print(base_arr)"
      ],
      "metadata": {
        "id": "ar7IvP7_nwgV"
      },
      "execution_count": null,
      "outputs": []
    },
    {
      "cell_type": "code",
      "source": [
        "# sliced first 3 items\n",
        "slice_arr = None"
      ],
      "metadata": {
        "id": "LHZTXrnSpLMA"
      },
      "execution_count": null,
      "outputs": []
    },
    {
      "cell_type": "code",
      "source": [
        "# test memory address\n",
        "# print(get_memory_address(base_arr))\n",
        "# print(get_memory_address(sliced_arr))"
      ],
      "metadata": {
        "id": "PJbcMEecpOmy"
      },
      "execution_count": null,
      "outputs": []
    },
    {
      "cell_type": "markdown",
      "source": [
        "- `Memory address of original array and sliced array is same.`\n",
        "- `Updating sliced array content also updates the original array content and vice-versa.`\n"
      ],
      "metadata": {
        "id": "eJ549yOTpY8z"
      }
    },
    {
      "cell_type": "code",
      "source": [],
      "metadata": {
        "id": "sHO3-lHvpXYw"
      },
      "execution_count": null,
      "outputs": []
    },
    {
      "cell_type": "markdown",
      "source": [
        "### 7. Reshaping of Arrays\n",
        "- The shape of an array is number of element in each dimensions like (2, 3).\n",
        "- Reshaping means changing the shape of an array.\n",
        "- By reshaping we can add or remove dimensions or change the number of elements in each dimension.\n",
        "- **Example:**\n",
        "  - Resphape 1D to 2D\n",
        "  - Reshape 1D to 3D\n",
        "\n"
      ],
      "metadata": {
        "id": "L9cJprbyqbsQ"
      }
    },
    {
      "cell_type": "markdown",
      "source": [
        "#### 7.1 Reshape 1D to 2D  \n",
        "**`Q. Reshape following 1D array with 12 elements to 2D array of shape (4, 3)`**\n",
        "\n",
        "  - arr = np.array([1, 2, 3, 4, 5, 6, 7, 8, 9, 10, 11, 12])\n",
        "\n"
      ],
      "metadata": {
        "id": "Z8AGf-2UuGVJ"
      }
    },
    {
      "cell_type": "code",
      "source": [
        "# write your program here\n"
      ],
      "metadata": {
        "id": "4NhsQhgouFxH"
      },
      "execution_count": null,
      "outputs": []
    },
    {
      "cell_type": "markdown",
      "source": [
        "#### 7.2 Reshape 1D to 3D\n",
        "\n",
        "**`Q. Reshape following 1D array with 12 elements to 3D array of shape (2, 3, 2)`**\n",
        "- arr = np.array([1, 2, 3, 4, 5, 6, 7, 8, 9, 10, 11, 12])\n",
        "\n"
      ],
      "metadata": {
        "id": "2Wo5Qd0AuSQ_"
      }
    },
    {
      "cell_type": "code",
      "source": [
        "# write your program here\n"
      ],
      "metadata": {
        "id": "BCwUS3HhuT9D"
      },
      "execution_count": null,
      "outputs": []
    },
    {
      "cell_type": "markdown",
      "source": [
        "#### 7.3 Can we reshape to any shape?\n",
        "- Yes, as long as element required for reshaping are equal in both shapes.\n",
        "\n",
        "**`Q. Convert 1D array with 8 elements to a 2D array with shape (3, 3)`**\n",
        "- arr = np.array([1, 2, 3, 4, 5, 6, 7, 8])\n"
      ],
      "metadata": {
        "id": "MvHnUCX_vPhr"
      }
    },
    {
      "cell_type": "code",
      "source": [
        "# write your program here\n"
      ],
      "metadata": {
        "id": "V_I0pi8jvs6w"
      },
      "execution_count": null,
      "outputs": []
    },
    {
      "cell_type": "markdown",
      "source": [
        "- This process raise an exception, since there are 8 elements before reshaping and 9 elements after reshaping.\n",
        "- For reshaping to happen, number of elements before reshaping should be equal to number of elements after reshaping."
      ],
      "metadata": {
        "id": "EbQOTCfQwh3_"
      }
    },
    {
      "cell_type": "code",
      "source": [],
      "metadata": {
        "id": "1Wzmdqojwd82"
      },
      "execution_count": null,
      "outputs": []
    },
    {
      "cell_type": "markdown",
      "source": [
        "### 8. Joining Arrays\n",
        "- Array Joining means putting content of two or more array in a single array\n",
        "- In SQL  we join tables based on keys, whereas in NumPy we join arrays by axes.\n",
        "- Array Joining can be done in two ways:\n",
        "  - `Concatenation:` using concatenate() function\n",
        "  - `Stacking:` using stack() function\n",
        "\n"
      ],
      "metadata": {
        "id": "EHKtHAAXyoZ_"
      }
    },
    {
      "cell_type": "markdown",
      "source": [
        "#### 8.1 Concatenation\n",
        "- We pass  sequence of arrays that we want to the **concatenate()** function.\n",
        "- After concatenating dimensions of resulting array will be same as that of individual array.\n",
        "- Order of concatenation will be based on the order in which array are passed to the **concatenate()** function.\n",
        "\n",
        "- **Syntax:**\n",
        "  - `np.concatenate((a1, a2,....), axis=0, out=None)`\n",
        "    - a1, a2, … :  Sequence of array_like. The array must  have the same shape\n",
        "    - axis: Int, optional.  axis along which array will be concatenated\n",
        "    - out: ndarray, optional.  The destination to place the result."
      ],
      "metadata": {
        "id": "3PyxFvPHzBrU"
      }
    },
    {
      "cell_type": "markdown",
      "source": [
        "**Q. Concatenate 1D Array**"
      ],
      "metadata": {
        "id": "hrqb4c-3z_t1"
      }
    },
    {
      "cell_type": "code",
      "source": [
        "# write your program here\n"
      ],
      "metadata": {
        "id": "KjHE8dKny_AC"
      },
      "execution_count": null,
      "outputs": []
    },
    {
      "cell_type": "markdown",
      "source": [
        "**Q. Concatenate 2D Array (axis = 0)**"
      ],
      "metadata": {
        "id": "xlLHFl7X0F4J"
      }
    },
    {
      "cell_type": "code",
      "source": [
        "# write your program here\n"
      ],
      "metadata": {
        "id": "skBa8-500FYj"
      },
      "execution_count": null,
      "outputs": []
    },
    {
      "cell_type": "markdown",
      "source": [
        "**Q. Concatenate 2D Array (axis = 1)**"
      ],
      "metadata": {
        "id": "UP6XFoja0axP"
      }
    },
    {
      "cell_type": "code",
      "source": [
        "# write your program here\n"
      ],
      "metadata": {
        "id": "PGp6VPKW0aWX"
      },
      "execution_count": null,
      "outputs": []
    },
    {
      "cell_type": "markdown",
      "source": [
        "### 9. Splitting Arrays\n",
        "- Splitting is reverse operations of joining\n",
        "- Joining merges multiple arrays into one.\n",
        "- Splitting breaks one array into multiple one.\n",
        "- Can be implemented using numpy functions:\n",
        "  - `numpy.split()`\n",
        "  - `numpy.array_split()`\n",
        "\n",
        "- We pass array we want to split and the number of split.\n",
        "- Sub-arrays obtained after splitting is only view of the original arrays.\n",
        "  - Changes made to the sub-arrays also reflect changes in the original array.\n"
      ],
      "metadata": {
        "id": "5IPkaFhL0pyZ"
      }
    },
    {
      "cell_type": "markdown",
      "source": [
        "**Splitting 1D array i.e. [1, 2, 3, 4, 5, 6] into 4 parts**"
      ],
      "metadata": {
        "id": "7rQjilm9i-M0"
      }
    },
    {
      "cell_type": "code",
      "source": [
        "# initialize array\n",
        "split_array = np.array([1, 2, 3, 4, 5, 6])\n",
        "print(split_array)"
      ],
      "metadata": {
        "colab": {
          "base_uri": "https://localhost:8080/"
        },
        "id": "jQQ1oxq3jRE0",
        "outputId": "ac1063a0-8ed2-486a-f9b2-15d208c5ba61"
      },
      "execution_count": null,
      "outputs": [
        {
          "output_type": "stream",
          "name": "stdout",
          "text": [
            "[1 2 3 4 5 6 7 8 9]\n"
          ]
        }
      ]
    },
    {
      "cell_type": "code",
      "source": [
        "# 1. using numpy.split()\n",
        "# Hint: .split(array, 4)\n"
      ],
      "metadata": {
        "colab": {
          "base_uri": "https://localhost:8080/"
        },
        "id": "KsG3PWT10m5k",
        "outputId": "d0b1cd4f-31d4-4a50-a3fb-70c172ff4d51"
      },
      "execution_count": null,
      "outputs": [
        {
          "output_type": "execute_result",
          "data": {
            "text/plain": [
              "[array([1, 2]), array([3, 4]), array([5, 6]), array([7, 8])]"
            ]
          },
          "metadata": {},
          "execution_count": 8
        }
      ]
    },
    {
      "cell_type": "code",
      "source": [
        "# 2. using numpy.array_split()\n",
        "# Hint: .array_split(array, 4)\n"
      ],
      "metadata": {
        "id": "NoTykq9ajiME"
      },
      "execution_count": null,
      "outputs": []
    },
    {
      "cell_type": "markdown",
      "source": [
        "**Splitting 2D array (axis = 0)**"
      ],
      "metadata": {
        "id": "1En57P2ck25p"
      }
    },
    {
      "cell_type": "code",
      "source": [
        "# Define array\n",
        "split_array_2d = np.array([\n",
        "    [1, 2, 3],\n",
        "    [4, 5, 6],\n",
        "    [7, 8, 9],\n",
        "    [10, 11, 12],\n",
        "    [13, 14, 15],\n",
        "    [16, 17, 18]\n",
        "])"
      ],
      "metadata": {
        "id": "al0gp6I8kVcq"
      },
      "execution_count": null,
      "outputs": []
    },
    {
      "cell_type": "code",
      "source": [
        "# 1. using array_split for 3 split\n",
        "# Hint: .array_split(array, 3)\n"
      ],
      "metadata": {
        "id": "jDJtsvlElpoT"
      },
      "execution_count": null,
      "outputs": []
    },
    {
      "cell_type": "code",
      "source": [
        "# 2. using split for 3 split\n",
        "# Hint: .split(array, 3)\n"
      ],
      "metadata": {
        "id": "sNEqOqWQl1Vl"
      },
      "execution_count": null,
      "outputs": []
    },
    {
      "cell_type": "markdown",
      "source": [
        "**Splitting 2D array (axis = 1)**"
      ],
      "metadata": {
        "id": "AqOxzMTumV3v"
      }
    },
    {
      "cell_type": "code",
      "source": [
        "# 1. using array_split\n",
        "# Hint: .array_split(array, 3, axis=1)\n"
      ],
      "metadata": {
        "id": "nalfssHkmW-w"
      },
      "execution_count": null,
      "outputs": []
    },
    {
      "cell_type": "code",
      "source": [
        "# 1. using split\n",
        "# Hint: .split(array, 3, axis=1)\n"
      ],
      "metadata": {
        "id": "qiMoih2joCHN"
      },
      "execution_count": null,
      "outputs": []
    },
    {
      "cell_type": "code",
      "source": [],
      "metadata": {
        "id": "kOgMTmN8oS7v"
      },
      "execution_count": null,
      "outputs": []
    },
    {
      "cell_type": "markdown",
      "source": [
        "### 9. Numpy Universal Functions (Ufuncs)\n",
        "- Looping over the array to perform repeated task like addition, subtraction, etc on each array element are common.\n",
        "- Computation time to perform such repeated task increases with relatively larger data.\n",
        "- NumPy makes this faster by using vectorized operations, implemented through **ufuncs**\n",
        "- **Types:**\n",
        "  - `Unary Ufuncs`\n",
        "    - Operates on single inputs.\n",
        "    - Example: negation of input array x\n",
        "\n",
        "  - `Binary Ufuncs`\n",
        "    - Operates on two inputs.\n",
        "    - Example: addition of two input array x and y\n",
        "\n",
        "\n",
        "\n",
        "| Operator | Equivalent ufunc | Description |  \n",
        "|----------|------------------|-------------|\n",
        "| `+`      | `np.add`         | Element-wise addition (e..g 1+1 = 2) |\n",
        "| `-`      | `np.subtract`    | Element-wise subtraction (e.g. 1-1 = 0) |\n",
        "| `*`      | `np.multiply`    | Element-wise multiplication (e.g. 1*1 = 1) |\n",
        "| `/`      | `np.divide`      | Element-wise division (e.g. 1/1 = 1) |\n",
        "| `//`     | `np.floor_divide`| Element-wise floor division (e.g. 1//1 = 1)|\n",
        "| `%`      | `np.mod`         | Element-wise modulo (e.g. 1%1 = 0)|\n",
        "| `**`     | `np.power`       | Element-wise exponentiation (e.g. 1**1 = 1)|\n",
        "| `abs()`  | `np.abs`         | Element-wise absolute value(e.g. np.abs(-1) = 1) |"
      ],
      "metadata": {
        "id": "fBemc-a5oheZ"
      }
    },
    {
      "cell_type": "markdown",
      "source": [
        "#### 9.1 Computation Time (without Ufuncs)\n"
      ],
      "metadata": {
        "id": "GqF5z7fmqmy8"
      }
    },
    {
      "cell_type": "code",
      "source": [
        "# write your program here\n"
      ],
      "metadata": {
        "id": "YsnFSF47pCJ-"
      },
      "execution_count": null,
      "outputs": []
    },
    {
      "cell_type": "markdown",
      "source": [
        "#### 9.2 Computation Time (with Ufuncs)\n"
      ],
      "metadata": {
        "id": "f4XG8s8xq0rC"
      }
    },
    {
      "cell_type": "code",
      "source": [
        "# write your program here\n"
      ],
      "metadata": {
        "id": "BA6PgaJLqzjP"
      },
      "execution_count": null,
      "outputs": []
    },
    {
      "cell_type": "markdown",
      "source": [
        "- **Note:**\n",
        "  - Using Ufuncs, computation time is less compared to classic python for loops.\n",
        "  - The reason behind less computation time using ufuncs is due to **Vectorization**"
      ],
      "metadata": {
        "id": "phQ5Gyw4rptC"
      }
    },
    {
      "cell_type": "markdown",
      "source": [
        "### 10. Vectorization\n",
        "\n",
        "- It’s a technique in order to getting rid of  explicit for loop in python.\n",
        "- Vectorization can be performed using parallelization instruction called\n",
        " **SIMD** instruction.\n",
        " - SIMD stands for single instruction multiple data.\n",
        " - In python SIMD is enabled through Ufuncs.\n",
        "  - Helps python NumPy to take much better advantage of parallelism to do computation faster.\n",
        "\n",
        "\n",
        "- **Deep Learning**\n",
        "    - Famous in different task such as Classification, Segmentation, Detection, etc.\n",
        "    - Deep Learning demands large number of data that helps model to generalize.\n",
        "    - Large number of training set leads to large number of time to run the code i.e. need to wait long time to get the result.\n",
        "    - So, in deep learning ability to perform vectorization has become key skill.\n",
        "\n",
        "- **Note:**\n",
        "  - whenever possible avoid using explicit for loops\n",
        "\n",
        "\n",
        "\n"
      ],
      "metadata": {
        "id": "U7GCel4ctZyD"
      }
    },
    {
      "cell_type": "code",
      "source": [],
      "metadata": {
        "id": "ldsv23I5q_un"
      },
      "execution_count": null,
      "outputs": []
    },
    {
      "cell_type": "markdown",
      "source": [
        "### 11. Broadcasting in Python\n",
        "- Broadcasting is a powerful feature in NumPy that allows for element-wise operations between arrays of different shapes and sizes.\n",
        "- What will happen if we add 2 numpy array of different shapes?\n",
        "  - This can be answered using the concepts of Broadcasting.\n",
        "\n",
        "\n",
        "- **Working:**\n",
        "  - NumPy performs broadcasting by automatically expanding dimensions of smaller arrays to match the shape of larger arrays.\n",
        "  - Broadcasting follows a set of rules to determine how dimensions should be aligned for element-wise operations.\n",
        "\n",
        "- **Broadcasting Rules:**\n",
        "  - `Rule 1: `\n",
        "    - If the two arrays differ in their number of dimensions, the shape of the one with fewer dimensions is padded with ones on its leading (left) side.\n",
        "\n",
        "  - `Rule 2:`\n",
        "    - If the shape of the two arrays does not match in any dimension, the array with shape equal to 1 in that dimension is stretched to match the other shape.\n",
        "\n",
        "  - `Rule 3:`\n",
        "    - If in any dimension the sizes disagree and neither is equal to 1, an error is raised."
      ],
      "metadata": {
        "id": "NIDJb3B9t9oy"
      }
    },
    {
      "cell_type": "markdown",
      "source": [
        "**1. Broadcasting with Scalars**"
      ],
      "metadata": {
        "id": "JFy6bLjPxPMa"
      }
    },
    {
      "cell_type": "code",
      "source": [
        "# write your program here\n",
        "\n",
        "a = np.array([1, 2, 3])\n",
        "b = 2\n",
        "\n",
        "print(a + b)"
      ],
      "metadata": {
        "colab": {
          "base_uri": "https://localhost:8080/"
        },
        "id": "t9MFfug6uAx9",
        "outputId": "16ea32e8-b6ef-4510-df69-e39ff5f5e927"
      },
      "execution_count": null,
      "outputs": [
        {
          "output_type": "stream",
          "name": "stdout",
          "text": [
            "[3 4 5]\n"
          ]
        }
      ]
    },
    {
      "cell_type": "markdown",
      "source": [
        "- `Explanation:`\n",
        "  - shape of a: (3,)\n",
        "  - shape of b: None\n",
        "\n",
        "  - Rule1: Make shape of b to that of a\n",
        "    - i.e. shape of b: (1,)\n",
        "\n",
        "  - Rule2: Stretched b to make shape equal to a\n",
        "    - i.e. shape of b: (3,)\n",
        "\n",
        "  - Both a and b are of same shape Perform addition"
      ],
      "metadata": {
        "id": "EED5FUSt1RMg"
      }
    },
    {
      "cell_type": "markdown",
      "source": [
        "**2. Broadcasting with 1D and 2D Arrays**"
      ],
      "metadata": {
        "id": "NahqGE85xSQP"
      }
    },
    {
      "cell_type": "code",
      "source": [
        "# write your program here\n",
        "\n",
        "a = np.array([1, 2, 3])\n",
        "b = np.array([[10], [20], [30]])\n",
        "\n",
        "print(f\"shape of a: {a.shape}\")\n",
        "print(f\"shape of b: {b.shape}\")\n",
        "\n",
        "print(f\"\\na + b = {a + b}\")"
      ],
      "metadata": {
        "colab": {
          "base_uri": "https://localhost:8080/"
        },
        "id": "08IOXsu3xXMA",
        "outputId": "f22f7bd0-0924-4a53-eeb3-3a464be589d6"
      },
      "execution_count": null,
      "outputs": [
        {
          "output_type": "stream",
          "name": "stdout",
          "text": [
            "shape of a: (3,)\n",
            "shape of b: (3, 1)\n",
            "\n",
            "a + b = [[11 12 13]\n",
            " [21 22 23]\n",
            " [31 32 33]]\n"
          ]
        }
      ]
    },
    {
      "cell_type": "markdown",
      "source": [
        "- `Explanation:`\n",
        "  - a is 1 dimension less to that b.\n",
        "\n",
        "  - Rule1: increase dimension of a by adding 1 in left side.\n",
        "    - new shape of a: (1, 3)\n",
        "\n",
        "  - Rule2:\n",
        "    - stretch dimension 1 of a to match to dimension of b\n",
        "      - shape: (3, 3)\n",
        "    - stretch dimesion 1 of b to match to dimension of a\n",
        "      - shape: (3, 3)\n",
        "\n",
        "  - Perform addition, since shape of 2 arrays are same"
      ],
      "metadata": {
        "id": "8xu4y_QZ2L4K"
      }
    },
    {
      "cell_type": "markdown",
      "source": [
        "**3. Broadcasting with Incompatible Shapes**"
      ],
      "metadata": {
        "id": "j_7utEuGxfDk"
      }
    },
    {
      "cell_type": "code",
      "source": [
        "# write your program here\n",
        "a = np.array([1, 3])\n",
        "b = np.array([1, 2, 3])\n",
        "\n",
        "print(a + b)"
      ],
      "metadata": {
        "colab": {
          "base_uri": "https://localhost:8080/",
          "height": 218
        },
        "id": "pD3HDh7Jxa9Z",
        "outputId": "9d34b209-c5b1-4f16-8d38-eebac72a8c17"
      },
      "execution_count": null,
      "outputs": [
        {
          "output_type": "error",
          "ename": "ValueError",
          "evalue": "ignored",
          "traceback": [
            "\u001b[0;31m---------------------------------------------------------------------------\u001b[0m",
            "\u001b[0;31mValueError\u001b[0m                                Traceback (most recent call last)",
            "\u001b[0;32m<ipython-input-40-a622059c572f>\u001b[0m in \u001b[0;36m<cell line: 5>\u001b[0;34m()\u001b[0m\n\u001b[1;32m      3\u001b[0m \u001b[0mb\u001b[0m \u001b[0;34m=\u001b[0m \u001b[0mnp\u001b[0m\u001b[0;34m.\u001b[0m\u001b[0marray\u001b[0m\u001b[0;34m(\u001b[0m\u001b[0;34m[\u001b[0m\u001b[0;36m1\u001b[0m\u001b[0;34m,\u001b[0m \u001b[0;36m2\u001b[0m\u001b[0;34m,\u001b[0m \u001b[0;36m3\u001b[0m\u001b[0;34m]\u001b[0m\u001b[0;34m)\u001b[0m\u001b[0;34m\u001b[0m\u001b[0;34m\u001b[0m\u001b[0m\n\u001b[1;32m      4\u001b[0m \u001b[0;34m\u001b[0m\u001b[0m\n\u001b[0;32m----> 5\u001b[0;31m \u001b[0mprint\u001b[0m\u001b[0;34m(\u001b[0m\u001b[0ma\u001b[0m \u001b[0;34m+\u001b[0m \u001b[0mb\u001b[0m\u001b[0;34m)\u001b[0m\u001b[0;34m\u001b[0m\u001b[0;34m\u001b[0m\u001b[0m\n\u001b[0m",
            "\u001b[0;31mValueError\u001b[0m: operands could not be broadcast together with shapes (2,) (3,) "
          ]
        }
      ]
    },
    {
      "cell_type": "markdown",
      "source": [
        "- `Explanation:`\n",
        "  - Both array a and b are of same dimensions. So Rule 1 is not applicable.\n",
        "  - Neither of array a and b have dimension 1 to stretch for making both array of same size. So, Rule 2 is not applicable.\n",
        "  \n",
        "  - Addition is not possible, since arrays are of different shape"
      ],
      "metadata": {
        "id": "lYr-C-b24grL"
      }
    },
    {
      "cell_type": "code",
      "source": [],
      "metadata": {
        "id": "uMUnUHrgy0Fc"
      },
      "execution_count": null,
      "outputs": []
    },
    {
      "cell_type": "markdown",
      "source": [
        "### 12. Numpy Aggregations\n",
        "- It is the process of summarizing large dataset into a smaller set of values that capture key characteristics of the data.\n",
        "- Numpy consists of set of functions that allows user to perform aggregations operations on datasets.\n",
        "\n",
        "| Function Name | NaN-safe Version | Description |\n",
        "|---------------|------------------|-------------|\n",
        "| np.prod       | np.nanprod       | Compute product of elements |\n",
        "| np.mean       | np.nanmean       | Compute mean of elements |\n",
        "| np.std        | np.nanstd        | Compute standard deviation |\n",
        "| np.var        | np.nanvar        | Compute variance |\n",
        "| np.min        | np.nanmin        | Find minimum value |\n",
        "| np.max        | np.nanmax        | Find maximum value |\n",
        "| np.argmin     | np.nanargmin     | Find index of minimum value |\n",
        "| np.argmax     | np.nanargmax     | Find index of maximum value |\n",
        "| np.median     | np.nanmedian     | Compute median of elements |\n",
        "| np.percentile | np.nanpercentile | Compute rank-based statistics |\n",
        "| np.any        | N/A              | Evaluate whether any elements are true |\n",
        "| np.all        | N/A              | Evaluate whether all elements are true |\n",
        "\n"
      ],
      "metadata": {
        "id": "XBXYGa1H8rKJ"
      }
    },
    {
      "cell_type": "code",
      "source": [
        "# Define sample array\n",
        "arr = np.array([1, 2, 3, 4, 5, 6, 7, 8])"
      ],
      "metadata": {
        "id": "9_Sp5Ik19DsO"
      },
      "execution_count": null,
      "outputs": []
    },
    {
      "cell_type": "code",
      "source": [
        "# compute mean\n",
        "# Hint: np.mean(arr)\n"
      ],
      "metadata": {
        "id": "vtddbZGM9bdh"
      },
      "execution_count": null,
      "outputs": []
    },
    {
      "cell_type": "code",
      "source": [
        "# compute standard deviation\n",
        "# Hint: np.std(arr)\n"
      ],
      "metadata": {
        "id": "BFdd05LY9f5l"
      },
      "execution_count": null,
      "outputs": []
    },
    {
      "cell_type": "code",
      "source": [
        "# compute variance\n",
        "# Hint: np.var(arr)\n"
      ],
      "metadata": {
        "id": "_-RJxNhR9kjT"
      },
      "execution_count": null,
      "outputs": []
    },
    {
      "cell_type": "code",
      "source": [
        "# get min value\n",
        "# Hint: np.min(arr)\n"
      ],
      "metadata": {
        "id": "NC-21o-t9nX-"
      },
      "execution_count": null,
      "outputs": []
    },
    {
      "cell_type": "code",
      "source": [
        "# get max value\n",
        "# Hint: np.max(arr)\n"
      ],
      "metadata": {
        "id": "cqU_2YmZ9rZv"
      },
      "execution_count": null,
      "outputs": []
    },
    {
      "cell_type": "code",
      "source": [
        "# get index of min value\n",
        "# Hint: np.argmin(arr)\n"
      ],
      "metadata": {
        "id": "OgbNFaU69t5m"
      },
      "execution_count": null,
      "outputs": []
    },
    {
      "cell_type": "code",
      "source": [
        "# get index of max value\n",
        "# Hint: np.argmax(arr)\n"
      ],
      "metadata": {
        "id": "_rin_Pc69x9v"
      },
      "execution_count": null,
      "outputs": []
    },
    {
      "cell_type": "code",
      "source": [
        "# get 25% percentile\n",
        "# Hint: np.percentile(arr, 25)\n"
      ],
      "metadata": {
        "id": "F3KBiRnB93-j"
      },
      "execution_count": null,
      "outputs": []
    },
    {
      "cell_type": "code",
      "source": [
        "# check if any value is less than 3\n",
        "# Hint: np.any(arr<3)\n"
      ],
      "metadata": {
        "id": "St5VOIXK9-cV"
      },
      "execution_count": null,
      "outputs": []
    },
    {
      "cell_type": "code",
      "source": [
        "# check if all values are less than 3\n",
        "# Hint: np.all(arr<3)\n"
      ],
      "metadata": {
        "id": "7UrIZzJI-ce2"
      },
      "execution_count": null,
      "outputs": []
    },
    {
      "cell_type": "code",
      "source": [],
      "metadata": {
        "id": "_IDaD3WN-_ih"
      },
      "execution_count": null,
      "outputs": []
    },
    {
      "cell_type": "markdown",
      "source": [
        "### 12. Numpy Random Numbers\n"
      ],
      "metadata": {
        "id": "rPaQzHWu_E7K"
      }
    },
    {
      "cell_type": "code",
      "source": [],
      "metadata": {
        "id": "_XxrMHR-_Gmr"
      },
      "execution_count": null,
      "outputs": []
    }
  ],
  "metadata": {
    "kernelspec": {
      "display_name": "Python 3",
      "language": "python",
      "name": "python3"
    },
    "language_info": {
      "codemirror_mode": {
        "name": "ipython",
        "version": 3
      },
      "file_extension": ".py",
      "mimetype": "text/x-python",
      "name": "python",
      "nbconvert_exporter": "python",
      "pygments_lexer": "ipython3",
      "version": "3.8.10"
    },
    "orig_nbformat": 4,
    "colab": {
      "provenance": [],
      "toc_visible": true
    }
  },
  "nbformat": 4,
  "nbformat_minor": 0
}